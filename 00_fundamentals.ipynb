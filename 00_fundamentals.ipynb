{
  "nbformat": 4,
  "nbformat_minor": 0,
  "metadata": {
    "colab": {
      "provenance": [],
      "gpuType": "T4",
      "authorship_tag": "ABX9TyMu+YXKS8sLpPd6vvBE0P/0"
    },
    "kernelspec": {
      "name": "python3",
      "display_name": "Python 3"
    },
    "language_info": {
      "name": "python"
    },
    "accelerator": "GPU"
  },
  "cells": [
    {
      "cell_type": "markdown",
      "source": [
        "# Fundamentals of PyTorch"
      ],
      "metadata": {
        "id": "xDx6Ae-P8wDw"
      }
    },
    {
      "cell_type": "code",
      "execution_count": 50,
      "metadata": {
        "id": "-DSnIaqH8Yhd"
      },
      "outputs": [],
      "source": [
        "import torch\n",
        "import pandas as pd\n",
        "import numpy as np\n",
        "import matplotlib.pyplot as plt\n",
        "# print(torch.__version__)"
      ]
    },
    {
      "cell_type": "markdown",
      "source": [
        "## Introduction to Tensors\n",
        "\n",
        "<img src=\"https://miro.medium.com/v2/resize:fit:1008/0*zcidDaCCmJeD8y-9.png\"  height=\"100\" alt=\"Difference between scalar vector matrix and tensor\">\n",
        "\n",
        "Creating tensors using **torch.tensor()**"
      ],
      "metadata": {
        "id": "2YNDiHI59ueu"
      }
    },
    {
      "cell_type": "markdown",
      "source": [
        "### Convention\n",
        "\n",
        "- scalar and vector variables are written in smaller letters\n",
        "\n",
        "- MATRIX and VECTOR variables are written in all capital letters"
      ],
      "metadata": {
        "id": "k5MGNBn5DxcN"
      }
    },
    {
      "cell_type": "code",
      "source": [
        "scalar = torch.tensor(7)\n",
        "scalar"
      ],
      "metadata": {
        "colab": {
          "base_uri": "https://localhost:8080/"
        },
        "id": "0sYsZDGJ91le",
        "outputId": "769f69e0-af9a-475d-8d37-be62f7ecfdf4"
      },
      "execution_count": 51,
      "outputs": [
        {
          "output_type": "execute_result",
          "data": {
            "text/plain": [
              "tensor(7)"
            ]
          },
          "metadata": {},
          "execution_count": 51
        }
      ]
    },
    {
      "cell_type": "code",
      "source": [
        "# Get tensor back as a Python int\n",
        "scalar.item()"
      ],
      "metadata": {
        "colab": {
          "base_uri": "https://localhost:8080/"
        },
        "id": "EWnGWSm_-g6v",
        "outputId": "f95f5c72-28d6-40a0-a929-a5968547d4f1"
      },
      "execution_count": 52,
      "outputs": [
        {
          "output_type": "execute_result",
          "data": {
            "text/plain": [
              "7"
            ]
          },
          "metadata": {},
          "execution_count": 52
        }
      ]
    },
    {
      "cell_type": "markdown",
      "source": [
        "### Vector\n",
        "Vector has a magnitude and direction"
      ],
      "metadata": {
        "id": "-QOJyCBE-she"
      }
    },
    {
      "cell_type": "code",
      "source": [
        "vector = torch.tensor([7,7])\n",
        "vector"
      ],
      "metadata": {
        "colab": {
          "base_uri": "https://localhost:8080/"
        },
        "id": "rPaI4Pz8-lZM",
        "outputId": "cf58ee3c-4ebd-4e5f-8760-558a97f2bf9c"
      },
      "execution_count": 53,
      "outputs": [
        {
          "output_type": "execute_result",
          "data": {
            "text/plain": [
              "tensor([7, 7])"
            ]
          },
          "metadata": {},
          "execution_count": 53
        }
      ]
    },
    {
      "cell_type": "markdown",
      "source": [
        "### _Dimensions_\n",
        "\n",
        "Easy way to remember is ->\n",
        "**dimension = number of square brackets**  "
      ],
      "metadata": {
        "id": "BDucRfgk_hv_"
      }
    },
    {
      "cell_type": "code",
      "source": [
        "# get the dimensions of tensor\n",
        "vector.ndim"
      ],
      "metadata": {
        "colab": {
          "base_uri": "https://localhost:8080/"
        },
        "id": "DFHJNsBm-d4H",
        "outputId": "6901df2d-5896-4008-ede5-aa37ec8be9ff"
      },
      "execution_count": 54,
      "outputs": [
        {
          "output_type": "execute_result",
          "data": {
            "text/plain": [
              "1"
            ]
          },
          "metadata": {},
          "execution_count": 54
        }
      ]
    },
    {
      "cell_type": "markdown",
      "source": [
        "### _Shape_\n",
        "\n",
        "eg: [7, 7] - we have **2** x 1 elements"
      ],
      "metadata": {
        "id": "889hR-ss_5Ll"
      }
    },
    {
      "cell_type": "code",
      "source": [
        "vector.shape"
      ],
      "metadata": {
        "colab": {
          "base_uri": "https://localhost:8080/"
        },
        "id": "mAhngn7I_5fW",
        "outputId": "4c9dbb6e-939c-4ef1-b1f0-a223411ee565"
      },
      "execution_count": 55,
      "outputs": [
        {
          "output_type": "execute_result",
          "data": {
            "text/plain": [
              "torch.Size([2])"
            ]
          },
          "metadata": {},
          "execution_count": 55
        }
      ]
    },
    {
      "cell_type": "markdown",
      "source": [
        "### MATRIX"
      ],
      "metadata": {
        "id": "SmuiC4SJA0EF"
      }
    },
    {
      "cell_type": "code",
      "source": [
        "MATRIX = torch.tensor([[7, 8],\n",
        "                       [9, 10]])\n",
        "\n",
        "print(MATRIX.ndim)\n",
        "print(MATRIX.shape)\n",
        "\n",
        "# accessing the first row\n",
        "print(MATRIX[0])"
      ],
      "metadata": {
        "colab": {
          "base_uri": "https://localhost:8080/"
        },
        "id": "mhg1H-wSAz1w",
        "outputId": "ee534d06-4766-447a-c56e-ee3e629aa2b3"
      },
      "execution_count": 56,
      "outputs": [
        {
          "output_type": "stream",
          "name": "stdout",
          "text": [
            "2\n",
            "torch.Size([2, 2])\n",
            "tensor([7, 8])\n"
          ]
        }
      ]
    },
    {
      "cell_type": "markdown",
      "source": [
        "### TENSOR"
      ],
      "metadata": {
        "id": "d4seXAKrBxPv"
      }
    },
    {
      "cell_type": "code",
      "source": [
        "TENSOR = torch.tensor([[[1,2,3],\n",
        "                        [3,6,9],\n",
        "                        [2,4,5]]])\n",
        "\n",
        "print(TENSOR)"
      ],
      "metadata": {
        "colab": {
          "base_uri": "https://localhost:8080/"
        },
        "id": "j6AmtNVrBxgF",
        "outputId": "11171361-9e57-40fe-f067-d476308a2cfa"
      },
      "execution_count": 57,
      "outputs": [
        {
          "output_type": "stream",
          "name": "stdout",
          "text": [
            "tensor([[[1, 2, 3],\n",
            "         [3, 6, 9],\n",
            "         [2, 4, 5]]])\n"
          ]
        }
      ]
    },
    {
      "cell_type": "markdown",
      "source": [
        "### _Dimension of a Tensor_\n",
        "\n",
        "<img src=\"https://raw.githubusercontent.com/mrdbourke/pytorch-deep-learning/main/images/00-pytorch-different-tensor-dimensions.png\" height=250>"
      ],
      "metadata": {
        "id": "iAXDCfcQC9xd"
      }
    },
    {
      "cell_type": "code",
      "source": [
        "print(TENSOR.ndim)\n",
        "print(TENSOR.shape)"
      ],
      "metadata": {
        "colab": {
          "base_uri": "https://localhost:8080/"
        },
        "id": "m1TGH1AjCh7N",
        "outputId": "e9a7d6ba-5c93-48b4-fbab-eb8d48ae304a"
      },
      "execution_count": 58,
      "outputs": [
        {
          "output_type": "stream",
          "name": "stdout",
          "text": [
            "3\n",
            "torch.Size([1, 3, 3])\n"
          ]
        }
      ]
    },
    {
      "cell_type": "markdown",
      "source": [
        "## Random Tensors\n",
        "\n",
        "**Why random tensors?**  \n",
        "Random tensors are important because the way many neural networks learn is that they start with tensors full of random numbers and then adjust those random numbers to better represent data\n",
        "\n",
        "`Start with random number -> Look at Data -> Update random numbers -> Look at Data -> Update random numbers`\n"
      ],
      "metadata": {
        "id": "O6ufmSMRD3o0"
      }
    },
    {
      "cell_type": "code",
      "source": [
        "# Creating random tensor of size (3, 4)\n",
        "\n",
        "random_tensor = torch.rand(3,4)\n",
        "random_tensor"
      ],
      "metadata": {
        "colab": {
          "base_uri": "https://localhost:8080/"
        },
        "id": "s__C2lzCD7EB",
        "outputId": "d74acf55-3b62-4789-e10d-76b7ac564597"
      },
      "execution_count": 59,
      "outputs": [
        {
          "output_type": "execute_result",
          "data": {
            "text/plain": [
              "tensor([[0.8343, 0.5298, 0.1427, 0.7909],\n",
              "        [0.8427, 0.5346, 0.7449, 0.4143],\n",
              "        [0.9988, 0.6468, 0.0275, 0.3090]])"
            ]
          },
          "metadata": {},
          "execution_count": 59
        }
      ]
    },
    {
      "cell_type": "code",
      "source": [
        "# Creating random tensor with similar shape to Image Tensor\n",
        "\n",
        "random_image_size_tensor = torch.rand(size=(224,224,3)) # size(height, width, color channels)\n",
        "\n",
        "print(random_image_size_tensor.shape)\n",
        "print(random_image_size_tensor.ndim)"
      ],
      "metadata": {
        "colab": {
          "base_uri": "https://localhost:8080/"
        },
        "id": "a-I5LPXfFkgW",
        "outputId": "ad271b59-2425-42d0-b06f-71e8e33a29da"
      },
      "execution_count": 60,
      "outputs": [
        {
          "output_type": "stream",
          "name": "stdout",
          "text": [
            "torch.Size([224, 224, 3])\n",
            "3\n"
          ]
        }
      ]
    },
    {
      "cell_type": "code",
      "source": [
        "# Create a tensor of all zeros\n",
        "\n",
        "zeros = torch.zeros(size=(3,4))\n",
        "zeros"
      ],
      "metadata": {
        "colab": {
          "base_uri": "https://localhost:8080/"
        },
        "id": "poUPddvcKrV8",
        "outputId": "e0becebb-65c2-4752-d21f-d3f048820809"
      },
      "execution_count": 61,
      "outputs": [
        {
          "output_type": "execute_result",
          "data": {
            "text/plain": [
              "tensor([[0., 0., 0., 0.],\n",
              "        [0., 0., 0., 0.],\n",
              "        [0., 0., 0., 0.]])"
            ]
          },
          "metadata": {},
          "execution_count": 61
        }
      ]
    },
    {
      "cell_type": "code",
      "source": [
        "# Create a tensor of all ones\n",
        "\n",
        "ones = torch.ones(size=(3,4))\n",
        "ones"
      ],
      "metadata": {
        "colab": {
          "base_uri": "https://localhost:8080/"
        },
        "id": "WPCywJvmLNSM",
        "outputId": "6e869d17-f45b-4492-b7c7-c646ef264d7d"
      },
      "execution_count": 62,
      "outputs": [
        {
          "output_type": "execute_result",
          "data": {
            "text/plain": [
              "tensor([[1., 1., 1., 1.],\n",
              "        [1., 1., 1., 1.],\n",
              "        [1., 1., 1., 1.]])"
            ]
          },
          "metadata": {},
          "execution_count": 62
        }
      ]
    },
    {
      "cell_type": "code",
      "source": [
        "ones.dtype"
      ],
      "metadata": {
        "colab": {
          "base_uri": "https://localhost:8080/"
        },
        "id": "ppclfSsxMDzU",
        "outputId": "1fc06def-bc04-41f8-9819-b4fc733adbef"
      },
      "execution_count": 63,
      "outputs": [
        {
          "output_type": "execute_result",
          "data": {
            "text/plain": [
              "torch.float32"
            ]
          },
          "metadata": {},
          "execution_count": 63
        }
      ]
    },
    {
      "cell_type": "markdown",
      "source": [
        "## Creating a Range of Tensors and Tensors-like"
      ],
      "metadata": {
        "id": "WYacD0CCMIuO"
      }
    },
    {
      "cell_type": "code",
      "source": [
        "# Range of Tensors\n",
        "\n",
        "# one_to_ten = torch.arange(0, 10)\n",
        "\n",
        "# one_to_ten = torch.arange(start=0, end=10, step =2)\\\n",
        "\n",
        "one_to_ten = torch.arange(0, 100, 5)\n",
        "\n",
        "one_to_ten"
      ],
      "metadata": {
        "colab": {
          "base_uri": "https://localhost:8080/"
        },
        "id": "7ijCwoCxMNtx",
        "outputId": "3f0a110c-fc7f-453e-862c-f3ac1e2ec8ea"
      },
      "execution_count": 64,
      "outputs": [
        {
          "output_type": "execute_result",
          "data": {
            "text/plain": [
              "tensor([ 0,  5, 10, 15, 20, 25, 30, 35, 40, 45, 50, 55, 60, 65, 70, 75, 80, 85,\n",
              "        90, 95])"
            ]
          },
          "metadata": {},
          "execution_count": 64
        }
      ]
    },
    {
      "cell_type": "code",
      "source": [
        "# Creating Tensors Like\n",
        "\n",
        "ten_zeros = torch.zeros_like(input=one_to_ten)\n",
        "ten_zeros"
      ],
      "metadata": {
        "colab": {
          "base_uri": "https://localhost:8080/"
        },
        "id": "oByzPknkMr-i",
        "outputId": "2846447c-103f-4370-e0d8-7166c12fdc9b"
      },
      "execution_count": 65,
      "outputs": [
        {
          "output_type": "execute_result",
          "data": {
            "text/plain": [
              "tensor([0, 0, 0, 0, 0, 0, 0, 0, 0, 0, 0, 0, 0, 0, 0, 0, 0, 0, 0, 0])"
            ]
          },
          "metadata": {},
          "execution_count": 65
        }
      ]
    },
    {
      "cell_type": "markdown",
      "source": [
        "## Tensor DataTypes"
      ],
      "metadata": {
        "id": "sdy2YcDLOonB"
      }
    },
    {
      "cell_type": "code",
      "source": [
        "float_32_tensor = torch.tensor([3.0, 6.0, 9.0],\n",
        "                               dtype=None, # defaults to None, which is torch.float32 or whatever datatype is passed\n",
        "                               device=None, # defaults to None, which uses the default tensor type\n",
        "                               requires_grad=False) # if True, operations performed on the tensor are recorded\n",
        "\n",
        "print(f\"Shape of the tensor is: {float_32_tensor.shape}\")\n",
        "print(f\"Datatype of the tensor is {float_32_tensor.dtype}\")\n",
        "print(f\"Tensor is running on the following device: {float_32_tensor.device}\")\n"
      ],
      "metadata": {
        "colab": {
          "base_uri": "https://localhost:8080/"
        },
        "id": "_UIqSngXOmTb",
        "outputId": "8fc3faf6-b126-4013-9994-5dd5ebebf380"
      },
      "execution_count": 66,
      "outputs": [
        {
          "output_type": "stream",
          "name": "stdout",
          "text": [
            "Shape of the tensor is: torch.Size([3])\n",
            "Datatype of the tensor is torch.float32\n",
            "Tensor is running on the following device: cpu\n"
          ]
        }
      ]
    },
    {
      "cell_type": "code",
      "source": [
        "float_16_tensor = float_32_tensor.type(torch.float16)\n",
        "float_16_tensor"
      ],
      "metadata": {
        "colab": {
          "base_uri": "https://localhost:8080/"
        },
        "id": "ZRj4y9KXSf_4",
        "outputId": "d339b08e-9d42-4038-b5d8-054b9ed43036"
      },
      "execution_count": 67,
      "outputs": [
        {
          "output_type": "execute_result",
          "data": {
            "text/plain": [
              "tensor([3., 6., 9.], dtype=torch.float16)"
            ]
          },
          "metadata": {},
          "execution_count": 67
        }
      ]
    },
    {
      "cell_type": "markdown",
      "source": [
        "## Manipulating Tensors\n",
        "\n",
        "Tensor Operations include:\n",
        "- Addition\n",
        "- Subtraction\n",
        "- Multiplication\n",
        "- Division\n",
        "- Matrix Multiplication"
      ],
      "metadata": {
        "id": "qhGmo8J2NRgZ"
      }
    },
    {
      "cell_type": "code",
      "source": [
        "# ADD 10 to tensor\n",
        "\n",
        "tensor = torch.tensor([1,2,3])\n",
        "\n",
        "tensor + 10"
      ],
      "metadata": {
        "colab": {
          "base_uri": "https://localhost:8080/"
        },
        "id": "2jmTZbruNVsh",
        "outputId": "31708e37-fd18-4971-dcdf-21c4255059a1"
      },
      "execution_count": 68,
      "outputs": [
        {
          "output_type": "execute_result",
          "data": {
            "text/plain": [
              "tensor([11, 12, 13])"
            ]
          },
          "metadata": {},
          "execution_count": 68
        }
      ]
    },
    {
      "cell_type": "code",
      "source": [
        "# MULTIPLY by 10\n",
        "\n",
        "tensor * 10"
      ],
      "metadata": {
        "colab": {
          "base_uri": "https://localhost:8080/"
        },
        "id": "Yuglw2LdW6XU",
        "outputId": "7ce22bee-d777-4641-d151-2dfdb6b10b74"
      },
      "execution_count": 69,
      "outputs": [
        {
          "output_type": "execute_result",
          "data": {
            "text/plain": [
              "tensor([10, 20, 30])"
            ]
          },
          "metadata": {},
          "execution_count": 69
        }
      ]
    },
    {
      "cell_type": "code",
      "source": [
        "# Subtract by 10\n",
        "\n",
        "tensor - 10"
      ],
      "metadata": {
        "colab": {
          "base_uri": "https://localhost:8080/"
        },
        "id": "K7qrHk-GXRC1",
        "outputId": "65c33fbb-d929-4c71-8998-fdee921abf35"
      },
      "execution_count": 70,
      "outputs": [
        {
          "output_type": "execute_result",
          "data": {
            "text/plain": [
              "tensor([-9, -8, -7])"
            ]
          },
          "metadata": {},
          "execution_count": 70
        }
      ]
    },
    {
      "cell_type": "code",
      "source": [
        "# Divide by 10\n",
        "\n",
        "tensor / 2"
      ],
      "metadata": {
        "colab": {
          "base_uri": "https://localhost:8080/"
        },
        "id": "7NwwnTvAXVZq",
        "outputId": "1dc5b5b9-4b09-4cc4-fcc6-d0b51a57cc36"
      },
      "execution_count": 71,
      "outputs": [
        {
          "output_type": "execute_result",
          "data": {
            "text/plain": [
              "tensor([0.5000, 1.0000, 1.5000])"
            ]
          },
          "metadata": {},
          "execution_count": 71
        }
      ]
    },
    {
      "cell_type": "markdown",
      "source": [
        "### Using In Built Functions"
      ],
      "metadata": {
        "id": "Sq794IaKXo55"
      }
    },
    {
      "cell_type": "code",
      "source": [
        "torch.mul(tensor, 10)"
      ],
      "metadata": {
        "colab": {
          "base_uri": "https://localhost:8080/"
        },
        "id": "lk1JL2f0Xr4F",
        "outputId": "ba00dcde-f3fa-4102-fe58-5c503736637e"
      },
      "execution_count": 72,
      "outputs": [
        {
          "output_type": "execute_result",
          "data": {
            "text/plain": [
              "tensor([10, 20, 30])"
            ]
          },
          "metadata": {},
          "execution_count": 72
        }
      ]
    },
    {
      "cell_type": "code",
      "source": [
        "torch.add(tensor, 10)"
      ],
      "metadata": {
        "colab": {
          "base_uri": "https://localhost:8080/"
        },
        "id": "lDdP8tLqXzio",
        "outputId": "29e52225-acda-4f00-b114-e0754286c84d"
      },
      "execution_count": 73,
      "outputs": [
        {
          "output_type": "execute_result",
          "data": {
            "text/plain": [
              "tensor([11, 12, 13])"
            ]
          },
          "metadata": {},
          "execution_count": 73
        }
      ]
    },
    {
      "cell_type": "markdown",
      "source": [
        "## Matrix Multiplication (most common neural network operation)\n",
        "\n",
        "- Element wise multiplication\n",
        "- Dot Product\n",
        "\n",
        "### Two rules to keep in mind while performing matrix multiplication\n",
        "\n",
        "1. **Inner Dimensions** must match\n",
        "- `(3, 2) @ (3, 2)` wont work ❌\n",
        "- `(2, 3) @ (3, 2)` will work ✅\n",
        "- `(3, 2) @ (2, 3)` will work ✅\n",
        "\n",
        "2. Resulting matrix has the shape of outer dimension\n",
        "\n",
        "- `(2, 3) @ (3, 2)` => `(2, 2)`"
      ],
      "metadata": {
        "id": "t28JdQoIYTg8"
      }
    },
    {
      "cell_type": "code",
      "source": [
        " # Element wise multiplication\n",
        "\n",
        "print(tensor, \"x\",  tensor)\n",
        "print(f\"equals: {tensor * tensor}\")"
      ],
      "metadata": {
        "colab": {
          "base_uri": "https://localhost:8080/"
        },
        "id": "c9X2hAddYWtd",
        "outputId": "61356cc2-9032-4767-b98b-a919de4a4cde"
      },
      "execution_count": 74,
      "outputs": [
        {
          "output_type": "stream",
          "name": "stdout",
          "text": [
            "tensor([1, 2, 3]) x tensor([1, 2, 3])\n",
            "equals: tensor([1, 4, 9])\n"
          ]
        }
      ]
    },
    {
      "cell_type": "code",
      "source": [
        "# Matrix Multiplication\n",
        "%%time\n",
        "print(tensor, \"x\",  tensor)\n",
        "torch.matmul(tensor, tensor)"
      ],
      "metadata": {
        "colab": {
          "base_uri": "https://localhost:8080/"
        },
        "id": "gUBBaw2JZHpl",
        "outputId": "dc492c5f-2259-4c29-8c7f-748ea1ca83c9"
      },
      "execution_count": 75,
      "outputs": [
        {
          "output_type": "stream",
          "name": "stdout",
          "text": [
            "tensor([1, 2, 3]) x tensor([1, 2, 3])\n",
            "CPU times: user 624 µs, sys: 0 ns, total: 624 µs\n",
            "Wall time: 633 µs\n"
          ]
        },
        {
          "output_type": "execute_result",
          "data": {
            "text/plain": [
              "tensor(14)"
            ]
          },
          "metadata": {},
          "execution_count": 75
        }
      ]
    },
    {
      "cell_type": "markdown",
      "source": [
        "### `Shape Errors`: One of the most common errors in Matrix Multiplication"
      ],
      "metadata": {
        "id": "qFia9izRdpUj"
      }
    },
    {
      "cell_type": "code",
      "source": [
        "# Shapes for matrix multiplication\n",
        "\n",
        "tensor_A = torch.tensor([[1,2],\n",
        "                         [3,4],\n",
        "                         [5,6]])\n",
        "\n",
        "tensor_B = torch.tensor([[2,4],\n",
        "                         [6,12],\n",
        "                         [8,16]])\n",
        "\n",
        "print(tensor_A.shape, tensor_B.shape)\n",
        "\n",
        "# Their shapes are different hence they will fail\n",
        "torch.mm(tensor_A, tensor_B)"
      ],
      "metadata": {
        "colab": {
          "base_uri": "https://localhost:8080/",
          "height": 193
        },
        "id": "jwDmkxtOa-Y0",
        "outputId": "f073395c-b03e-4ea3-b5c7-b8f3de314d6d"
      },
      "execution_count": 77,
      "outputs": [
        {
          "output_type": "stream",
          "name": "stdout",
          "text": [
            "torch.Size([3, 2]) torch.Size([3, 2])\n"
          ]
        },
        {
          "output_type": "error",
          "ename": "RuntimeError",
          "evalue": "mat1 and mat2 shapes cannot be multiplied (3x2 and 3x2)",
          "traceback": [
            "\u001b[0;31m---------------------------------------------------------------------------\u001b[0m",
            "\u001b[0;31mRuntimeError\u001b[0m                              Traceback (most recent call last)",
            "\u001b[0;32m<ipython-input-77-1e8c8dd53a94>\u001b[0m in \u001b[0;36m<cell line: 14>\u001b[0;34m()\u001b[0m\n\u001b[1;32m     12\u001b[0m \u001b[0;34m\u001b[0m\u001b[0m\n\u001b[1;32m     13\u001b[0m \u001b[0;31m# Their shapes are different hence they will fail\u001b[0m\u001b[0;34m\u001b[0m\u001b[0;34m\u001b[0m\u001b[0m\n\u001b[0;32m---> 14\u001b[0;31m \u001b[0mtorch\u001b[0m\u001b[0;34m.\u001b[0m\u001b[0mmm\u001b[0m\u001b[0;34m(\u001b[0m\u001b[0mtensor_A\u001b[0m\u001b[0;34m,\u001b[0m \u001b[0mtensor_B\u001b[0m\u001b[0;34m)\u001b[0m\u001b[0;34m\u001b[0m\u001b[0;34m\u001b[0m\u001b[0m\n\u001b[0m",
            "\u001b[0;31mRuntimeError\u001b[0m: mat1 and mat2 shapes cannot be multiplied (3x2 and 3x2)"
          ]
        }
      ]
    },
    {
      "cell_type": "markdown",
      "source": [
        "### `Transpose` of the matrix to fix this error"
      ],
      "metadata": {
        "id": "S3EGYmCafCdc"
      }
    },
    {
      "cell_type": "code",
      "source": [
        "tensor_B.T\n",
        "\n",
        "print(f\"Transposed matrixB:\")\n",
        "print(f\"{tensor_B.T}\")\n",
        "\n",
        "print(f\"and its shape is: {tensor_B.T.shape}\")"
      ],
      "metadata": {
        "colab": {
          "base_uri": "https://localhost:8080/"
        },
        "id": "X4U9gDgEe54E",
        "outputId": "2f7f8966-2217-4bb5-cd14-afa892ef0a95"
      },
      "execution_count": 78,
      "outputs": [
        {
          "output_type": "stream",
          "name": "stdout",
          "text": [
            "Transposed matrixB:\n",
            "tensor([[ 2,  6,  8],\n",
            "        [ 4, 12, 16]])\n",
            "and its shape is: torch.Size([2, 3])\n"
          ]
        }
      ]
    },
    {
      "cell_type": "code",
      "source": [
        "print(tensor_A)\n",
        "print(tensor_B.T)\n",
        "\n",
        "print(f\"\\nShapes of both matrix {tensor_A.shape} {tensor_B.T.shape}\")\n",
        "\n",
        "print(\"\\nMatrix Multiplying these tensors: \\n\")\n",
        "torch.matmul(tensor_A, tensor_B.T)"
      ],
      "metadata": {
        "colab": {
          "base_uri": "https://localhost:8080/"
        },
        "id": "GVo2XLHAfx1L",
        "outputId": "2b0f3aed-58be-4550-e871-35073a4beb1c"
      },
      "execution_count": 79,
      "outputs": [
        {
          "output_type": "stream",
          "name": "stdout",
          "text": [
            "tensor([[1, 2],\n",
            "        [3, 4],\n",
            "        [5, 6]])\n",
            "tensor([[ 2,  6,  8],\n",
            "        [ 4, 12, 16]])\n",
            "\n",
            "Shapes of both matrix torch.Size([3, 2]) torch.Size([2, 3])\n",
            "\n",
            "Matrix Multiplying these tensors: \n",
            "\n"
          ]
        },
        {
          "output_type": "execute_result",
          "data": {
            "text/plain": [
              "tensor([[ 10,  30,  40],\n",
              "        [ 22,  66,  88],\n",
              "        [ 34, 102, 136]])"
            ]
          },
          "metadata": {},
          "execution_count": 79
        }
      ]
    },
    {
      "cell_type": "markdown",
      "source": [
        "## Tensor Aggregration\n",
        "\n",
        "- Min\n",
        "- Max\n",
        "- Mean\n",
        "- Sum"
      ],
      "metadata": {
        "id": "-KDKLM8Blk5I"
      }
    },
    {
      "cell_type": "code",
      "source": [
        "# Creat a tensor\n",
        "\n",
        "x = torch.arange(0,100,10)\n",
        "x"
      ],
      "metadata": {
        "colab": {
          "base_uri": "https://localhost:8080/"
        },
        "id": "L6VafAPDlkd6",
        "outputId": "5d37694c-c704-466a-d7ca-dda90cb23e3a"
      },
      "execution_count": 80,
      "outputs": [
        {
          "output_type": "execute_result",
          "data": {
            "text/plain": [
              "tensor([ 0, 10, 20, 30, 40, 50, 60, 70, 80, 90])"
            ]
          },
          "metadata": {},
          "execution_count": 80
        }
      ]
    },
    {
      "cell_type": "code",
      "source": [
        "# Find the Min\n",
        "torch.min(x), x.min()"
      ],
      "metadata": {
        "colab": {
          "base_uri": "https://localhost:8080/"
        },
        "id": "K62yVw1dtLOB",
        "outputId": "b68f8a4f-0a70-49ae-d226-e377acd62c0a"
      },
      "execution_count": 81,
      "outputs": [
        {
          "output_type": "execute_result",
          "data": {
            "text/plain": [
              "(tensor(0), tensor(0))"
            ]
          },
          "metadata": {},
          "execution_count": 81
        }
      ]
    },
    {
      "cell_type": "code",
      "source": [
        "# Find the Max\n",
        "torch.max(x), x.max()"
      ],
      "metadata": {
        "colab": {
          "base_uri": "https://localhost:8080/"
        },
        "id": "pNrf9-pbtO9J",
        "outputId": "5bb340eb-d14f-4ace-bd20-99db1a072a4b"
      },
      "execution_count": 82,
      "outputs": [
        {
          "output_type": "execute_result",
          "data": {
            "text/plain": [
              "(tensor(90), tensor(90))"
            ]
          },
          "metadata": {},
          "execution_count": 82
        }
      ]
    },
    {
      "cell_type": "markdown",
      "source": [
        "### `DType Error`"
      ],
      "metadata": {
        "id": "H0xafgwJuJ_f"
      }
    },
    {
      "cell_type": "code",
      "source": [
        "# Find the mean(average)\n",
        "torch.mean(x) # x has dtype int64"
      ],
      "metadata": {
        "colab": {
          "base_uri": "https://localhost:8080/",
          "height": 176
        },
        "id": "aSMM4uH0tUCv",
        "outputId": "d788cb84-f591-4b42-962b-0ca3ef28b514"
      },
      "execution_count": 84,
      "outputs": [
        {
          "output_type": "error",
          "ename": "RuntimeError",
          "evalue": "mean(): could not infer output dtype. Input dtype must be either a floating point or complex dtype. Got: Long",
          "traceback": [
            "\u001b[0;31m---------------------------------------------------------------------------\u001b[0m",
            "\u001b[0;31mRuntimeError\u001b[0m                              Traceback (most recent call last)",
            "\u001b[0;32m<ipython-input-84-f279180e115c>\u001b[0m in \u001b[0;36m<cell line: 2>\u001b[0;34m()\u001b[0m\n\u001b[1;32m      1\u001b[0m \u001b[0;31m# Find the mean(average)\u001b[0m\u001b[0;34m\u001b[0m\u001b[0;34m\u001b[0m\u001b[0m\n\u001b[0;32m----> 2\u001b[0;31m \u001b[0mtorch\u001b[0m\u001b[0;34m.\u001b[0m\u001b[0mmean\u001b[0m\u001b[0;34m(\u001b[0m\u001b[0mx\u001b[0m\u001b[0;34m)\u001b[0m \u001b[0;31m# x has dtype int64\u001b[0m\u001b[0;34m\u001b[0m\u001b[0;34m\u001b[0m\u001b[0m\n\u001b[0m",
            "\u001b[0;31mRuntimeError\u001b[0m: mean(): could not infer output dtype. Input dtype must be either a floating point or complex dtype. Got: Long"
          ]
        }
      ]
    },
    {
      "cell_type": "code",
      "source": [
        "# Finding mean by changing dtype of tensor\n",
        "torch.mean(x.type(torch.float32)), x.type(torch.float32).mean()"
      ],
      "metadata": {
        "colab": {
          "base_uri": "https://localhost:8080/"
        },
        "id": "8eL1gia7tnoq",
        "outputId": "c651a431-97c1-481d-ba8d-a02568509d46"
      },
      "execution_count": 85,
      "outputs": [
        {
          "output_type": "execute_result",
          "data": {
            "text/plain": [
              "(tensor(45.), tensor(45.))"
            ]
          },
          "metadata": {},
          "execution_count": 85
        }
      ]
    },
    {
      "cell_type": "code",
      "source": [
        "# Finding the sum\n",
        "torch.sum(x), x.sum()"
      ],
      "metadata": {
        "colab": {
          "base_uri": "https://localhost:8080/"
        },
        "id": "_9VHmUvSuBsu",
        "outputId": "ce601bed-b184-42c6-f9d3-a184117f1a39"
      },
      "execution_count": 86,
      "outputs": [
        {
          "output_type": "execute_result",
          "data": {
            "text/plain": [
              "(tensor(450), tensor(450))"
            ]
          },
          "metadata": {},
          "execution_count": 86
        }
      ]
    },
    {
      "cell_type": "markdown",
      "source": [
        "## Positional Min, Max\n",
        "\n",
        "- returns the index at which the min / max element is located"
      ],
      "metadata": {
        "id": "gYTWrauKuX9P"
      }
    },
    {
      "cell_type": "code",
      "source": [
        "# Finding positional min\n",
        "\n",
        "print(x)\n",
        "\n",
        "x.argmin() # returns index of min position"
      ],
      "metadata": {
        "colab": {
          "base_uri": "https://localhost:8080/"
        },
        "id": "ch3Ho5afuaNA",
        "outputId": "6ff0e104-c769-4e73-a0f4-eb79f25e76b7"
      },
      "execution_count": 87,
      "outputs": [
        {
          "output_type": "stream",
          "name": "stdout",
          "text": [
            "tensor([ 0, 10, 20, 30, 40, 50, 60, 70, 80, 90])\n"
          ]
        },
        {
          "output_type": "execute_result",
          "data": {
            "text/plain": [
              "tensor(0)"
            ]
          },
          "metadata": {},
          "execution_count": 87
        }
      ]
    },
    {
      "cell_type": "code",
      "source": [
        "x.argmax() # returns index of min position"
      ],
      "metadata": {
        "colab": {
          "base_uri": "https://localhost:8080/"
        },
        "id": "qGOzCme-u_gX",
        "outputId": "83b7f8b2-ee9f-4393-c86b-f458eb682cc4"
      },
      "execution_count": 88,
      "outputs": [
        {
          "output_type": "execute_result",
          "data": {
            "text/plain": [
              "tensor(9)"
            ]
          },
          "metadata": {},
          "execution_count": 88
        }
      ]
    },
    {
      "cell_type": "markdown",
      "source": [
        "## Reshaping, Stacking, Squeezing and Unsqueezing tensors\n",
        "\n",
        "| Method |\tOne-line description |\n",
        "| ------ | ---------------------- |\n",
        "|torch.reshape(input, shape) | \tReshapes input to shape (if compatible), can also use torch.Tensor.reshape(). |\n",
        "Tensor.view(shape) | \tReturns a view of the original tensor in a different shape but shares the same data as the original tensor. |\n",
        "torch.stack(tensors, dim=0) |\tConcatenates a sequence of tensors along a new dimension (dim), all tensors must be same size.|\n",
        "torch.squeeze(input) |\tSqueezes input to remove all the dimenions with value 1. |\n",
        "torch.unsqueeze(input, dim) |\tReturns input with a dimension value of 1 added at dim. |\n",
        "torch.permute(input, dims) |\tReturns a view of the original input with its dimensions permuted (rearranged) to dims. |"
      ],
      "metadata": {
        "id": "E93T1c8ix4wh"
      }
    },
    {
      "cell_type": "markdown",
      "source": [
        "### Shape"
      ],
      "metadata": {
        "id": "5Zbpj31B03Jg"
      }
    },
    {
      "cell_type": "code",
      "source": [
        "x = torch.arange(1., 10.)\n",
        "x, x.shape"
      ],
      "metadata": {
        "colab": {
          "base_uri": "https://localhost:8080/"
        },
        "id": "oIpfyjvRyY_n",
        "outputId": "7d58c28b-7794-4f37-ceb0-357ba5ed6f26"
      },
      "execution_count": 89,
      "outputs": [
        {
          "output_type": "execute_result",
          "data": {
            "text/plain": [
              "(tensor([1., 2., 3., 4., 5., 6., 7., 8., 9.]), torch.Size([9]))"
            ]
          },
          "metadata": {},
          "execution_count": 89
        }
      ]
    },
    {
      "cell_type": "code",
      "source": [
        "# Reshape - Add extra dimension\n",
        "\n",
        "x_reshaped = x.reshape(1, 9)\n",
        "x_reshaped, x_reshaped.shape"
      ],
      "metadata": {
        "colab": {
          "base_uri": "https://localhost:8080/"
        },
        "id": "8qgv-jZHzsSn",
        "outputId": "396f813f-62a1-49da-e475-b4a671e60731"
      },
      "execution_count": 90,
      "outputs": [
        {
          "output_type": "execute_result",
          "data": {
            "text/plain": [
              "(tensor([[1., 2., 3., 4., 5., 6., 7., 8., 9.]]), torch.Size([1, 9]))"
            ]
          },
          "metadata": {},
          "execution_count": 90
        }
      ]
    },
    {
      "cell_type": "code",
      "source": [
        "x_reshaped = x.reshape(9,1)\n",
        "x_reshaped, x_reshaped.shape"
      ],
      "metadata": {
        "colab": {
          "base_uri": "https://localhost:8080/"
        },
        "id": "VFqkkyti0KQ1",
        "outputId": "06812b76-bb59-4ffd-892d-413c8e6af543"
      },
      "execution_count": 91,
      "outputs": [
        {
          "output_type": "execute_result",
          "data": {
            "text/plain": [
              "(tensor([[1.],\n",
              "         [2.],\n",
              "         [3.],\n",
              "         [4.],\n",
              "         [5.],\n",
              "         [6.],\n",
              "         [7.],\n",
              "         [8.],\n",
              "         [9.]]),\n",
              " torch.Size([9, 1]))"
            ]
          },
          "metadata": {},
          "execution_count": 91
        }
      ]
    },
    {
      "cell_type": "code",
      "source": [
        "x_reshaped = x.reshape(3,3)\n",
        "x_reshaped, x_reshaped.shape"
      ],
      "metadata": {
        "colab": {
          "base_uri": "https://localhost:8080/"
        },
        "id": "23iPxf401HWv",
        "outputId": "1813dd4e-c903-43ce-ac0f-af73dd588a13"
      },
      "execution_count": 92,
      "outputs": [
        {
          "output_type": "execute_result",
          "data": {
            "text/plain": [
              "(tensor([[1., 2., 3.],\n",
              "         [4., 5., 6.],\n",
              "         [7., 8., 9.]]),\n",
              " torch.Size([3, 3]))"
            ]
          },
          "metadata": {},
          "execution_count": 92
        }
      ]
    },
    {
      "cell_type": "markdown",
      "source": [
        "### `Shape Errors`"
      ],
      "metadata": {
        "id": "OdBYFYZ20WrW"
      }
    },
    {
      "cell_type": "code",
      "source": [
        "# Here we will get an error becuase ->\n",
        "# we are trying to squeeze 9 elements into 7 elements\n",
        "\n",
        "x_reshaped = x.reshape(1, 7)\n",
        "x_reshaped, x_reshaped.shape"
      ],
      "metadata": {
        "colab": {
          "base_uri": "https://localhost:8080/",
          "height": 193
        },
        "id": "ZycQ_Qgl0PFJ",
        "outputId": "0e56a0cc-8057-4fd7-cd5d-2fb5436e5b25"
      },
      "execution_count": 93,
      "outputs": [
        {
          "output_type": "error",
          "ename": "RuntimeError",
          "evalue": "shape '[1, 7]' is invalid for input of size 9",
          "traceback": [
            "\u001b[0;31m---------------------------------------------------------------------------\u001b[0m",
            "\u001b[0;31mRuntimeError\u001b[0m                              Traceback (most recent call last)",
            "\u001b[0;32m<ipython-input-93-d1b77d0f2c29>\u001b[0m in \u001b[0;36m<cell line: 4>\u001b[0;34m()\u001b[0m\n\u001b[1;32m      2\u001b[0m \u001b[0;31m# we are trying to squeeze 9 elements into 7 elements\u001b[0m\u001b[0;34m\u001b[0m\u001b[0;34m\u001b[0m\u001b[0m\n\u001b[1;32m      3\u001b[0m \u001b[0;34m\u001b[0m\u001b[0m\n\u001b[0;32m----> 4\u001b[0;31m \u001b[0mx_reshaped\u001b[0m \u001b[0;34m=\u001b[0m \u001b[0mx\u001b[0m\u001b[0;34m.\u001b[0m\u001b[0mreshape\u001b[0m\u001b[0;34m(\u001b[0m\u001b[0;36m1\u001b[0m\u001b[0;34m,\u001b[0m \u001b[0;36m7\u001b[0m\u001b[0;34m)\u001b[0m\u001b[0;34m\u001b[0m\u001b[0;34m\u001b[0m\u001b[0m\n\u001b[0m\u001b[1;32m      5\u001b[0m \u001b[0mx_reshaped\u001b[0m\u001b[0;34m,\u001b[0m \u001b[0mx_reshaped\u001b[0m\u001b[0;34m.\u001b[0m\u001b[0mshape\u001b[0m\u001b[0;34m\u001b[0m\u001b[0;34m\u001b[0m\u001b[0m\n",
            "\u001b[0;31mRuntimeError\u001b[0m: shape '[1, 7]' is invalid for input of size 9"
          ]
        }
      ]
    },
    {
      "cell_type": "code",
      "source": [
        "# Here we will get an error becuase ->\n",
        "# we are trying to squeeze 9 elements into 18 (9 x 2)\n",
        "\n",
        "x_reshaped = x.reshape(2, 9)\n",
        "x_reshaped, x_reshaped.shape"
      ],
      "metadata": {
        "colab": {
          "base_uri": "https://localhost:8080/",
          "height": 193
        },
        "id": "d2Qxx4eo0aT-",
        "outputId": "9ba1b8c1-0025-48d6-b346-d6a1999fd5b6"
      },
      "execution_count": 94,
      "outputs": [
        {
          "output_type": "error",
          "ename": "RuntimeError",
          "evalue": "shape '[2, 9]' is invalid for input of size 9",
          "traceback": [
            "\u001b[0;31m---------------------------------------------------------------------------\u001b[0m",
            "\u001b[0;31mRuntimeError\u001b[0m                              Traceback (most recent call last)",
            "\u001b[0;32m<ipython-input-94-f5d4f483aad2>\u001b[0m in \u001b[0;36m<cell line: 4>\u001b[0;34m()\u001b[0m\n\u001b[1;32m      2\u001b[0m \u001b[0;31m# we are trying to squeeze 9 elements into 18 (9 x 2)\u001b[0m\u001b[0;34m\u001b[0m\u001b[0;34m\u001b[0m\u001b[0m\n\u001b[1;32m      3\u001b[0m \u001b[0;34m\u001b[0m\u001b[0m\n\u001b[0;32m----> 4\u001b[0;31m \u001b[0mx_reshaped\u001b[0m \u001b[0;34m=\u001b[0m \u001b[0mx\u001b[0m\u001b[0;34m.\u001b[0m\u001b[0mreshape\u001b[0m\u001b[0;34m(\u001b[0m\u001b[0;36m2\u001b[0m\u001b[0;34m,\u001b[0m \u001b[0;36m9\u001b[0m\u001b[0;34m)\u001b[0m\u001b[0;34m\u001b[0m\u001b[0;34m\u001b[0m\u001b[0m\n\u001b[0m\u001b[1;32m      5\u001b[0m \u001b[0mx_reshaped\u001b[0m\u001b[0;34m,\u001b[0m \u001b[0mx_reshaped\u001b[0m\u001b[0;34m.\u001b[0m\u001b[0mshape\u001b[0m\u001b[0;34m\u001b[0m\u001b[0;34m\u001b[0m\u001b[0m\n",
            "\u001b[0;31mRuntimeError\u001b[0m: shape '[2, 9]' is invalid for input of size 9"
          ]
        }
      ]
    },
    {
      "cell_type": "markdown",
      "source": [
        "### View\n",
        "\n",
        "View is similar to shape, but ->  \n",
        "the only difference is view **shares the same memory** as original tensor"
      ],
      "metadata": {
        "id": "XdOrZkDJ1SFZ"
      }
    },
    {
      "cell_type": "code",
      "source": [
        "z = x.view(1,9)\n",
        "z, z.shape"
      ],
      "metadata": {
        "colab": {
          "base_uri": "https://localhost:8080/"
        },
        "id": "kgP6304S1TUk",
        "outputId": "004a5502-1037-4aac-8b80-36e89972d62d"
      },
      "execution_count": 95,
      "outputs": [
        {
          "output_type": "execute_result",
          "data": {
            "text/plain": [
              "(tensor([[1., 2., 3., 4., 5., 6., 7., 8., 9.]]), torch.Size([1, 9]))"
            ]
          },
          "metadata": {},
          "execution_count": 95
        }
      ]
    },
    {
      "cell_type": "code",
      "source": [
        "# changing z will change x(because their memory is shared)\n",
        "\n",
        "print(\"original z and x:\")\n",
        "print(z, x)\n",
        "\n",
        "z[:, 0] = 5\n",
        "\n",
        "print(\"\\nModifying z leads to modification of x too\\n\")\n",
        "print(\"modified z and x:\")\n",
        "print(z, x)"
      ],
      "metadata": {
        "colab": {
          "base_uri": "https://localhost:8080/"
        },
        "id": "WYzYBJXh10vA",
        "outputId": "d5172d5e-fb9a-4e6b-e63e-8ece48d11b98"
      },
      "execution_count": 96,
      "outputs": [
        {
          "output_type": "stream",
          "name": "stdout",
          "text": [
            "original z and x:\n",
            "tensor([[1., 2., 3., 4., 5., 6., 7., 8., 9.]]) tensor([1., 2., 3., 4., 5., 6., 7., 8., 9.])\n",
            "\n",
            "Modifying z leads to modification of x too\n",
            "\n",
            "modified z and x:\n",
            "tensor([[5., 2., 3., 4., 5., 6., 7., 8., 9.]]) tensor([5., 2., 3., 4., 5., 6., 7., 8., 9.])\n"
          ]
        }
      ]
    },
    {
      "cell_type": "markdown",
      "source": [
        "### Stack\n",
        "\n",
        "Stacking tensors on top of each other"
      ],
      "metadata": {
        "id": "IYSGYGqA2mwi"
      }
    },
    {
      "cell_type": "code",
      "source": [
        "x = torch.arange(0, 10, 2)\n",
        "x"
      ],
      "metadata": {
        "colab": {
          "base_uri": "https://localhost:8080/"
        },
        "id": "uuKfMGCg2oD-",
        "outputId": "1543b41c-3db0-4d6b-9355-69b0048c6cc7"
      },
      "execution_count": 97,
      "outputs": [
        {
          "output_type": "execute_result",
          "data": {
            "text/plain": [
              "tensor([0, 2, 4, 6, 8])"
            ]
          },
          "metadata": {},
          "execution_count": 97
        }
      ]
    },
    {
      "cell_type": "code",
      "source": [
        "# Stacking vertically\n",
        "\n",
        "x_stacked = torch.stack([x,x,x,x], dim = 0)\n",
        "x_stacked"
      ],
      "metadata": {
        "colab": {
          "base_uri": "https://localhost:8080/"
        },
        "id": "l0REz0t725de",
        "outputId": "53b93e34-7485-4ebf-b3fc-36add8e10661"
      },
      "execution_count": 98,
      "outputs": [
        {
          "output_type": "execute_result",
          "data": {
            "text/plain": [
              "tensor([[0, 2, 4, 6, 8],\n",
              "        [0, 2, 4, 6, 8],\n",
              "        [0, 2, 4, 6, 8],\n",
              "        [0, 2, 4, 6, 8]])"
            ]
          },
          "metadata": {},
          "execution_count": 98
        }
      ]
    },
    {
      "cell_type": "code",
      "source": [
        "# Stacking horizontally\n",
        "\n",
        "x_stacked = torch.stack([x,x,x,x], dim = 1)\n",
        "x_stacked"
      ],
      "metadata": {
        "colab": {
          "base_uri": "https://localhost:8080/"
        },
        "id": "Sc1ysKvf3E0A",
        "outputId": "0232567e-e8e8-4356-b1c4-36933f878265"
      },
      "execution_count": 99,
      "outputs": [
        {
          "output_type": "execute_result",
          "data": {
            "text/plain": [
              "tensor([[0, 0, 0, 0],\n",
              "        [2, 2, 2, 2],\n",
              "        [4, 4, 4, 4],\n",
              "        [6, 6, 6, 6],\n",
              "        [8, 8, 8, 8]])"
            ]
          },
          "metadata": {},
          "execution_count": 99
        }
      ]
    },
    {
      "cell_type": "markdown",
      "source": [
        "### Squeeze\n",
        "\n",
        "Remove all single dimensions from a target tensor"
      ],
      "metadata": {
        "id": "5Kp7-FQW3cqc"
      }
    },
    {
      "cell_type": "code",
      "source": [
        "# original tensor\n",
        "x = x.reshape(1,5)\n",
        "x, x.shape"
      ],
      "metadata": {
        "colab": {
          "base_uri": "https://localhost:8080/"
        },
        "id": "u7vQezoW3sVS",
        "outputId": "adb54b91-a10b-4122-f08f-89856ac54af7"
      },
      "execution_count": 100,
      "outputs": [
        {
          "output_type": "execute_result",
          "data": {
            "text/plain": [
              "(tensor([[0, 2, 4, 6, 8]]), torch.Size([1, 5]))"
            ]
          },
          "metadata": {},
          "execution_count": 100
        }
      ]
    },
    {
      "cell_type": "code",
      "source": [
        "# changes dimension from (1, 5) to (5)\n",
        "x.squeeze(), x.squeeze().shape"
      ],
      "metadata": {
        "colab": {
          "base_uri": "https://localhost:8080/"
        },
        "id": "aKBWvEgm38zN",
        "outputId": "f2798899-a9ec-46fe-808b-b259f5520e21"
      },
      "execution_count": 101,
      "outputs": [
        {
          "output_type": "execute_result",
          "data": {
            "text/plain": [
              "(tensor([0, 2, 4, 6, 8]), torch.Size([5]))"
            ]
          },
          "metadata": {},
          "execution_count": 101
        }
      ]
    },
    {
      "cell_type": "markdown",
      "source": [
        "### Unsqueeze\n",
        "add a single dimension to target tensor at specific dim"
      ],
      "metadata": {
        "id": "Zd1mDRmp4paM"
      }
    },
    {
      "cell_type": "code",
      "source": [
        "# original tensor\n",
        "x, x.shape"
      ],
      "metadata": {
        "colab": {
          "base_uri": "https://localhost:8080/"
        },
        "id": "6Tq2tmd14lPa",
        "outputId": "eff2d869-2b99-4e1d-c6cc-f8dff5e0362f"
      },
      "execution_count": 102,
      "outputs": [
        {
          "output_type": "execute_result",
          "data": {
            "text/plain": [
              "(tensor([[0, 2, 4, 6, 8]]), torch.Size([1, 5]))"
            ]
          },
          "metadata": {},
          "execution_count": 102
        }
      ]
    },
    {
      "cell_type": "code",
      "source": [
        "# changes dimension from (1, 5) to (1, 5, 1)\n",
        "x.unsqueeze(dim=2), x.unsqueeze(dim=2).shape"
      ],
      "metadata": {
        "colab": {
          "base_uri": "https://localhost:8080/"
        },
        "id": "3KXs8UwR5XCK",
        "outputId": "583c46f6-6a0d-4f62-b1c0-4f9dee61a034"
      },
      "execution_count": 103,
      "outputs": [
        {
          "output_type": "execute_result",
          "data": {
            "text/plain": [
              "(tensor([[[0],\n",
              "          [2],\n",
              "          [4],\n",
              "          [6],\n",
              "          [8]]]),\n",
              " torch.Size([1, 5, 1]))"
            ]
          },
          "metadata": {},
          "execution_count": 103
        }
      ]
    },
    {
      "cell_type": "code",
      "source": [
        "# changes dimension from (1, 5) to (1, 1, 5)\n",
        "x.unsqueeze(dim=0), x.unsqueeze(dim=0).shape"
      ],
      "metadata": {
        "colab": {
          "base_uri": "https://localhost:8080/"
        },
        "id": "ET-OnM135kUb",
        "outputId": "025dddd5-6600-4df7-8f1e-0441cb50a1b6"
      },
      "execution_count": 104,
      "outputs": [
        {
          "output_type": "execute_result",
          "data": {
            "text/plain": [
              "(tensor([[[0, 2, 4, 6, 8]]]), torch.Size([1, 1, 5]))"
            ]
          },
          "metadata": {},
          "execution_count": 104
        }
      ]
    },
    {
      "cell_type": "markdown",
      "source": [
        "### Permute\n",
        "Rearranges the dimensions of a target tensor in a specific order\n",
        "\n",
        "`permute(2, 0, 1)`  \n",
        "what this says is **swapping:**  \n",
        "- 0th dimension to 2nd  \n",
        "- 1st dimension to 0th  \n",
        "- 2nd dimension to 1\n"
      ],
      "metadata": {
        "id": "3M31lg4M53_t"
      }
    },
    {
      "cell_type": "code",
      "source": [
        "# original image tensor\n",
        "x_original = torch.rand(size=(224,224,3)) # [height, width, color_channels]\n",
        "x_original.shape"
      ],
      "metadata": {
        "colab": {
          "base_uri": "https://localhost:8080/"
        },
        "id": "yc4mBVAt6Ryu",
        "outputId": "005f2b46-d3ee-41d0-88e1-f7f7202b0b89"
      },
      "execution_count": 105,
      "outputs": [
        {
          "output_type": "execute_result",
          "data": {
            "text/plain": [
              "torch.Size([224, 224, 3])"
            ]
          },
          "metadata": {},
          "execution_count": 105
        }
      ]
    },
    {
      "cell_type": "code",
      "source": [
        "# permite the original tensor\n",
        "x_permutted = x_original.permute(2,0,1)\n",
        "x_permutted.shape # [color_channels, height,  width]"
      ],
      "metadata": {
        "colab": {
          "base_uri": "https://localhost:8080/"
        },
        "id": "obAHNG866ESo",
        "outputId": "fb2ee46f-2ae9-422b-9ce0-cb104e53b22d"
      },
      "execution_count": 106,
      "outputs": [
        {
          "output_type": "execute_result",
          "data": {
            "text/plain": [
              "torch.Size([3, 224, 224])"
            ]
          },
          "metadata": {},
          "execution_count": 106
        }
      ]
    },
    {
      "cell_type": "markdown",
      "source": [
        "### Selecting data from tensors"
      ],
      "metadata": {
        "id": "NCEKUdNZ77DI"
      }
    },
    {
      "cell_type": "code",
      "source": [
        "print(x_original.shape)"
      ],
      "metadata": {
        "colab": {
          "base_uri": "https://localhost:8080/"
        },
        "id": "59LoVv286xxR",
        "outputId": "670db802-ee34-46cc-909d-04b29f9fbc4c"
      },
      "execution_count": 107,
      "outputs": [
        {
          "output_type": "stream",
          "name": "stdout",
          "text": [
            "torch.Size([224, 224, 3])\n"
          ]
        }
      ]
    },
    {
      "cell_type": "code",
      "source": [
        "# Selecting an element\n",
        "x_original[0,0,0]"
      ],
      "metadata": {
        "colab": {
          "base_uri": "https://localhost:8080/"
        },
        "id": "KcGApk2UE6Ro",
        "outputId": "dbe6fb83-02df-4e43-ff34-39eeadaa997f"
      },
      "execution_count": 108,
      "outputs": [
        {
          "output_type": "execute_result",
          "data": {
            "text/plain": [
              "tensor(0.7924)"
            ]
          },
          "metadata": {},
          "execution_count": 108
        }
      ]
    },
    {
      "cell_type": "code",
      "source": [
        "## Resetting an element\n",
        "x_original[0,0,0] = 0.6969\n",
        "x_original[0,0,0]"
      ],
      "metadata": {
        "colab": {
          "base_uri": "https://localhost:8080/"
        },
        "id": "-8wFlOMoFC72",
        "outputId": "f138bc77-7ba4-4edf-ec97-8eff056aed90"
      },
      "execution_count": 109,
      "outputs": [
        {
          "output_type": "execute_result",
          "data": {
            "text/plain": [
              "tensor(0.6969)"
            ]
          },
          "metadata": {},
          "execution_count": 109
        }
      ]
    },
    {
      "cell_type": "markdown",
      "source": [
        "### Indexing (selecting data from tensors)\n",
        "\n",
        "Indexing with pyTorch is similar in indexing with numpy"
      ],
      "metadata": {
        "id": "6P1LKzbZFSOb"
      }
    },
    {
      "cell_type": "code",
      "source": [
        "# create a tensor\n",
        "import torch\n",
        "\n",
        "x = torch.arange(1,10).reshape(1,3,3)\n",
        "x"
      ],
      "metadata": {
        "colab": {
          "base_uri": "https://localhost:8080/"
        },
        "id": "qigqvnEcFbuE",
        "outputId": "3205f2cc-f853-4f2a-d5af-67c389d020ec"
      },
      "execution_count": 110,
      "outputs": [
        {
          "output_type": "execute_result",
          "data": {
            "text/plain": [
              "tensor([[[1, 2, 3],\n",
              "         [4, 5, 6],\n",
              "         [7, 8, 9]]])"
            ]
          },
          "metadata": {},
          "execution_count": 110
        }
      ]
    },
    {
      "cell_type": "code",
      "source": [
        " # Indexing 0th dimension\n",
        "\n",
        "x[0]"
      ],
      "metadata": {
        "colab": {
          "base_uri": "https://localhost:8080/"
        },
        "id": "0b115NTqFx5U",
        "outputId": "3f9bc9ac-6906-4f3e-f2ba-0cd2b60dd703"
      },
      "execution_count": 111,
      "outputs": [
        {
          "output_type": "execute_result",
          "data": {
            "text/plain": [
              "tensor([[1, 2, 3],\n",
              "        [4, 5, 6],\n",
              "        [7, 8, 9]])"
            ]
          },
          "metadata": {},
          "execution_count": 111
        }
      ]
    },
    {
      "cell_type": "code",
      "source": [
        " # Indexing 1st dimension\n",
        "\n",
        "x[0][1]"
      ],
      "metadata": {
        "colab": {
          "base_uri": "https://localhost:8080/"
        },
        "id": "hECbUmi0GC8g",
        "outputId": "854025d2-5c28-468d-e6e6-e1ce490756f3"
      },
      "execution_count": 112,
      "outputs": [
        {
          "output_type": "execute_result",
          "data": {
            "text/plain": [
              "tensor([4, 5, 6])"
            ]
          },
          "metadata": {},
          "execution_count": 112
        }
      ]
    },
    {
      "cell_type": "code",
      "source": [
        " # Indexing 2nd dimension\n",
        "\n",
        "x[0][1][1]"
      ],
      "metadata": {
        "colab": {
          "base_uri": "https://localhost:8080/"
        },
        "id": "aZNuPMxjGIA7",
        "outputId": "12ad557a-f371-4324-c81a-58945da18171"
      },
      "execution_count": 113,
      "outputs": [
        {
          "output_type": "execute_result",
          "data": {
            "text/plain": [
              "tensor(5)"
            ]
          },
          "metadata": {},
          "execution_count": 113
        }
      ]
    },
    {
      "cell_type": "code",
      "source": [
        "# select all of nth dimension with \":\"\n",
        "\n",
        "x[:, 0] # select all of 0th dimension"
      ],
      "metadata": {
        "colab": {
          "base_uri": "https://localhost:8080/"
        },
        "id": "UsDW9BJXGmmi",
        "outputId": "e9e9b327-69ae-4dd6-9575-3d14b942b3fd"
      },
      "execution_count": 114,
      "outputs": [
        {
          "output_type": "execute_result",
          "data": {
            "text/plain": [
              "tensor([[1, 2, 3]])"
            ]
          },
          "metadata": {},
          "execution_count": 114
        }
      ]
    },
    {
      "cell_type": "code",
      "source": [
        " # get all values of 0th and 1st dimension, but only index 1 of 2nd dimension\n",
        "\n",
        "x[:, : , 1]"
      ],
      "metadata": {
        "colab": {
          "base_uri": "https://localhost:8080/"
        },
        "id": "I3lgRXy5Gv9L",
        "outputId": "6ac68f1a-650a-4272-cf0b-20b9b5fe8ecc"
      },
      "execution_count": 115,
      "outputs": [
        {
          "output_type": "execute_result",
          "data": {
            "text/plain": [
              "tensor([[2, 5, 8]])"
            ]
          },
          "metadata": {},
          "execution_count": 115
        }
      ]
    },
    {
      "cell_type": "code",
      "source": [
        "# get all values of the 0 dimension but only 1 index value of 1st and 2nd dimension\n",
        "\n",
        "x[:, 1, 1]"
      ],
      "metadata": {
        "colab": {
          "base_uri": "https://localhost:8080/"
        },
        "id": "SfmEMW9yHXgN",
        "outputId": "5ebd7c2f-c99e-4a98-d9f7-fac5175c506e"
      },
      "execution_count": 116,
      "outputs": [
        {
          "output_type": "execute_result",
          "data": {
            "text/plain": [
              "tensor([5])"
            ]
          },
          "metadata": {},
          "execution_count": 116
        }
      ]
    },
    {
      "cell_type": "code",
      "source": [
        "# get index 0 of 0th and 1st dimension and all values of 2nd dimension\n",
        "\n",
        "x[0, 0, :]"
      ],
      "metadata": {
        "colab": {
          "base_uri": "https://localhost:8080/"
        },
        "id": "lPNrdSAnHsin",
        "outputId": "18820a81-6401-4d01-df1c-069a610bba22"
      },
      "execution_count": 117,
      "outputs": [
        {
          "output_type": "execute_result",
          "data": {
            "text/plain": [
              "tensor([1, 2, 3])"
            ]
          },
          "metadata": {},
          "execution_count": 117
        }
      ]
    },
    {
      "cell_type": "code",
      "source": [
        "# return 9\n",
        "x[:,2,2]"
      ],
      "metadata": {
        "colab": {
          "base_uri": "https://localhost:8080/"
        },
        "id": "n04UAiYXIEMG",
        "outputId": "84f3baf4-9006-4371-f640-96951ad2b3a0"
      },
      "execution_count": 118,
      "outputs": [
        {
          "output_type": "execute_result",
          "data": {
            "text/plain": [
              "tensor([9])"
            ]
          },
          "metadata": {},
          "execution_count": 118
        }
      ]
    },
    {
      "cell_type": "code",
      "source": [
        "# return 3, 6, 9\n",
        "x[:,:,2]"
      ],
      "metadata": {
        "colab": {
          "base_uri": "https://localhost:8080/"
        },
        "id": "R9MPCtIkIMRp",
        "outputId": "59e7c7c4-a054-49f2-92ca-f75a0474a6f6"
      },
      "execution_count": 119,
      "outputs": [
        {
          "output_type": "execute_result",
          "data": {
            "text/plain": [
              "tensor([[3, 6, 9]])"
            ]
          },
          "metadata": {},
          "execution_count": 119
        }
      ]
    },
    {
      "cell_type": "markdown",
      "source": [
        "### Pytorch tensors and Numpy\n",
        "\n",
        "- Convert data from `numpy -> tensor`\n",
        "```\n",
        "torch.from_numpy(mdarray)\n",
        "```\n",
        "- Convert data from `tensor -> numpy`\n",
        "```\n",
        "torch.Tensor.numpy()\n",
        "```"
      ],
      "metadata": {
        "id": "K_c6kPc2VTbg"
      }
    },
    {
      "cell_type": "markdown",
      "source": [
        "#### numpy array to tensor"
      ],
      "metadata": {
        "id": "h1X-5tejXZX9"
      }
    },
    {
      "cell_type": "code",
      "source": [
        "array = np.arange(1.0, 8.0)\n",
        "\n",
        "tensor = torch.from_numpy(array)\n",
        "\n",
        "array, tensor"
      ],
      "metadata": {
        "colab": {
          "base_uri": "https://localhost:8080/"
        },
        "id": "rUXdsM5dVXJM",
        "outputId": "af67d194-1435-42a4-b9ba-5e69cf02bb10"
      },
      "execution_count": 120,
      "outputs": [
        {
          "output_type": "execute_result",
          "data": {
            "text/plain": [
              "(array([1., 2., 3., 4., 5., 6., 7.]),\n",
              " tensor([1., 2., 3., 4., 5., 6., 7.], dtype=torch.float64))"
            ]
          },
          "metadata": {},
          "execution_count": 120
        }
      ]
    },
    {
      "cell_type": "code",
      "source": [
        "# default data types\n",
        "\n",
        "print(f\"default dtype of numpy: {array.dtype}\")\n",
        "\n",
        "print(f\"default dtype of tensor: {torch.arange(1,8).dtype}\")"
      ],
      "metadata": {
        "colab": {
          "base_uri": "https://localhost:8080/"
        },
        "id": "r9K84vzFWcnx",
        "outputId": "61a08059-ba3a-4354-e1f8-d521e5c34392"
      },
      "execution_count": 121,
      "outputs": [
        {
          "output_type": "stream",
          "name": "stdout",
          "text": [
            "default dtype of numpy: float64\n",
            "default dtype of tensor: torch.int64\n"
          ]
        }
      ]
    },
    {
      "cell_type": "code",
      "source": [
        "# change default dtype of a tensor from numpy data\n",
        "\n",
        "tensor = torch.from_numpy(array).type(torch.float32)\n",
        "\n",
        "tensor.dtype"
      ],
      "metadata": {
        "colab": {
          "base_uri": "https://localhost:8080/"
        },
        "id": "dWlIuB6HW7QK",
        "outputId": "2a15941a-5edc-45fb-e3b3-28f7691a4126"
      },
      "execution_count": 122,
      "outputs": [
        {
          "output_type": "execute_result",
          "data": {
            "text/plain": [
              "torch.float32"
            ]
          },
          "metadata": {},
          "execution_count": 122
        }
      ]
    },
    {
      "cell_type": "markdown",
      "source": [
        "#### Tensor to Numpy array"
      ],
      "metadata": {
        "id": "yC_EoTTdXcPE"
      }
    },
    {
      "cell_type": "code",
      "source": [
        "tensor = torch.ones(7)\n",
        "numpy_tensor = tensor.numpy()"
      ],
      "metadata": {
        "id": "VNO9Xet9XgCI"
      },
      "execution_count": 123,
      "outputs": []
    },
    {
      "cell_type": "code",
      "source": [
        "numpy_tensor.dtype"
      ],
      "metadata": {
        "colab": {
          "base_uri": "https://localhost:8080/"
        },
        "id": "cBdLbnKgXtEb",
        "outputId": "44967783-b6fd-4150-e959-8876086a3200"
      },
      "execution_count": 124,
      "outputs": [
        {
          "output_type": "execute_result",
          "data": {
            "text/plain": [
              "dtype('float32')"
            ]
          },
          "metadata": {},
          "execution_count": 124
        }
      ]
    },
    {
      "cell_type": "markdown",
      "source": [
        "## Reproducibility\n",
        "\n",
        "trying to take random out of random  \n",
        "\n",
        "In short how neural networks work is:  \n",
        "`Start with random number -> Look at Data -> Update random numbers and make them better representations of the data -> repeat`\n",
        "\n",
        "\n",
        "To reduce randomness in neural networks and pytorch we use **Random Seed**  \n",
        "\n",
        "\n",
        "What random seed does is **\"flavour the randomness\"**"
      ],
      "metadata": {
        "id": "Wp1oGmHTX-Xj"
      }
    },
    {
      "cell_type": "code",
      "source": [
        "# create two random tensors\n",
        "\n",
        "random_tensor_A = torch.rand(3,4)\n",
        "random_tensor_B = torch.rand(3,4)\n",
        "\n",
        "print(random_tensor_A, random_tensor_B)\n",
        "print(random_tensor_A == random_tensor_B)"
      ],
      "metadata": {
        "colab": {
          "base_uri": "https://localhost:8080/"
        },
        "id": "qZfl05vPYLhX",
        "outputId": "b6cf2275-ccff-4dc8-8410-14c279642b61"
      },
      "execution_count": 125,
      "outputs": [
        {
          "output_type": "stream",
          "name": "stdout",
          "text": [
            "tensor([[0.5775, 0.3780, 0.2601, 0.8581],\n",
            "        [0.4704, 0.4672, 0.3067, 0.6511],\n",
            "        [0.8988, 0.9254, 0.1519, 0.0597]]) tensor([[0.0730, 0.0298, 0.8281, 0.1632],\n",
            "        [0.7357, 0.4794, 0.1518, 0.8530],\n",
            "        [0.3876, 0.2620, 0.4837, 0.1871]])\n",
            "tensor([[False, False, False, False],\n",
            "        [False, False, False, False],\n",
            "        [False, False, False, False]])\n"
          ]
        }
      ]
    },
    {
      "cell_type": "markdown",
      "source": [
        "- **Important thing to remember is random seed only works for one block of code**"
      ],
      "metadata": {
        "id": "r5uPu8n7asYI"
      }
    },
    {
      "cell_type": "code",
      "source": [
        "# Creating reproducible tensors\n",
        "\n",
        "# Setting the random seed\n",
        "RANDOM_SEED = 42\n",
        "\n",
        "torch.manual_seed(RANDOM_SEED)\n",
        "\n",
        "random_tensor_C = torch.rand(3,4) # C is flavoured with seed\n",
        "random_tensor_D = torch.rand(3,4) # D isn't flavoured with seed\n",
        "\n",
        "print(random_tensor_C, random_tensor_D)\n",
        "print(random_tensor_C == random_tensor_D)"
      ],
      "metadata": {
        "colab": {
          "base_uri": "https://localhost:8080/"
        },
        "id": "GiyPzc1BZ4-B",
        "outputId": "8e30bdcd-99a2-4c53-850e-b8da58a7caea"
      },
      "execution_count": 126,
      "outputs": [
        {
          "output_type": "stream",
          "name": "stdout",
          "text": [
            "tensor([[0.8823, 0.9150, 0.3829, 0.9593],\n",
            "        [0.3904, 0.6009, 0.2566, 0.7936],\n",
            "        [0.9408, 0.1332, 0.9346, 0.5936]]) tensor([[0.8694, 0.5677, 0.7411, 0.4294],\n",
            "        [0.8854, 0.5739, 0.2666, 0.6274],\n",
            "        [0.2696, 0.4414, 0.2969, 0.8317]])\n",
            "tensor([[False, False, False, False],\n",
            "        [False, False, False, False],\n",
            "        [False, False, False, False]])\n"
          ]
        }
      ]
    },
    {
      "cell_type": "code",
      "source": [
        "# Creating reproducible tensors\n",
        "\n",
        "# Setting the random seed before creation of each tensor\n",
        "RANDOM_SEED = 42\n",
        "\n",
        "torch.manual_seed(RANDOM_SEED)\n",
        "random_tensor_C = torch.rand(3,4) # C is flavoured with seed\n",
        "\n",
        "torch.manual_seed(RANDOM_SEED)\n",
        "random_tensor_D = torch.rand(3,4) # D is flavoured with seed\n",
        "\n",
        "print(random_tensor_C, random_tensor_D)\n",
        "print(random_tensor_C == random_tensor_D)"
      ],
      "metadata": {
        "colab": {
          "base_uri": "https://localhost:8080/"
        },
        "id": "sCCdu-4jacuu",
        "outputId": "5d4b06e9-43f8-470f-ece2-6ced933d04da"
      },
      "execution_count": 127,
      "outputs": [
        {
          "output_type": "stream",
          "name": "stdout",
          "text": [
            "tensor([[0.8823, 0.9150, 0.3829, 0.9593],\n",
            "        [0.3904, 0.6009, 0.2566, 0.7936],\n",
            "        [0.9408, 0.1332, 0.9346, 0.5936]]) tensor([[0.8823, 0.9150, 0.3829, 0.9593],\n",
            "        [0.3904, 0.6009, 0.2566, 0.7936],\n",
            "        [0.9408, 0.1332, 0.9346, 0.5936]])\n",
            "tensor([[True, True, True, True],\n",
            "        [True, True, True, True],\n",
            "        [True, True, True, True]])\n"
          ]
        }
      ]
    },
    {
      "cell_type": "markdown",
      "source": [
        "## GPU Selection"
      ],
      "metadata": {
        "id": "R2NqL5-ob5yG"
      }
    },
    {
      "cell_type": "code",
      "source": [
        "!nvidia-smi"
      ],
      "metadata": {
        "colab": {
          "base_uri": "https://localhost:8080/"
        },
        "id": "yAgjoq8nb2gb",
        "outputId": "862b55b1-dda4-47f4-8eb6-db90d8d7e403"
      },
      "execution_count": 128,
      "outputs": [
        {
          "output_type": "stream",
          "name": "stdout",
          "text": [
            "Sat Apr  6 22:05:52 2024       \n",
            "+---------------------------------------------------------------------------------------+\n",
            "| NVIDIA-SMI 535.104.05             Driver Version: 535.104.05   CUDA Version: 12.2     |\n",
            "|-----------------------------------------+----------------------+----------------------+\n",
            "| GPU  Name                 Persistence-M | Bus-Id        Disp.A | Volatile Uncorr. ECC |\n",
            "| Fan  Temp   Perf          Pwr:Usage/Cap |         Memory-Usage | GPU-Util  Compute M. |\n",
            "|                                         |                      |               MIG M. |\n",
            "|=========================================+======================+======================|\n",
            "|   0  Tesla T4                       Off | 00000000:00:04.0 Off |                    0 |\n",
            "| N/A   53C    P8              11W /  70W |      0MiB / 15360MiB |      0%      Default |\n",
            "|                                         |                      |                  N/A |\n",
            "+-----------------------------------------+----------------------+----------------------+\n",
            "                                                                                         \n",
            "+---------------------------------------------------------------------------------------+\n",
            "| Processes:                                                                            |\n",
            "|  GPU   GI   CI        PID   Type   Process name                            GPU Memory |\n",
            "|        ID   ID                                                             Usage      |\n",
            "|=======================================================================================|\n",
            "|  No running processes found                                                           |\n",
            "+---------------------------------------------------------------------------------------+\n"
          ]
        }
      ]
    },
    {
      "cell_type": "markdown",
      "source": [
        "### Check for GPU access with pytorch"
      ],
      "metadata": {
        "id": "8kdd37x2cq5B"
      }
    },
    {
      "cell_type": "code",
      "source": [
        "torch.cuda.is_available()"
      ],
      "metadata": {
        "colab": {
          "base_uri": "https://localhost:8080/"
        },
        "id": "uO8BKvVFcJp9",
        "outputId": "3c17e867-6068-48c5-998a-4155a84159b4"
      },
      "execution_count": 129,
      "outputs": [
        {
          "output_type": "execute_result",
          "data": {
            "text/plain": [
              "True"
            ]
          },
          "metadata": {},
          "execution_count": 129
        }
      ]
    },
    {
      "cell_type": "markdown",
      "source": [
        "## Setup device agnostic code"
      ],
      "metadata": {
        "id": "8KKhIlZJcu5B"
      }
    },
    {
      "cell_type": "code",
      "source": [
        "device = \"cuda\" if torch.cuda.is_available() else \"cpu\"\n",
        "device"
      ],
      "metadata": {
        "colab": {
          "base_uri": "https://localhost:8080/",
          "height": 35
        },
        "id": "IBnVzXLXcx11",
        "outputId": "04d2dbcd-457e-4451-a44d-851f8d22d729"
      },
      "execution_count": 130,
      "outputs": [
        {
          "output_type": "execute_result",
          "data": {
            "text/plain": [
              "'cuda'"
            ],
            "application/vnd.google.colaboratory.intrinsic+json": {
              "type": "string"
            }
          },
          "metadata": {},
          "execution_count": 130
        }
      ]
    },
    {
      "cell_type": "code",
      "source": [
        "# count number of devices\n",
        "\n",
        "torch.cuda.device_count()"
      ],
      "metadata": {
        "colab": {
          "base_uri": "https://localhost:8080/"
        },
        "id": "_I3432pMc_Fo",
        "outputId": "db825179-a00a-4834-f9cb-619ead6f4a66"
      },
      "execution_count": 131,
      "outputs": [
        {
          "output_type": "execute_result",
          "data": {
            "text/plain": [
              "1"
            ]
          },
          "metadata": {},
          "execution_count": 131
        }
      ]
    },
    {
      "cell_type": "markdown",
      "source": [
        "### Putting tensors (and models) on the GPU\n",
        "\n",
        "The reason we want tensors/models on the GPU is because using a GPU results in faster computations"
      ],
      "metadata": {
        "id": "0CMYwnkddo_Z"
      }
    },
    {
      "cell_type": "code",
      "source": [
        "# Create a tensor (default on the CPU)\n",
        "tensor = torch.tensor([1,2,3])\n",
        "\n",
        "print(tensor, tensor.device)"
      ],
      "metadata": {
        "colab": {
          "base_uri": "https://localhost:8080/"
        },
        "id": "GBIQ9ljmdibn",
        "outputId": "c2fe24af-26bd-477e-a50f-9ed050399d17"
      },
      "execution_count": 132,
      "outputs": [
        {
          "output_type": "stream",
          "name": "stdout",
          "text": [
            "tensor([1, 2, 3]) cpu\n"
          ]
        }
      ]
    },
    {
      "cell_type": "code",
      "source": [
        "# Create a tensor on GPU\n",
        "tensor_on_gpu = tensor.to(device) # device = \"cuda\" (we set this above)\n",
        "\n",
        "print(tensor, tensor.device)"
      ],
      "metadata": {
        "colab": {
          "base_uri": "https://localhost:8080/"
        },
        "id": "iNAWs2oufhgS",
        "outputId": "07fb574a-63dc-43d6-b475-75b08331370d"
      },
      "execution_count": 134,
      "outputs": [
        {
          "output_type": "stream",
          "name": "stdout",
          "text": [
            "tensor([1, 2, 3], device='cuda:0') cuda:0\n"
          ]
        }
      ]
    },
    {
      "cell_type": "markdown",
      "source": [
        "### Moving tensors back to the CPU"
      ],
      "metadata": {
        "id": "VHCrV_GMgXoX"
      }
    },
    {
      "cell_type": "code",
      "source": [
        "# If tensor is on GPU, we can't convert it to NumPy\n",
        "\n",
        "tensor_back_on_CPU = tensor_on_gpu.cpu().numpy()\n",
        "tensor_back_on_CPU"
      ],
      "metadata": {
        "colab": {
          "base_uri": "https://localhost:8080/"
        },
        "id": "E76XTGBcgdEl",
        "outputId": "a7f504c9-ddf7-4ce1-c460-b9486ae23c55"
      },
      "execution_count": 135,
      "outputs": [
        {
          "output_type": "execute_result",
          "data": {
            "text/plain": [
              "array([1, 2, 3])"
            ]
          },
          "metadata": {},
          "execution_count": 135
        }
      ]
    }
  ]
}