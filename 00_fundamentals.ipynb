{
  "nbformat": 4,
  "nbformat_minor": 0,
  "metadata": {
    "colab": {
      "provenance": []
    },
    "kernelspec": {
      "name": "python3",
      "display_name": "Python 3"
    },
    "language_info": {
      "name": "python"
    }
  },
  "cells": [
    {
      "cell_type": "markdown",
      "source": [
        "# Fundamentals of PyTorch"
      ],
      "metadata": {
        "id": "xDx6Ae-P8wDw"
      }
    },
    {
      "cell_type": "code",
      "execution_count": 2,
      "metadata": {
        "id": "-DSnIaqH8Yhd"
      },
      "outputs": [],
      "source": [
        "import torch\n",
        "import pandas as pd\n",
        "import numpy as np\n",
        "import matplotlib.pyplot as plt\n",
        "# print(torch.__version__)"
      ]
    },
    {
      "cell_type": "markdown",
      "source": [
        "## Introduction to Tensors\n",
        "\n",
        "<img src=\"https://miro.medium.com/v2/resize:fit:1008/0*zcidDaCCmJeD8y-9.png\"  height=\"100\" alt=\"Difference between scalar vector matrix and tensor\">\n",
        "\n",
        "Creating tensors using **torch.tensor()**"
      ],
      "metadata": {
        "id": "2YNDiHI59ueu"
      }
    },
    {
      "cell_type": "markdown",
      "source": [
        "### Convention\n",
        "\n",
        "- scalar and vector variables are written in smaller letters\n",
        "\n",
        "- MATRIX and VECTOR variables are written in all capital letters"
      ],
      "metadata": {
        "id": "k5MGNBn5DxcN"
      }
    },
    {
      "cell_type": "code",
      "source": [
        "scalar = torch.tensor(7)\n",
        "scalar"
      ],
      "metadata": {
        "colab": {
          "base_uri": "https://localhost:8080/"
        },
        "id": "0sYsZDGJ91le",
        "outputId": "76630322-d774-4f59-e393-a8168f24b15b"
      },
      "execution_count": 3,
      "outputs": [
        {
          "output_type": "execute_result",
          "data": {
            "text/plain": [
              "tensor(7)"
            ]
          },
          "metadata": {},
          "execution_count": 3
        }
      ]
    },
    {
      "cell_type": "code",
      "source": [
        "# Get tensor back as a Python int\n",
        "scalar.item()"
      ],
      "metadata": {
        "colab": {
          "base_uri": "https://localhost:8080/"
        },
        "id": "EWnGWSm_-g6v",
        "outputId": "4b99bc76-c67d-4c28-e6ff-b0e461cb6288"
      },
      "execution_count": 4,
      "outputs": [
        {
          "output_type": "execute_result",
          "data": {
            "text/plain": [
              "7"
            ]
          },
          "metadata": {},
          "execution_count": 4
        }
      ]
    },
    {
      "cell_type": "markdown",
      "source": [
        "### Vector\n",
        "Vector has a magnitude and direction"
      ],
      "metadata": {
        "id": "-QOJyCBE-she"
      }
    },
    {
      "cell_type": "code",
      "source": [
        "vector = torch.tensor([7,7])\n",
        "vector"
      ],
      "metadata": {
        "colab": {
          "base_uri": "https://localhost:8080/"
        },
        "id": "rPaI4Pz8-lZM",
        "outputId": "d4dfb1d2-ca20-4eee-995e-1de89ea7ad06"
      },
      "execution_count": 5,
      "outputs": [
        {
          "output_type": "execute_result",
          "data": {
            "text/plain": [
              "tensor([7, 7])"
            ]
          },
          "metadata": {},
          "execution_count": 5
        }
      ]
    },
    {
      "cell_type": "markdown",
      "source": [
        "### _Dimensions_\n",
        "\n",
        "Easy way to remember is ->\n",
        "**dimension = number of square brackets**  "
      ],
      "metadata": {
        "id": "BDucRfgk_hv_"
      }
    },
    {
      "cell_type": "code",
      "source": [
        "# get the dimensions of tensor\n",
        "vector.ndim"
      ],
      "metadata": {
        "colab": {
          "base_uri": "https://localhost:8080/"
        },
        "id": "DFHJNsBm-d4H",
        "outputId": "2f38b104-4519-43ee-a4d2-1daf7794eb33"
      },
      "execution_count": 6,
      "outputs": [
        {
          "output_type": "execute_result",
          "data": {
            "text/plain": [
              "1"
            ]
          },
          "metadata": {},
          "execution_count": 6
        }
      ]
    },
    {
      "cell_type": "markdown",
      "source": [
        "### _Shape_\n",
        "\n",
        "eg: [7, 7] - we have **2** x 1 elements"
      ],
      "metadata": {
        "id": "889hR-ss_5Ll"
      }
    },
    {
      "cell_type": "code",
      "source": [
        "vector.shape"
      ],
      "metadata": {
        "colab": {
          "base_uri": "https://localhost:8080/"
        },
        "id": "mAhngn7I_5fW",
        "outputId": "e127924b-e059-401e-b8c5-0ea04482edb8"
      },
      "execution_count": 7,
      "outputs": [
        {
          "output_type": "execute_result",
          "data": {
            "text/plain": [
              "torch.Size([2])"
            ]
          },
          "metadata": {},
          "execution_count": 7
        }
      ]
    },
    {
      "cell_type": "markdown",
      "source": [
        "### MATRIX"
      ],
      "metadata": {
        "id": "SmuiC4SJA0EF"
      }
    },
    {
      "cell_type": "code",
      "source": [
        "MATRIX = torch.tensor([[7, 8],\n",
        "                       [9, 10]])\n",
        "\n",
        "print(MATRIX.ndim)\n",
        "print(MATRIX.shape)\n",
        "\n",
        "# accessing the first row\n",
        "print(MATRIX[0])"
      ],
      "metadata": {
        "colab": {
          "base_uri": "https://localhost:8080/"
        },
        "id": "mhg1H-wSAz1w",
        "outputId": "5117ff9d-03f1-441a-9246-e1c280bd6b97"
      },
      "execution_count": 8,
      "outputs": [
        {
          "output_type": "stream",
          "name": "stdout",
          "text": [
            "2\n",
            "torch.Size([2, 2])\n",
            "tensor([7, 8])\n"
          ]
        }
      ]
    },
    {
      "cell_type": "markdown",
      "source": [
        "### TENSOR"
      ],
      "metadata": {
        "id": "d4seXAKrBxPv"
      }
    },
    {
      "cell_type": "code",
      "source": [
        "TENSOR = torch.tensor([[[1,2,3],\n",
        "                        [3,6,9],\n",
        "                        [2,4,5]]])\n",
        "\n",
        "print(TENSOR)"
      ],
      "metadata": {
        "colab": {
          "base_uri": "https://localhost:8080/"
        },
        "id": "j6AmtNVrBxgF",
        "outputId": "857274d7-84fa-4c72-9ae1-414b1812347f"
      },
      "execution_count": 9,
      "outputs": [
        {
          "output_type": "stream",
          "name": "stdout",
          "text": [
            "tensor([[[1, 2, 3],\n",
            "         [3, 6, 9],\n",
            "         [2, 4, 5]]])\n"
          ]
        }
      ]
    },
    {
      "cell_type": "markdown",
      "source": [
        "### _Dimension of a Tensor_\n",
        "\n",
        "<img src=\"https://raw.githubusercontent.com/mrdbourke/pytorch-deep-learning/main/images/00-pytorch-different-tensor-dimensions.png\" height=250>"
      ],
      "metadata": {
        "id": "iAXDCfcQC9xd"
      }
    },
    {
      "cell_type": "code",
      "source": [
        "print(TENSOR.ndim)\n",
        "print(TENSOR.shape)"
      ],
      "metadata": {
        "colab": {
          "base_uri": "https://localhost:8080/"
        },
        "id": "m1TGH1AjCh7N",
        "outputId": "ecffe0f4-36cb-437d-a286-67e8f1d8d2bb"
      },
      "execution_count": 10,
      "outputs": [
        {
          "output_type": "stream",
          "name": "stdout",
          "text": [
            "3\n",
            "torch.Size([1, 3, 3])\n"
          ]
        }
      ]
    },
    {
      "cell_type": "markdown",
      "source": [
        "## Random Tensors\n",
        "\n",
        "**Why random tensors?**  \n",
        "Random tensors are important because the way many neural networks learn is that they start with tensors full of random numbers and then adjust those random numbers to better represent data\n",
        "\n",
        "`Start with random number -> Look at Data -> Update random numbers -> Look at Data -> Update random numbers`\n"
      ],
      "metadata": {
        "id": "O6ufmSMRD3o0"
      }
    },
    {
      "cell_type": "code",
      "source": [
        "# Creating random tensor of size (3, 4)\n",
        "\n",
        "random_tensor = torch.rand(3,4)\n",
        "random_tensor"
      ],
      "metadata": {
        "colab": {
          "base_uri": "https://localhost:8080/"
        },
        "id": "s__C2lzCD7EB",
        "outputId": "caf3ebb2-0cfc-4f5f-a9f5-7ee37cc606e5"
      },
      "execution_count": 11,
      "outputs": [
        {
          "output_type": "execute_result",
          "data": {
            "text/plain": [
              "tensor([[0.3062, 0.2306, 0.8327, 0.7223],\n",
              "        [0.1846, 0.6145, 0.4829, 0.7220],\n",
              "        [0.8530, 0.4859, 0.4830, 0.9159]])"
            ]
          },
          "metadata": {},
          "execution_count": 11
        }
      ]
    },
    {
      "cell_type": "code",
      "source": [
        "# Creating random tensor with similar shape to Image Tensor\n",
        "\n",
        "random_image_size_tensor = torch.rand(size=(224,224,3)) # size(height, width, color channels)\n",
        "\n",
        "print(random_image_size_tensor.shape)\n",
        "print(random_image_size_tensor.ndim)"
      ],
      "metadata": {
        "colab": {
          "base_uri": "https://localhost:8080/"
        },
        "id": "a-I5LPXfFkgW",
        "outputId": "df0df696-5633-4512-c13a-442531b40e3c"
      },
      "execution_count": 12,
      "outputs": [
        {
          "output_type": "stream",
          "name": "stdout",
          "text": [
            "torch.Size([224, 224, 3])\n",
            "3\n"
          ]
        }
      ]
    },
    {
      "cell_type": "code",
      "source": [
        "# Create a tensor of all zeros\n",
        "\n",
        "zeros = torch.zeros(size=(3,4))\n",
        "zeros"
      ],
      "metadata": {
        "colab": {
          "base_uri": "https://localhost:8080/"
        },
        "id": "poUPddvcKrV8",
        "outputId": "0fea594e-c7fa-4622-cd2e-3b39d3eb0c74"
      },
      "execution_count": 13,
      "outputs": [
        {
          "output_type": "execute_result",
          "data": {
            "text/plain": [
              "tensor([[0., 0., 0., 0.],\n",
              "        [0., 0., 0., 0.],\n",
              "        [0., 0., 0., 0.]])"
            ]
          },
          "metadata": {},
          "execution_count": 13
        }
      ]
    },
    {
      "cell_type": "code",
      "source": [
        "# Create a tensor of all ones\n",
        "\n",
        "ones = torch.ones(size=(3,4))\n",
        "ones"
      ],
      "metadata": {
        "colab": {
          "base_uri": "https://localhost:8080/"
        },
        "id": "WPCywJvmLNSM",
        "outputId": "d709b5c8-b86f-44d7-c1d6-ccf578c4400f"
      },
      "execution_count": 14,
      "outputs": [
        {
          "output_type": "execute_result",
          "data": {
            "text/plain": [
              "tensor([[1., 1., 1., 1.],\n",
              "        [1., 1., 1., 1.],\n",
              "        [1., 1., 1., 1.]])"
            ]
          },
          "metadata": {},
          "execution_count": 14
        }
      ]
    },
    {
      "cell_type": "code",
      "source": [
        "ones.dtype"
      ],
      "metadata": {
        "colab": {
          "base_uri": "https://localhost:8080/"
        },
        "id": "ppclfSsxMDzU",
        "outputId": "ab78fcd0-15e9-4b07-8756-62e664dfe5e9"
      },
      "execution_count": 15,
      "outputs": [
        {
          "output_type": "execute_result",
          "data": {
            "text/plain": [
              "torch.float32"
            ]
          },
          "metadata": {},
          "execution_count": 15
        }
      ]
    },
    {
      "cell_type": "markdown",
      "source": [
        "## Creating a Range of Tensors and Tensors-like"
      ],
      "metadata": {
        "id": "WYacD0CCMIuO"
      }
    },
    {
      "cell_type": "code",
      "source": [
        "# Range of Tensors\n",
        "\n",
        "# one_to_ten = torch.arange(0, 10)\n",
        "\n",
        "# one_to_ten = torch.arange(start=0, end=10, step =2)\\\n",
        "\n",
        "one_to_ten = torch.arange(0, 100, 5)\n",
        "\n",
        "one_to_ten"
      ],
      "metadata": {
        "colab": {
          "base_uri": "https://localhost:8080/"
        },
        "id": "7ijCwoCxMNtx",
        "outputId": "812d5bdb-8c87-4213-d57d-2756d21310e2"
      },
      "execution_count": 16,
      "outputs": [
        {
          "output_type": "execute_result",
          "data": {
            "text/plain": [
              "tensor([ 0,  5, 10, 15, 20, 25, 30, 35, 40, 45, 50, 55, 60, 65, 70, 75, 80, 85,\n",
              "        90, 95])"
            ]
          },
          "metadata": {},
          "execution_count": 16
        }
      ]
    },
    {
      "cell_type": "code",
      "source": [
        "# Creating Tensors Like\n",
        "\n",
        "ten_zeros = torch.zeros_like(input=one_to_ten)\n",
        "ten_zeros"
      ],
      "metadata": {
        "colab": {
          "base_uri": "https://localhost:8080/"
        },
        "id": "oByzPknkMr-i",
        "outputId": "96e296a3-7dcc-406b-dba0-02f779ae12c9"
      },
      "execution_count": 17,
      "outputs": [
        {
          "output_type": "execute_result",
          "data": {
            "text/plain": [
              "tensor([0, 0, 0, 0, 0, 0, 0, 0, 0, 0, 0, 0, 0, 0, 0, 0, 0, 0, 0, 0])"
            ]
          },
          "metadata": {},
          "execution_count": 17
        }
      ]
    },
    {
      "cell_type": "markdown",
      "source": [
        "## Tensor DataTypes"
      ],
      "metadata": {
        "id": "sdy2YcDLOonB"
      }
    },
    {
      "cell_type": "code",
      "source": [
        "float_32_tensor = torch.tensor([3.0, 6.0, 9.0],\n",
        "                               dtype=None, # defaults to None, which is torch.float32 or whatever datatype is passed\n",
        "                               device=None, # defaults to None, which uses the default tensor type\n",
        "                               requires_grad=False) # if True, operations performed on the tensor are recorded\n",
        "\n",
        "print(f\"Shape of the tensor is: {float_32_tensor.shape}\")\n",
        "print(f\"Datatype of the tensor is {float_32_tensor.dtype}\")\n",
        "print(f\"Tensor is running on the following device: {float_32_tensor.device}\")\n"
      ],
      "metadata": {
        "colab": {
          "base_uri": "https://localhost:8080/"
        },
        "id": "_UIqSngXOmTb",
        "outputId": "c81c3ab3-3f5b-4e01-a531-809734f3c4f7"
      },
      "execution_count": 18,
      "outputs": [
        {
          "output_type": "stream",
          "name": "stdout",
          "text": [
            "Shape of the tensor is: torch.Size([3])\n",
            "Datatype of the tensor is torch.float32\n",
            "Tensor is running on the following device: cpu\n"
          ]
        }
      ]
    },
    {
      "cell_type": "code",
      "source": [
        "float_16_tensor = float_32_tensor.type(torch.float16)\n",
        "float_16_tensor"
      ],
      "metadata": {
        "colab": {
          "base_uri": "https://localhost:8080/"
        },
        "id": "ZRj4y9KXSf_4",
        "outputId": "27403fee-1335-4620-9757-0c1b53c3a2e6"
      },
      "execution_count": 19,
      "outputs": [
        {
          "output_type": "execute_result",
          "data": {
            "text/plain": [
              "tensor([3., 6., 9.], dtype=torch.float16)"
            ]
          },
          "metadata": {},
          "execution_count": 19
        }
      ]
    },
    {
      "cell_type": "markdown",
      "source": [
        "## Manipulating Tensors\n",
        "\n",
        "Tensor Operations include:\n",
        "- Addition\n",
        "- Subtraction\n",
        "- Multiplication\n",
        "- Division\n",
        "- Matrix Multiplication"
      ],
      "metadata": {
        "id": "qhGmo8J2NRgZ"
      }
    },
    {
      "cell_type": "code",
      "source": [
        "# ADD 10 to tensor\n",
        "\n",
        "tensor = torch.tensor([1,2,3])\n",
        "\n",
        "tensor + 10"
      ],
      "metadata": {
        "colab": {
          "base_uri": "https://localhost:8080/"
        },
        "id": "2jmTZbruNVsh",
        "outputId": "f7621cd8-a099-4652-bb0c-2759b5347c40"
      },
      "execution_count": 20,
      "outputs": [
        {
          "output_type": "execute_result",
          "data": {
            "text/plain": [
              "tensor([11, 12, 13])"
            ]
          },
          "metadata": {},
          "execution_count": 20
        }
      ]
    },
    {
      "cell_type": "code",
      "source": [
        "# MULTIPLY by 10\n",
        "\n",
        "tensor * 10"
      ],
      "metadata": {
        "colab": {
          "base_uri": "https://localhost:8080/"
        },
        "id": "Yuglw2LdW6XU",
        "outputId": "77715baf-aa33-4ad9-b06b-affa15866f29"
      },
      "execution_count": 21,
      "outputs": [
        {
          "output_type": "execute_result",
          "data": {
            "text/plain": [
              "tensor([10, 20, 30])"
            ]
          },
          "metadata": {},
          "execution_count": 21
        }
      ]
    },
    {
      "cell_type": "code",
      "source": [
        "# Subtract by 10\n",
        "\n",
        "tensor - 10"
      ],
      "metadata": {
        "colab": {
          "base_uri": "https://localhost:8080/"
        },
        "id": "K7qrHk-GXRC1",
        "outputId": "bd525762-449e-493c-bbbe-f6e039f54244"
      },
      "execution_count": 22,
      "outputs": [
        {
          "output_type": "execute_result",
          "data": {
            "text/plain": [
              "tensor([-9, -8, -7])"
            ]
          },
          "metadata": {},
          "execution_count": 22
        }
      ]
    },
    {
      "cell_type": "code",
      "source": [
        "# Divide by 10\n",
        "\n",
        "tensor / 2"
      ],
      "metadata": {
        "colab": {
          "base_uri": "https://localhost:8080/"
        },
        "id": "7NwwnTvAXVZq",
        "outputId": "56910b38-41d8-4fd8-c0be-2e3d0f014e6d"
      },
      "execution_count": 23,
      "outputs": [
        {
          "output_type": "execute_result",
          "data": {
            "text/plain": [
              "tensor([0.5000, 1.0000, 1.5000])"
            ]
          },
          "metadata": {},
          "execution_count": 23
        }
      ]
    },
    {
      "cell_type": "markdown",
      "source": [
        "### Using In Built Functions"
      ],
      "metadata": {
        "id": "Sq794IaKXo55"
      }
    },
    {
      "cell_type": "code",
      "source": [
        "torch.mul(tensor, 10)"
      ],
      "metadata": {
        "colab": {
          "base_uri": "https://localhost:8080/"
        },
        "id": "lk1JL2f0Xr4F",
        "outputId": "27e319a7-659b-4772-8c5e-72f211d3e5a0"
      },
      "execution_count": 24,
      "outputs": [
        {
          "output_type": "execute_result",
          "data": {
            "text/plain": [
              "tensor([10, 20, 30])"
            ]
          },
          "metadata": {},
          "execution_count": 24
        }
      ]
    },
    {
      "cell_type": "code",
      "source": [
        "torch.add(tensor, 10)"
      ],
      "metadata": {
        "colab": {
          "base_uri": "https://localhost:8080/"
        },
        "id": "lDdP8tLqXzio",
        "outputId": "45167916-fa44-4078-b73e-a3d12806ef14"
      },
      "execution_count": 25,
      "outputs": [
        {
          "output_type": "execute_result",
          "data": {
            "text/plain": [
              "tensor([11, 12, 13])"
            ]
          },
          "metadata": {},
          "execution_count": 25
        }
      ]
    },
    {
      "cell_type": "markdown",
      "source": [
        "## Matrix Multiplication (most common neural network operation)\n",
        "\n",
        "- Element wise multiplication\n",
        "- Dot Product\n",
        "\n",
        "### Two rules to keep in mind while performing matrix multiplication\n",
        "\n",
        "1. **Inner Dimensions** must match\n",
        "- `(3, 2) @ (3, 2)` wont work ❌\n",
        "- `(2, 3) @ (3, 2)` will work ✅\n",
        "- `(3, 2) @ (2, 3)` will work ✅\n",
        "\n",
        "2. Resulting matrix has the shape of outer dimension\n",
        "\n",
        "- `(2, 3) @ (3, 2)` => `(2, 2)`"
      ],
      "metadata": {
        "id": "t28JdQoIYTg8"
      }
    },
    {
      "cell_type": "code",
      "source": [
        " # Element wise multiplication\n",
        "\n",
        "print(tensor, \"x\",  tensor)\n",
        "print(f\"equals: {tensor * tensor}\")"
      ],
      "metadata": {
        "colab": {
          "base_uri": "https://localhost:8080/"
        },
        "id": "c9X2hAddYWtd",
        "outputId": "3c174497-1f5e-4466-c3dd-75c7bd10bead"
      },
      "execution_count": 26,
      "outputs": [
        {
          "output_type": "stream",
          "name": "stdout",
          "text": [
            "tensor([1, 2, 3]) x tensor([1, 2, 3])\n",
            "equals: tensor([1, 4, 9])\n"
          ]
        }
      ]
    },
    {
      "cell_type": "code",
      "source": [
        "# Matrix Multiplication\n",
        "%%time\n",
        "print(tensor, \"x\",  tensor)\n",
        "torch.matmul(tensor, tensor)"
      ],
      "metadata": {
        "colab": {
          "base_uri": "https://localhost:8080/"
        },
        "id": "gUBBaw2JZHpl",
        "outputId": "d333d527-0c4c-45e8-cb08-092a96852b9c"
      },
      "execution_count": 27,
      "outputs": [
        {
          "output_type": "stream",
          "name": "stdout",
          "text": [
            "tensor([1, 2, 3]) x tensor([1, 2, 3])\n",
            "CPU times: user 3.7 ms, sys: 0 ns, total: 3.7 ms\n",
            "Wall time: 12.2 ms\n"
          ]
        },
        {
          "output_type": "execute_result",
          "data": {
            "text/plain": [
              "tensor(14)"
            ]
          },
          "metadata": {},
          "execution_count": 27
        }
      ]
    },
    {
      "cell_type": "markdown",
      "source": [
        "### `Shape Errors`: One of the most common errors in Matrix Multiplication"
      ],
      "metadata": {
        "id": "qFia9izRdpUj"
      }
    },
    {
      "cell_type": "code",
      "source": [
        "# Shapes for matrix multiplication\n",
        "\n",
        "tensor_A = torch.tensor([[1,2],\n",
        "                         [3,4],\n",
        "                         [5,6]])\n",
        "\n",
        "tensor_B = torch.tensor([[2,4],\n",
        "                         [6,12],\n",
        "                         [8,16]])\n",
        "\n",
        "print(tensor_A.shape, tensor_B.shape)\n",
        "\n",
        "# Their shapes are different hence they will fail\n",
        "torch.mm(tensor_A, tensor_B)"
      ],
      "metadata": {
        "colab": {
          "base_uri": "https://localhost:8080/",
          "height": 193
        },
        "id": "jwDmkxtOa-Y0",
        "outputId": "76e93099-a1e8-4017-d091-cb31878fc209"
      },
      "execution_count": 28,
      "outputs": [
        {
          "output_type": "stream",
          "name": "stdout",
          "text": [
            "torch.Size([3, 2]) torch.Size([3, 2])\n"
          ]
        },
        {
          "output_type": "error",
          "ename": "RuntimeError",
          "evalue": "mat1 and mat2 shapes cannot be multiplied (3x2 and 3x2)",
          "traceback": [
            "\u001b[0;31m---------------------------------------------------------------------------\u001b[0m",
            "\u001b[0;31mRuntimeError\u001b[0m                              Traceback (most recent call last)",
            "\u001b[0;32m<ipython-input-28-1e8c8dd53a94>\u001b[0m in \u001b[0;36m<cell line: 14>\u001b[0;34m()\u001b[0m\n\u001b[1;32m     12\u001b[0m \u001b[0;34m\u001b[0m\u001b[0m\n\u001b[1;32m     13\u001b[0m \u001b[0;31m# Their shapes are different hence they will fail\u001b[0m\u001b[0;34m\u001b[0m\u001b[0;34m\u001b[0m\u001b[0m\n\u001b[0;32m---> 14\u001b[0;31m \u001b[0mtorch\u001b[0m\u001b[0;34m.\u001b[0m\u001b[0mmm\u001b[0m\u001b[0;34m(\u001b[0m\u001b[0mtensor_A\u001b[0m\u001b[0;34m,\u001b[0m \u001b[0mtensor_B\u001b[0m\u001b[0;34m)\u001b[0m\u001b[0;34m\u001b[0m\u001b[0;34m\u001b[0m\u001b[0m\n\u001b[0m",
            "\u001b[0;31mRuntimeError\u001b[0m: mat1 and mat2 shapes cannot be multiplied (3x2 and 3x2)"
          ]
        }
      ]
    },
    {
      "cell_type": "markdown",
      "source": [
        "### `Transpose` of the matrix to fix this error"
      ],
      "metadata": {
        "id": "S3EGYmCafCdc"
      }
    },
    {
      "cell_type": "code",
      "source": [
        "tensor_B.T\n",
        "\n",
        "print(f\"Transposed matrixB:\")\n",
        "print(f\"{tensor_B.T}\")\n",
        "\n",
        "print(f\"and its shape is: {tensor_B.T.shape}\")"
      ],
      "metadata": {
        "colab": {
          "base_uri": "https://localhost:8080/"
        },
        "id": "X4U9gDgEe54E",
        "outputId": "05303501-4aab-410c-effd-5c498d0aff69"
      },
      "execution_count": 29,
      "outputs": [
        {
          "output_type": "stream",
          "name": "stdout",
          "text": [
            "Transposed matrixB:\n",
            "tensor([[ 2,  6,  8],\n",
            "        [ 4, 12, 16]])\n",
            "and its shape is: torch.Size([2, 3])\n"
          ]
        }
      ]
    },
    {
      "cell_type": "code",
      "source": [
        "print(tensor_A)\n",
        "print(tensor_B.T)\n",
        "\n",
        "print(f\"\\nShapes of both matrix {tensor_A.shape} {tensor_B.T.shape}\")\n",
        "\n",
        "print(\"\\nMatrix Multiplying these tensors: \\n\")\n",
        "torch.matmul(tensor_A, tensor_B.T)"
      ],
      "metadata": {
        "colab": {
          "base_uri": "https://localhost:8080/"
        },
        "id": "GVo2XLHAfx1L",
        "outputId": "aa5d0470-a411-4c32-aa02-be185ce29fc5"
      },
      "execution_count": 30,
      "outputs": [
        {
          "output_type": "stream",
          "name": "stdout",
          "text": [
            "tensor([[1, 2],\n",
            "        [3, 4],\n",
            "        [5, 6]])\n",
            "tensor([[ 2,  6,  8],\n",
            "        [ 4, 12, 16]])\n",
            "\n",
            "Shapes of both matrix torch.Size([3, 2]) torch.Size([2, 3])\n",
            "\n",
            "Matrix Multiplying these tensors: \n",
            "\n"
          ]
        },
        {
          "output_type": "execute_result",
          "data": {
            "text/plain": [
              "tensor([[ 10,  30,  40],\n",
              "        [ 22,  66,  88],\n",
              "        [ 34, 102, 136]])"
            ]
          },
          "metadata": {},
          "execution_count": 30
        }
      ]
    },
    {
      "cell_type": "markdown",
      "source": [
        "## Tensor Aggregration\n",
        "\n",
        "- Min\n",
        "- Max\n",
        "- Mean\n",
        "- Sum"
      ],
      "metadata": {
        "id": "-KDKLM8Blk5I"
      }
    },
    {
      "cell_type": "code",
      "source": [
        "# Creat a tensor\n",
        "\n",
        "x = torch.arange(0,100,10)\n",
        "x"
      ],
      "metadata": {
        "colab": {
          "base_uri": "https://localhost:8080/"
        },
        "id": "L6VafAPDlkd6",
        "outputId": "907b96b2-31fe-46a0-96e5-e182bf1471ba"
      },
      "execution_count": 50,
      "outputs": [
        {
          "output_type": "execute_result",
          "data": {
            "text/plain": [
              "tensor([ 0, 10, 20, 30, 40, 50, 60, 70, 80, 90])"
            ]
          },
          "metadata": {},
          "execution_count": 50
        }
      ]
    },
    {
      "cell_type": "code",
      "source": [
        "# Find the Min\n",
        "torch.min(x), x.min()"
      ],
      "metadata": {
        "colab": {
          "base_uri": "https://localhost:8080/"
        },
        "id": "K62yVw1dtLOB",
        "outputId": "e9c1f477-7af0-4160-b022-d3dbe6f646b4"
      },
      "execution_count": 34,
      "outputs": [
        {
          "output_type": "execute_result",
          "data": {
            "text/plain": [
              "(tensor(0), tensor(0))"
            ]
          },
          "metadata": {},
          "execution_count": 34
        }
      ]
    },
    {
      "cell_type": "code",
      "source": [
        "# Find the Max\n",
        "torch.max(x), x.max()"
      ],
      "metadata": {
        "colab": {
          "base_uri": "https://localhost:8080/"
        },
        "id": "pNrf9-pbtO9J",
        "outputId": "b70efac8-d97e-4ebf-936e-991cb2fb9dc6"
      },
      "execution_count": 36,
      "outputs": [
        {
          "output_type": "execute_result",
          "data": {
            "text/plain": [
              "(tensor(90), tensor(90))"
            ]
          },
          "metadata": {},
          "execution_count": 36
        }
      ]
    },
    {
      "cell_type": "markdown",
      "source": [
        "### `DType Error`"
      ],
      "metadata": {
        "id": "H0xafgwJuJ_f"
      }
    },
    {
      "cell_type": "code",
      "source": [
        "# Find the mean(average)\n",
        "torch.mean(x) # x has dtype int64"
      ],
      "metadata": {
        "colab": {
          "base_uri": "https://localhost:8080/",
          "height": 176
        },
        "id": "aSMM4uH0tUCv",
        "outputId": "e5b23cdf-982b-4185-a179-de7e56ffe8f9"
      },
      "execution_count": 41,
      "outputs": [
        {
          "output_type": "error",
          "ename": "RuntimeError",
          "evalue": "mean(): could not infer output dtype. Input dtype must be either a floating point or complex dtype. Got: Long",
          "traceback": [
            "\u001b[0;31m---------------------------------------------------------------------------\u001b[0m",
            "\u001b[0;31mRuntimeError\u001b[0m                              Traceback (most recent call last)",
            "\u001b[0;32m<ipython-input-41-f279180e115c>\u001b[0m in \u001b[0;36m<cell line: 2>\u001b[0;34m()\u001b[0m\n\u001b[1;32m      1\u001b[0m \u001b[0;31m# Find the mean(average)\u001b[0m\u001b[0;34m\u001b[0m\u001b[0;34m\u001b[0m\u001b[0m\n\u001b[0;32m----> 2\u001b[0;31m \u001b[0mtorch\u001b[0m\u001b[0;34m.\u001b[0m\u001b[0mmean\u001b[0m\u001b[0;34m(\u001b[0m\u001b[0mx\u001b[0m\u001b[0;34m)\u001b[0m \u001b[0;31m# x has dtype int64\u001b[0m\u001b[0;34m\u001b[0m\u001b[0;34m\u001b[0m\u001b[0m\n\u001b[0m",
            "\u001b[0;31mRuntimeError\u001b[0m: mean(): could not infer output dtype. Input dtype must be either a floating point or complex dtype. Got: Long"
          ]
        }
      ]
    },
    {
      "cell_type": "code",
      "source": [
        "# Finding mean by changing dtype of tensor\n",
        "torch.mean(x.type(torch.float32)), x.type(torch.float32).mean()"
      ],
      "metadata": {
        "colab": {
          "base_uri": "https://localhost:8080/"
        },
        "id": "8eL1gia7tnoq",
        "outputId": "4e76611b-eb64-452a-8acc-97628b43bf6a"
      },
      "execution_count": 44,
      "outputs": [
        {
          "output_type": "execute_result",
          "data": {
            "text/plain": [
              "(tensor(45.), tensor(45.))"
            ]
          },
          "metadata": {},
          "execution_count": 44
        }
      ]
    },
    {
      "cell_type": "code",
      "source": [
        "# Finding the sum\n",
        "torch.sum(x), x.sum()"
      ],
      "metadata": {
        "colab": {
          "base_uri": "https://localhost:8080/"
        },
        "id": "_9VHmUvSuBsu",
        "outputId": "0d4fe779-8abd-44f5-b0ca-4ba3092609cf"
      },
      "execution_count": 45,
      "outputs": [
        {
          "output_type": "execute_result",
          "data": {
            "text/plain": [
              "(tensor(450), tensor(450))"
            ]
          },
          "metadata": {},
          "execution_count": 45
        }
      ]
    },
    {
      "cell_type": "markdown",
      "source": [
        "## Positional Min, Max\n",
        "\n",
        "- returns the index at which the min / max element is located"
      ],
      "metadata": {
        "id": "gYTWrauKuX9P"
      }
    },
    {
      "cell_type": "code",
      "source": [
        "# Finding positional min\n",
        "\n",
        "print(x)\n",
        "\n",
        "x.argmin() # returns index of min position"
      ],
      "metadata": {
        "colab": {
          "base_uri": "https://localhost:8080/"
        },
        "id": "ch3Ho5afuaNA",
        "outputId": "069afbaf-2199-4411-b749-eae069debb95"
      },
      "execution_count": 47,
      "outputs": [
        {
          "output_type": "stream",
          "name": "stdout",
          "text": [
            "tensor([ 0, 10, 20, 30, 40, 50, 60, 70, 80, 90])\n"
          ]
        },
        {
          "output_type": "execute_result",
          "data": {
            "text/plain": [
              "tensor(0)"
            ]
          },
          "metadata": {},
          "execution_count": 47
        }
      ]
    },
    {
      "cell_type": "code",
      "source": [
        "x.argmax() # returns index of min position"
      ],
      "metadata": {
        "colab": {
          "base_uri": "https://localhost:8080/"
        },
        "id": "qGOzCme-u_gX",
        "outputId": "2e9f3e99-f4f6-4401-915d-810c07ac9f5a"
      },
      "execution_count": 49,
      "outputs": [
        {
          "output_type": "execute_result",
          "data": {
            "text/plain": [
              "tensor(9)"
            ]
          },
          "metadata": {},
          "execution_count": 49
        }
      ]
    },
    {
      "cell_type": "markdown",
      "source": [
        "## Reshaping, Stacking, Squeezing and Unsqueezing tensors\n",
        "\n",
        "| Method |\tOne-line description |\n",
        "| ------ | ---------------------- |\n",
        "|torch.reshape(input, shape) | \tReshapes input to shape (if compatible), can also use torch.Tensor.reshape(). |\n",
        "Tensor.view(shape) | \tReturns a view of the original tensor in a different shape but shares the same data as the original tensor. |\n",
        "torch.stack(tensors, dim=0) |\tConcatenates a sequence of tensors along a new dimension (dim), all tensors must be same size.|\n",
        "torch.squeeze(input) |\tSqueezes input to remove all the dimenions with value 1. |\n",
        "torch.unsqueeze(input, dim) |\tReturns input with a dimension value of 1 added at dim. |\n",
        "torch.permute(input, dims) |\tReturns a view of the original input with its dimensions permuted (rearranged) to dims. |"
      ],
      "metadata": {
        "id": "E93T1c8ix4wh"
      }
    },
    {
      "cell_type": "markdown",
      "source": [
        "### Shape"
      ],
      "metadata": {
        "id": "5Zbpj31B03Jg"
      }
    },
    {
      "cell_type": "code",
      "source": [
        "x = torch.arange(1., 10.)\n",
        "x, x.shape"
      ],
      "metadata": {
        "colab": {
          "base_uri": "https://localhost:8080/"
        },
        "id": "oIpfyjvRyY_n",
        "outputId": "7f72c4e7-ae03-4667-d875-8ee4374524ec"
      },
      "execution_count": 65,
      "outputs": [
        {
          "output_type": "execute_result",
          "data": {
            "text/plain": [
              "(tensor([1., 2., 3., 4., 5., 6., 7., 8., 9.]), torch.Size([9]))"
            ]
          },
          "metadata": {},
          "execution_count": 65
        }
      ]
    },
    {
      "cell_type": "code",
      "source": [
        "# Reshape - Add extra dimension\n",
        "\n",
        "x_reshaped = x.reshape(1, 9)\n",
        "x_reshaped, x_reshaped.shape"
      ],
      "metadata": {
        "colab": {
          "base_uri": "https://localhost:8080/"
        },
        "id": "8qgv-jZHzsSn",
        "outputId": "39fbfdc1-92b3-4f9e-eba6-276e3a162927"
      },
      "execution_count": 52,
      "outputs": [
        {
          "output_type": "execute_result",
          "data": {
            "text/plain": [
              "(tensor([[1., 2., 3., 4., 5., 6., 7., 8., 9.]]), torch.Size([1, 9]))"
            ]
          },
          "metadata": {},
          "execution_count": 52
        }
      ]
    },
    {
      "cell_type": "code",
      "source": [
        "x_reshaped = x.reshape(9,1)\n",
        "x_reshaped, x_reshaped.shape"
      ],
      "metadata": {
        "colab": {
          "base_uri": "https://localhost:8080/"
        },
        "id": "VFqkkyti0KQ1",
        "outputId": "09919b8e-fbd6-4393-af10-f3b3285b9569"
      },
      "execution_count": 57,
      "outputs": [
        {
          "output_type": "execute_result",
          "data": {
            "text/plain": [
              "(tensor([[1.],\n",
              "         [2.],\n",
              "         [3.],\n",
              "         [4.],\n",
              "         [5.],\n",
              "         [6.],\n",
              "         [7.],\n",
              "         [8.],\n",
              "         [9.]]),\n",
              " torch.Size([9, 1]))"
            ]
          },
          "metadata": {},
          "execution_count": 57
        }
      ]
    },
    {
      "cell_type": "code",
      "source": [
        "x_reshaped = x.reshape(3,3)\n",
        "x_reshaped, x_reshaped.shape"
      ],
      "metadata": {
        "colab": {
          "base_uri": "https://localhost:8080/"
        },
        "id": "23iPxf401HWv",
        "outputId": "b53743bd-3aa2-49c6-a836-af979f17e267"
      },
      "execution_count": 58,
      "outputs": [
        {
          "output_type": "execute_result",
          "data": {
            "text/plain": [
              "(tensor([[1., 2., 3.],\n",
              "         [4., 5., 6.],\n",
              "         [7., 8., 9.]]),\n",
              " torch.Size([3, 3]))"
            ]
          },
          "metadata": {},
          "execution_count": 58
        }
      ]
    },
    {
      "cell_type": "markdown",
      "source": [
        "### `Shape Errors`"
      ],
      "metadata": {
        "id": "OdBYFYZ20WrW"
      }
    },
    {
      "cell_type": "code",
      "source": [
        "# Here we will get an error becuase ->\n",
        "# we are trying to squeeze 9 elements into 7 elements\n",
        "\n",
        "x_reshaped = x.reshape(1, 7)\n",
        "x_reshaped, x_reshaped.shape"
      ],
      "metadata": {
        "colab": {
          "base_uri": "https://localhost:8080/",
          "height": 193
        },
        "id": "ZycQ_Qgl0PFJ",
        "outputId": "c0932450-f7a5-40ee-f519-e0917f810efb"
      },
      "execution_count": 56,
      "outputs": [
        {
          "output_type": "error",
          "ename": "RuntimeError",
          "evalue": "shape '[1, 7]' is invalid for input of size 9",
          "traceback": [
            "\u001b[0;31m---------------------------------------------------------------------------\u001b[0m",
            "\u001b[0;31mRuntimeError\u001b[0m                              Traceback (most recent call last)",
            "\u001b[0;32m<ipython-input-56-d1b77d0f2c29>\u001b[0m in \u001b[0;36m<cell line: 4>\u001b[0;34m()\u001b[0m\n\u001b[1;32m      2\u001b[0m \u001b[0;31m# we are trying to squeeze 9 elements into 7 elements\u001b[0m\u001b[0;34m\u001b[0m\u001b[0;34m\u001b[0m\u001b[0m\n\u001b[1;32m      3\u001b[0m \u001b[0;34m\u001b[0m\u001b[0m\n\u001b[0;32m----> 4\u001b[0;31m \u001b[0mx_reshaped\u001b[0m \u001b[0;34m=\u001b[0m \u001b[0mx\u001b[0m\u001b[0;34m.\u001b[0m\u001b[0mreshape\u001b[0m\u001b[0;34m(\u001b[0m\u001b[0;36m1\u001b[0m\u001b[0;34m,\u001b[0m \u001b[0;36m7\u001b[0m\u001b[0;34m)\u001b[0m\u001b[0;34m\u001b[0m\u001b[0;34m\u001b[0m\u001b[0m\n\u001b[0m\u001b[1;32m      5\u001b[0m \u001b[0mx_reshaped\u001b[0m\u001b[0;34m,\u001b[0m \u001b[0mx_reshaped\u001b[0m\u001b[0;34m.\u001b[0m\u001b[0mshape\u001b[0m\u001b[0;34m\u001b[0m\u001b[0;34m\u001b[0m\u001b[0m\n",
            "\u001b[0;31mRuntimeError\u001b[0m: shape '[1, 7]' is invalid for input of size 9"
          ]
        }
      ]
    },
    {
      "cell_type": "code",
      "source": [
        "# Here we will get an error becuase ->\n",
        "# we are trying to squeeze 9 elements into 18 (9 x 2)\n",
        "\n",
        "x_reshaped = x.reshape(2, 9)\n",
        "x_reshaped, x_reshaped.shape"
      ],
      "metadata": {
        "colab": {
          "base_uri": "https://localhost:8080/",
          "height": 193
        },
        "id": "d2Qxx4eo0aT-",
        "outputId": "d7884ec3-c7ea-4f85-b3b1-785e81c10b7c"
      },
      "execution_count": 55,
      "outputs": [
        {
          "output_type": "error",
          "ename": "RuntimeError",
          "evalue": "shape '[2, 9]' is invalid for input of size 9",
          "traceback": [
            "\u001b[0;31m---------------------------------------------------------------------------\u001b[0m",
            "\u001b[0;31mRuntimeError\u001b[0m                              Traceback (most recent call last)",
            "\u001b[0;32m<ipython-input-55-9367db93371d>\u001b[0m in \u001b[0;36m<cell line: 3>\u001b[0;34m()\u001b[0m\n\u001b[1;32m      1\u001b[0m \u001b[0;31m# Here we will get an error becuase we are trying to squeeze 9 elements into 7\u001b[0m\u001b[0;34m\u001b[0m\u001b[0;34m\u001b[0m\u001b[0m\n\u001b[1;32m      2\u001b[0m \u001b[0;34m\u001b[0m\u001b[0m\n\u001b[0;32m----> 3\u001b[0;31m \u001b[0mx_reshaped\u001b[0m \u001b[0;34m=\u001b[0m \u001b[0mx\u001b[0m\u001b[0;34m.\u001b[0m\u001b[0mreshape\u001b[0m\u001b[0;34m(\u001b[0m\u001b[0;36m2\u001b[0m\u001b[0;34m,\u001b[0m \u001b[0;36m9\u001b[0m\u001b[0;34m)\u001b[0m\u001b[0;34m\u001b[0m\u001b[0;34m\u001b[0m\u001b[0m\n\u001b[0m\u001b[1;32m      4\u001b[0m \u001b[0mx_reshaped\u001b[0m\u001b[0;34m,\u001b[0m \u001b[0mx_reshaped\u001b[0m\u001b[0;34m.\u001b[0m\u001b[0mshape\u001b[0m\u001b[0;34m\u001b[0m\u001b[0;34m\u001b[0m\u001b[0m\n",
            "\u001b[0;31mRuntimeError\u001b[0m: shape '[2, 9]' is invalid for input of size 9"
          ]
        }
      ]
    },
    {
      "cell_type": "markdown",
      "source": [
        "### View\n",
        "\n",
        "View is similar to shape, but ->  \n",
        "the only difference is view **shares the same memory** as original tensor"
      ],
      "metadata": {
        "id": "XdOrZkDJ1SFZ"
      }
    },
    {
      "cell_type": "code",
      "source": [
        "z = x.view(1,9)\n",
        "z, z.shape"
      ],
      "metadata": {
        "colab": {
          "base_uri": "https://localhost:8080/"
        },
        "id": "kgP6304S1TUk",
        "outputId": "db72c831-922c-4887-e45d-9149ef82b1a0"
      },
      "execution_count": 66,
      "outputs": [
        {
          "output_type": "execute_result",
          "data": {
            "text/plain": [
              "(tensor([[1., 2., 3., 4., 5., 6., 7., 8., 9.]]), torch.Size([1, 9]))"
            ]
          },
          "metadata": {},
          "execution_count": 66
        }
      ]
    },
    {
      "cell_type": "code",
      "source": [
        "# changing z will change x(because their memory is shared)\n",
        "\n",
        "print(\"original z and x:\")\n",
        "print(z, x)\n",
        "\n",
        "z[:, 0] = 5\n",
        "\n",
        "print(\"\\nModifying z leads to modification of x too\\n\")\n",
        "print(\"modified z and x:\")\n",
        "print(z, x)"
      ],
      "metadata": {
        "colab": {
          "base_uri": "https://localhost:8080/"
        },
        "id": "WYzYBJXh10vA",
        "outputId": "23629831-1417-4008-9326-e0051383f74c"
      },
      "execution_count": 67,
      "outputs": [
        {
          "output_type": "stream",
          "name": "stdout",
          "text": [
            "original z and x:\n",
            "tensor([[1., 2., 3., 4., 5., 6., 7., 8., 9.]]) tensor([1., 2., 3., 4., 5., 6., 7., 8., 9.])\n",
            "\n",
            "Modifying z leads to modification of x too\n",
            "\n",
            "modified z and x:\n",
            "tensor([[5., 2., 3., 4., 5., 6., 7., 8., 9.]]) tensor([5., 2., 3., 4., 5., 6., 7., 8., 9.])\n"
          ]
        }
      ]
    },
    {
      "cell_type": "markdown",
      "source": [
        "### Stack\n",
        "\n",
        "Stacking tensors on top of each other"
      ],
      "metadata": {
        "id": "IYSGYGqA2mwi"
      }
    },
    {
      "cell_type": "code",
      "source": [
        "x = torch.arange(0, 10, 2)\n",
        "x"
      ],
      "metadata": {
        "colab": {
          "base_uri": "https://localhost:8080/"
        },
        "id": "uuKfMGCg2oD-",
        "outputId": "50d9bfe0-93a2-4dd4-b6fc-c23ab52f2c28"
      },
      "execution_count": 69,
      "outputs": [
        {
          "output_type": "execute_result",
          "data": {
            "text/plain": [
              "tensor([0, 2, 4, 6, 8])"
            ]
          },
          "metadata": {},
          "execution_count": 69
        }
      ]
    },
    {
      "cell_type": "code",
      "source": [
        "# Stacking vertically\n",
        "\n",
        "x_stacked = torch.stack([x,x,x,x], dim = 0)\n",
        "x_stacked"
      ],
      "metadata": {
        "colab": {
          "base_uri": "https://localhost:8080/"
        },
        "id": "l0REz0t725de",
        "outputId": "8c1a9e86-0d3b-49a6-f842-d7e78ef72813"
      },
      "execution_count": 70,
      "outputs": [
        {
          "output_type": "execute_result",
          "data": {
            "text/plain": [
              "tensor([[0, 2, 4, 6, 8],\n",
              "        [0, 2, 4, 6, 8],\n",
              "        [0, 2, 4, 6, 8],\n",
              "        [0, 2, 4, 6, 8]])"
            ]
          },
          "metadata": {},
          "execution_count": 70
        }
      ]
    },
    {
      "cell_type": "code",
      "source": [
        "# Stacking horizontally\n",
        "\n",
        "x_stacked = torch.stack([x,x,x,x], dim = 1)\n",
        "x_stacked"
      ],
      "metadata": {
        "colab": {
          "base_uri": "https://localhost:8080/"
        },
        "id": "Sc1ysKvf3E0A",
        "outputId": "f320489c-e31c-4b13-b622-eade25fec486"
      },
      "execution_count": 72,
      "outputs": [
        {
          "output_type": "execute_result",
          "data": {
            "text/plain": [
              "tensor([[0, 0, 0, 0],\n",
              "        [2, 2, 2, 2],\n",
              "        [4, 4, 4, 4],\n",
              "        [6, 6, 6, 6],\n",
              "        [8, 8, 8, 8]])"
            ]
          },
          "metadata": {},
          "execution_count": 72
        }
      ]
    },
    {
      "cell_type": "markdown",
      "source": [
        "### Squeeze\n",
        "\n",
        "Remove all single dimensions from a target tensor"
      ],
      "metadata": {
        "id": "5Kp7-FQW3cqc"
      }
    },
    {
      "cell_type": "code",
      "source": [
        "# original tensor\n",
        "x = x.reshape(1,5)\n",
        "x, x.shape"
      ],
      "metadata": {
        "colab": {
          "base_uri": "https://localhost:8080/"
        },
        "id": "u7vQezoW3sVS",
        "outputId": "85ca18cc-d4cf-4dbc-8ff4-70fa63033968"
      },
      "execution_count": 83,
      "outputs": [
        {
          "output_type": "execute_result",
          "data": {
            "text/plain": [
              "(tensor([[0, 2, 4, 6, 8]]), torch.Size([1, 5]))"
            ]
          },
          "metadata": {},
          "execution_count": 83
        }
      ]
    },
    {
      "cell_type": "code",
      "source": [
        "# changes dimension from (1, 5) to (5)\n",
        "x.squeeze(), x.squeeze().shape"
      ],
      "metadata": {
        "colab": {
          "base_uri": "https://localhost:8080/"
        },
        "id": "aKBWvEgm38zN",
        "outputId": "c62ab289-abeb-4de1-b4ee-144ae950b3ab"
      },
      "execution_count": 91,
      "outputs": [
        {
          "output_type": "execute_result",
          "data": {
            "text/plain": [
              "(tensor([0, 2, 4, 6, 8]), torch.Size([5]))"
            ]
          },
          "metadata": {},
          "execution_count": 91
        }
      ]
    },
    {
      "cell_type": "markdown",
      "source": [
        "### Unsqueeze\n",
        "add a single dimension to target tensor at specific dim"
      ],
      "metadata": {
        "id": "Zd1mDRmp4paM"
      }
    },
    {
      "cell_type": "code",
      "source": [
        "# original tensor\n",
        "x, x.shape"
      ],
      "metadata": {
        "colab": {
          "base_uri": "https://localhost:8080/"
        },
        "id": "6Tq2tmd14lPa",
        "outputId": "03eb79cb-3493-42d4-8c2d-cbeab40a92dd"
      },
      "execution_count": 86,
      "outputs": [
        {
          "output_type": "execute_result",
          "data": {
            "text/plain": [
              "(tensor([[0, 2, 4, 6, 8]]), torch.Size([1, 5]))"
            ]
          },
          "metadata": {},
          "execution_count": 86
        }
      ]
    },
    {
      "cell_type": "code",
      "source": [
        "# changes dimension from (1, 5) to (1, 5, 1)\n",
        "x.unsqueeze(dim=2), x.unsqueeze(dim=2).shape"
      ],
      "metadata": {
        "colab": {
          "base_uri": "https://localhost:8080/"
        },
        "id": "3KXs8UwR5XCK",
        "outputId": "af7e404e-78c5-4f40-9d85-ac8fba1f7344"
      },
      "execution_count": 100,
      "outputs": [
        {
          "output_type": "execute_result",
          "data": {
            "text/plain": [
              "(tensor([[[0],\n",
              "          [2],\n",
              "          [4],\n",
              "          [6],\n",
              "          [8]]]),\n",
              " torch.Size([1, 5, 1]))"
            ]
          },
          "metadata": {},
          "execution_count": 100
        }
      ]
    },
    {
      "cell_type": "code",
      "source": [
        "# changes dimension from (1, 5) to (1, 1, 5)\n",
        "x.unsqueeze(dim=0), x.unsqueeze(dim=0).shape"
      ],
      "metadata": {
        "colab": {
          "base_uri": "https://localhost:8080/"
        },
        "id": "ET-OnM135kUb",
        "outputId": "791c64e9-bb29-42b5-d152-12d4eb3859ba"
      },
      "execution_count": 93,
      "outputs": [
        {
          "output_type": "execute_result",
          "data": {
            "text/plain": [
              "(tensor([[[0, 2, 4, 6, 8]]]), torch.Size([1, 1, 5]))"
            ]
          },
          "metadata": {},
          "execution_count": 93
        }
      ]
    },
    {
      "cell_type": "markdown",
      "source": [
        "### Permute\n",
        "Rearranges the dimensions of a target tensor in a specific order\n",
        "\n",
        "`permute(2, 0, 1)`  \n",
        "what this says is **swapping:**  \n",
        "- 0th dimension to 2nd  \n",
        "- 1st dimension to 0th  \n",
        "- 2nd dimension to 1\n"
      ],
      "metadata": {
        "id": "3M31lg4M53_t"
      }
    },
    {
      "cell_type": "code",
      "source": [
        "# original image tensor\n",
        "x_original = torch.rand(size=(224,224,3)) # [height, width, color_channels]\n",
        "x_original.shape"
      ],
      "metadata": {
        "colab": {
          "base_uri": "https://localhost:8080/"
        },
        "id": "yc4mBVAt6Ryu",
        "outputId": "8e6e2b88-03b6-48c6-9196-41b4f7a75136"
      },
      "execution_count": 108,
      "outputs": [
        {
          "output_type": "execute_result",
          "data": {
            "text/plain": [
              "torch.Size([224, 224, 3])"
            ]
          },
          "metadata": {},
          "execution_count": 108
        }
      ]
    },
    {
      "cell_type": "code",
      "source": [
        "# permite the original tensor\n",
        "x_permutted = x_original.permute(2,0,1)\n",
        "x_permutted.shape # [color_channels, height,  width]"
      ],
      "metadata": {
        "colab": {
          "base_uri": "https://localhost:8080/"
        },
        "id": "obAHNG866ESo",
        "outputId": "71890ae1-a631-4494-a7bb-1f0adb74e6c9"
      },
      "execution_count": 109,
      "outputs": [
        {
          "output_type": "execute_result",
          "data": {
            "text/plain": [
              "torch.Size([3, 224, 224])"
            ]
          },
          "metadata": {},
          "execution_count": 109
        }
      ]
    },
    {
      "cell_type": "markdown",
      "source": [
        "### Selecting data from tensors"
      ],
      "metadata": {
        "id": "NCEKUdNZ77DI"
      }
    },
    {
      "cell_type": "code",
      "source": [
        "print(x_original.shape)"
      ],
      "metadata": {
        "colab": {
          "base_uri": "https://localhost:8080/"
        },
        "id": "59LoVv286xxR",
        "outputId": "f8ae4d2f-0a8e-4c35-d671-31afc6fcbb65"
      },
      "execution_count": 114,
      "outputs": [
        {
          "output_type": "stream",
          "name": "stdout",
          "text": [
            "torch.Size([224, 224, 3])\n"
          ]
        }
      ]
    },
    {
      "cell_type": "code",
      "source": [
        "# Selecting an element\n",
        "x_original[0,0,0]"
      ],
      "metadata": {
        "colab": {
          "base_uri": "https://localhost:8080/"
        },
        "id": "KcGApk2UE6Ro",
        "outputId": "4785ac25-fb90-45ff-cfbd-f9a41797c222"
      },
      "execution_count": 111,
      "outputs": [
        {
          "output_type": "execute_result",
          "data": {
            "text/plain": [
              "tensor(0.1154)"
            ]
          },
          "metadata": {},
          "execution_count": 111
        }
      ]
    },
    {
      "cell_type": "code",
      "source": [
        "## Resetting an element\n",
        "x_original[0,0,0] = 0.6969\n",
        "x_original[0,0,0]"
      ],
      "metadata": {
        "colab": {
          "base_uri": "https://localhost:8080/"
        },
        "id": "-8wFlOMoFC72",
        "outputId": "8b2025a6-d545-482a-f41d-7360793d91f5"
      },
      "execution_count": 112,
      "outputs": [
        {
          "output_type": "execute_result",
          "data": {
            "text/plain": [
              "tensor(0.6969)"
            ]
          },
          "metadata": {},
          "execution_count": 112
        }
      ]
    },
    {
      "cell_type": "markdown",
      "source": [
        "### Indexing (selecting data from tensors)\n",
        "\n",
        "Indexing with pyTorch is similar in indexing with numpy"
      ],
      "metadata": {
        "id": "6P1LKzbZFSOb"
      }
    },
    {
      "cell_type": "code",
      "source": [
        "# create a tensor\n",
        "import torch\n",
        "\n",
        "x = torch.arange(1,10).reshape(1,3,3)\n",
        "x"
      ],
      "metadata": {
        "colab": {
          "base_uri": "https://localhost:8080/"
        },
        "id": "qigqvnEcFbuE",
        "outputId": "8ec89a52-e209-474d-bc1f-e3530f0d8db8"
      },
      "execution_count": 116,
      "outputs": [
        {
          "output_type": "execute_result",
          "data": {
            "text/plain": [
              "tensor([[[1, 2, 3],\n",
              "         [4, 5, 6],\n",
              "         [7, 8, 9]]])"
            ]
          },
          "metadata": {},
          "execution_count": 116
        }
      ]
    },
    {
      "cell_type": "code",
      "source": [
        " # Indexing 0th dimension\n",
        "\n",
        "x[0]"
      ],
      "metadata": {
        "colab": {
          "base_uri": "https://localhost:8080/"
        },
        "id": "0b115NTqFx5U",
        "outputId": "3b132d99-8459-47fd-efeb-558aed1ccfb5"
      },
      "execution_count": 118,
      "outputs": [
        {
          "output_type": "execute_result",
          "data": {
            "text/plain": [
              "tensor([[1, 2, 3],\n",
              "        [4, 5, 6],\n",
              "        [7, 8, 9]])"
            ]
          },
          "metadata": {},
          "execution_count": 118
        }
      ]
    },
    {
      "cell_type": "code",
      "source": [
        " # Indexing 1st dimension\n",
        "\n",
        "x[0][1]"
      ],
      "metadata": {
        "colab": {
          "base_uri": "https://localhost:8080/"
        },
        "id": "hECbUmi0GC8g",
        "outputId": "32964fab-e563-40e4-fde8-f14dd0c8cfd0"
      },
      "execution_count": 119,
      "outputs": [
        {
          "output_type": "execute_result",
          "data": {
            "text/plain": [
              "tensor([4, 5, 6])"
            ]
          },
          "metadata": {},
          "execution_count": 119
        }
      ]
    },
    {
      "cell_type": "code",
      "source": [
        " # Indexing 2nd dimension\n",
        "\n",
        "x[0][1][1]"
      ],
      "metadata": {
        "colab": {
          "base_uri": "https://localhost:8080/"
        },
        "id": "aZNuPMxjGIA7",
        "outputId": "be7d2d40-d84a-4083-bd7c-335a5a709dec"
      },
      "execution_count": 121,
      "outputs": [
        {
          "output_type": "execute_result",
          "data": {
            "text/plain": [
              "tensor(5)"
            ]
          },
          "metadata": {},
          "execution_count": 121
        }
      ]
    },
    {
      "cell_type": "code",
      "source": [
        "# select all of nth dimension with \":\"\n",
        "\n",
        "x[:, 0] # select all of 0th dimension"
      ],
      "metadata": {
        "colab": {
          "base_uri": "https://localhost:8080/"
        },
        "id": "UsDW9BJXGmmi",
        "outputId": "57b82302-74fe-4aa7-9349-9785865f11c2"
      },
      "execution_count": 122,
      "outputs": [
        {
          "output_type": "execute_result",
          "data": {
            "text/plain": [
              "tensor([[1, 2, 3]])"
            ]
          },
          "metadata": {},
          "execution_count": 122
        }
      ]
    },
    {
      "cell_type": "code",
      "source": [
        " # get all values of 0th and 1st dimension, but only index 1 of 2nd dimension\n",
        "\n",
        "x[:, : , 1]"
      ],
      "metadata": {
        "colab": {
          "base_uri": "https://localhost:8080/"
        },
        "id": "I3lgRXy5Gv9L",
        "outputId": "0cb1a4de-3fa0-4e58-cff8-b0597cb1c0cc"
      },
      "execution_count": 123,
      "outputs": [
        {
          "output_type": "execute_result",
          "data": {
            "text/plain": [
              "tensor([[2, 5, 8]])"
            ]
          },
          "metadata": {},
          "execution_count": 123
        }
      ]
    },
    {
      "cell_type": "code",
      "source": [
        "# get all values of the 0 dimension but only 1 index value of 1st and 2nd dimension\n",
        "\n",
        "x[:, 1, 1]"
      ],
      "metadata": {
        "colab": {
          "base_uri": "https://localhost:8080/"
        },
        "id": "SfmEMW9yHXgN",
        "outputId": "8548f3ea-ddad-4bd5-a1e0-8dbb45bf59cb"
      },
      "execution_count": 124,
      "outputs": [
        {
          "output_type": "execute_result",
          "data": {
            "text/plain": [
              "tensor([5])"
            ]
          },
          "metadata": {},
          "execution_count": 124
        }
      ]
    },
    {
      "cell_type": "code",
      "source": [
        "# get index 0 of 0th and 1st dimension and all values of 2nd dimension\n",
        "\n",
        "x[0, 0, :]"
      ],
      "metadata": {
        "colab": {
          "base_uri": "https://localhost:8080/"
        },
        "id": "lPNrdSAnHsin",
        "outputId": "13e97600-d0d6-4369-b88c-a87230f7cb1e"
      },
      "execution_count": 125,
      "outputs": [
        {
          "output_type": "execute_result",
          "data": {
            "text/plain": [
              "tensor([1, 2, 3])"
            ]
          },
          "metadata": {},
          "execution_count": 125
        }
      ]
    },
    {
      "cell_type": "code",
      "source": [
        "# return 9\n",
        "x[:,2,2]"
      ],
      "metadata": {
        "colab": {
          "base_uri": "https://localhost:8080/"
        },
        "id": "n04UAiYXIEMG",
        "outputId": "2869406c-d4dc-494b-c3c8-1750a67d0cfd"
      },
      "execution_count": 126,
      "outputs": [
        {
          "output_type": "execute_result",
          "data": {
            "text/plain": [
              "tensor([9])"
            ]
          },
          "metadata": {},
          "execution_count": 126
        }
      ]
    },
    {
      "cell_type": "code",
      "source": [
        "# return 3, 6, 9\n",
        "x[:,:,2]"
      ],
      "metadata": {
        "colab": {
          "base_uri": "https://localhost:8080/"
        },
        "id": "R9MPCtIkIMRp",
        "outputId": "5edba4dc-f944-4af0-832c-d8240eeb15ce"
      },
      "execution_count": 127,
      "outputs": [
        {
          "output_type": "execute_result",
          "data": {
            "text/plain": [
              "tensor([[3, 6, 9]])"
            ]
          },
          "metadata": {},
          "execution_count": 127
        }
      ]
    }
  ]
}