{
  "nbformat": 4,
  "nbformat_minor": 0,
  "metadata": {
    "colab": {
      "provenance": [],
      "authorship_tag": "ABX9TyNiumCwH7Sf0FgX+EWG8jzS",
      "include_colab_link": true
    },
    "kernelspec": {
      "name": "python3",
      "display_name": "Python 3"
    },
    "language_info": {
      "name": "python"
    }
  },
  "cells": [
    {
      "cell_type": "markdown",
      "metadata": {
        "id": "view-in-github",
        "colab_type": "text"
      },
      "source": [
        "<a href=\"https://colab.research.google.com/github/yashkathe/Deep-Learning-with-PyTorch/blob/master/01_PyTorch_workflow.ipynb\" target=\"_parent\"><img src=\"https://colab.research.google.com/assets/colab-badge.svg\" alt=\"Open In Colab\"/></a>"
      ]
    },
    {
      "cell_type": "markdown",
      "source": [
        "# Pytorch Workflow\n",
        "\n",
        "<img src=\"https://raw.githubusercontent.com/mrdbourke/pytorch-deep-learning/main/images/01_a_pytorch_workflow.png\" alt=\"pytorch workflow\" height=\"300\"  style=\"display: block; margin: 0 auto\">"
      ],
      "metadata": {
        "id": "Ng7-Kt5bjhmz"
      }
    },
    {
      "cell_type": "code",
      "execution_count": 365,
      "metadata": {
        "colab": {
          "base_uri": "https://localhost:8080/",
          "height": 35
        },
        "id": "lqk03RUqjGJr",
        "outputId": "8a4f650f-313c-4665-eef9-2be5dec6c7df"
      },
      "outputs": [
        {
          "output_type": "execute_result",
          "data": {
            "text/plain": [
              "'2.2.1+cu121'"
            ],
            "application/vnd.google.colaboratory.intrinsic+json": {
              "type": "string"
            }
          },
          "metadata": {},
          "execution_count": 365
        }
      ],
      "source": [
        "import torch\n",
        "from torch import nn\n",
        "import numpy as np\n",
        "import matplotlib.pyplot as plt\n",
        "\n",
        "torch.__version__"
      ]
    },
    {
      "cell_type": "markdown",
      "source": [
        "## Data preparing and loading\n",
        "\n",
        "**Data can be almost anything**\n",
        "\n",
        "- SpreadSheet\n",
        "- Images\n",
        "- Videos\n",
        "- Audio\n",
        "- DNA\n",
        "- Text\n",
        "\n",
        "\n",
        "<img src=\"https://camo.githubusercontent.com/3e6ba3d2dd7106e3ee1cf454f4b908562eed1a8bd3c20d39c459a916f99d9f34/68747470733a2f2f7261772e67697468756275736572636f6e74656e742e636f6d2f6d7264626f75726b652f7079746f7263682d646565702d6c6561726e696e672f6d61696e2f696d616765732f30312d6d616368696e652d6c6561726e696e672d612d67616d652d6f662d74776f2d70617274732e706e67\" alt=\"pytorch workflow\" width=\"600\"  style=\"display: block; margin: 0 auto\">\n",
        "\n",
        "**ML is game of 2 parts**\n",
        "\n",
        "1. Get data into numerical representation\n",
        "2. Build a model to learn patterns in numerical representation"
      ],
      "metadata": {
        "id": "Mg3h_zWG9D0j"
      }
    },
    {
      "cell_type": "markdown",
      "source": [
        "## Creating data from linear regression  \n",
        "\n",
        "Using linear regression to make a straight line with **known parameters**\n",
        "\n",
        "_parameter is something that model learns_\n",
        "\n",
        "<img src=\"https://toptipbio.com/wp-content/uploads/2021/03/Linear-regression-model-equation.jpg\" alt=\"pytorch workflow\" height=\"200\"  style=\"display: block; margin: 0 auto\">"
      ],
      "metadata": {
        "id": "Tk0Bfyhg_zmw"
      }
    },
    {
      "cell_type": "code",
      "source": [
        "# create know parameters\n",
        "weight = 0.7\n",
        "bias = 0.3\n",
        "\n",
        "# create\n",
        "start = 0\n",
        "end = 1\n",
        "step = 0.02\n",
        "\n",
        "x = torch.arange(start,end,step).unsqueeze(dim=1)\n",
        "y = weight * x + bias\n",
        "\n",
        "print(x[:10])\n",
        "print(y[:10])"
      ],
      "metadata": {
        "colab": {
          "base_uri": "https://localhost:8080/"
        },
        "id": "RjAznyXD9A8r",
        "outputId": "192ed2ec-39cb-4c84-94f7-c339fb335aad"
      },
      "execution_count": 366,
      "outputs": [
        {
          "output_type": "stream",
          "name": "stdout",
          "text": [
            "tensor([[0.0000],\n",
            "        [0.0200],\n",
            "        [0.0400],\n",
            "        [0.0600],\n",
            "        [0.0800],\n",
            "        [0.1000],\n",
            "        [0.1200],\n",
            "        [0.1400],\n",
            "        [0.1600],\n",
            "        [0.1800]])\n",
            "tensor([[0.3000],\n",
            "        [0.3140],\n",
            "        [0.3280],\n",
            "        [0.3420],\n",
            "        [0.3560],\n",
            "        [0.3700],\n",
            "        [0.3840],\n",
            "        [0.3980],\n",
            "        [0.4120],\n",
            "        [0.4260]])\n"
          ]
        }
      ]
    },
    {
      "cell_type": "code",
      "source": [
        "len(x), len(y)"
      ],
      "metadata": {
        "colab": {
          "base_uri": "https://localhost:8080/"
        },
        "id": "Pe5IAYpADCAz",
        "outputId": "375d0029-fdb8-46e8-8eef-603ee38cd1f1"
      },
      "execution_count": 367,
      "outputs": [
        {
          "output_type": "execute_result",
          "data": {
            "text/plain": [
              "(50, 50)"
            ]
          },
          "metadata": {},
          "execution_count": 367
        }
      ]
    },
    {
      "cell_type": "markdown",
      "source": [
        "## Splitting data into training and test sets\n",
        "\n",
        "|Split | \tPurpose \t|Amount of total data |\tHow often is it used?|\n",
        "|--|--|--|--|\n",
        "|Training set| \tThe model learns from this data (like the course materials you study during the semester).| \t~60-80% |\tAlways|\n",
        "|Validation set |\tThe model gets tuned on this data (like the practice exam you take before the final exam).| \t~10-20% |\tOften but not always|\n",
        "|Testing set |\tThe model gets evaluated on this data to test what it has learned (like the final exam you take at the end of the semester).| \t~10-20% \t|Always|"
      ],
      "metadata": {
        "id": "6Awt5U2aDEv5"
      }
    },
    {
      "cell_type": "code",
      "source": [
        "# Create a train/test split of data\n",
        "\n",
        "train_split = int(0.8 * len(x)) # Training set - 80% of data\n",
        "\n",
        "x_train, y_train = x[:train_split], y[:train_split] # select first 80% of the data\n",
        "x_test, y_test = x[train_split:], y[train_split:] # select remaining 20% of the data\n",
        "\n",
        "print(f\"Length of Training dataset -> {len(x_train), len(y_train)}\")\n",
        "print(f\"Length of Testing dataset -> {len(x_test), len(y_test)}\")"
      ],
      "metadata": {
        "colab": {
          "base_uri": "https://localhost:8080/"
        },
        "id": "aNyqXIBnDECT",
        "outputId": "82f37b19-dda5-40da-c700-b86bd141b90b"
      },
      "execution_count": 368,
      "outputs": [
        {
          "output_type": "stream",
          "name": "stdout",
          "text": [
            "Length of Training dataset -> (40, 40)\n",
            "Length of Testing dataset -> (10, 10)\n"
          ]
        }
      ]
    },
    {
      "cell_type": "markdown",
      "source": [
        "## Visualizing Data"
      ],
      "metadata": {
        "id": "_o7uYYA6G745"
      }
    },
    {
      "cell_type": "code",
      "source": [
        "# Plots training data, test data and compares predictions\n",
        "def plot_predictions(train_data=x_train, train_labels=y_train, test_data=x_test, test_labels=y_test, predictions=None, title=\"\"):\n",
        "  plt.figure(figsize=(6, 4))\n",
        "\n",
        "  # Plot training data in blue\n",
        "  plt.scatter(train_data, train_labels, c=\"g\", s=4, label=\"Training data\")\n",
        "\n",
        "  # Plot testing data in green\n",
        "  plt.scatter(test_data, test_labels, c=\"b\", s=4, label=\"Testing data\")\n",
        "\n",
        "  # Predicitons\n",
        "  if predictions is not None:\n",
        "    plt.scatter(test_data, predictions, c=\"r\", s=4, label=\"Predictions\")\n",
        "\n",
        "  plt.legend(prop={\"size\": 8})\n",
        "\n",
        "  plt.title(title)"
      ],
      "metadata": {
        "id": "xgnWHKoGG7ek"
      },
      "execution_count": 369,
      "outputs": []
    },
    {
      "cell_type": "code",
      "source": [
        "plot_predictions(predictions=None)"
      ],
      "metadata": {
        "colab": {
          "base_uri": "https://localhost:8080/",
          "height": 368
        },
        "id": "_xDAut9jIbjQ",
        "outputId": "3c2dcc06-e322-4c3a-8dae-7fca01fd3707"
      },
      "execution_count": 370,
      "outputs": [
        {
          "output_type": "display_data",
          "data": {
            "text/plain": [
              "<Figure size 600x400 with 1 Axes>"
            ],
            "image/png": "[encoded data removed]"
          },
          "metadata": {}
        }
      ]
    },
    {
      "cell_type": "markdown",
      "source": [
        "## Build PyTorch Model\n",
        "\n",
        "**What our model does?**  \n",
        "1. Starts with random values\n",
        "2. Look at training data and adjust the random values to better represent(or get closer) to the ideal values (the weight and bias values we need to create the data)\n",
        "\n",
        "**How does it do so ?**    \n",
        "Through 2 main algorithms\n",
        "1. Gradient descent\n",
        "2. Back propogation"
      ],
      "metadata": {
        "id": "3AmqSodAJ2jK"
      }
    },
    {
      "cell_type": "code",
      "source": [
        "class LinearRegressionModel(nn.Module): #inherit from nn.Module\n",
        "  def __init__(self):\n",
        "    super().__init__()\n",
        "\n",
        "    # Initialise model parameters (create variables we need for our model to use)\n",
        "    self.weights = nn.Parameter(torch.randn(1, requires_grad=True, dtype=torch.float))\n",
        "    self.bias = nn.Parameter(torch.randn(1, requires_grad=True, dtype=torch.float))\n",
        "\n",
        "    # Forward defines computation in the model\n",
        "  def forward(self, x: torch.Tensor) -> torch.Tensor: # x is the input dataset\n",
        "    return self.weights * x + self.bias # linear regression formula"
      ],
      "metadata": {
        "id": "L9rSCXKPJ7WQ"
      },
      "execution_count": 371,
      "outputs": []
    },
    {
      "cell_type": "markdown",
      "source": [
        "### Explanation of the code above\n",
        "\n",
        "<img src=\"https://camo.githubusercontent.com/2ef63513889b21cec659e3bb25f27c860c30b1a8ccd561d6a430f5988d1d08ba/68747470733a2f2f7261772e67697468756275736572636f6e74656e742e636f6d2f6d7264626f75726b652f7079746f7263682d646565702d6c6561726e696e672f6d61696e2f696d616765732f30312d7079746f7263682d6c696e6561722d6d6f64656c2d616e6e6f74617465642e706e67\" alt=\"pytorch workflow\" height=\"350\"  style=\"display: block; margin: 0 auto\">\n",
        "\n"
      ],
      "metadata": {
        "id": "Og-4a6QlN5q3"
      }
    },
    {
      "cell_type": "markdown",
      "source": [
        "### PyTorch model building essentials\n",
        "\n",
        "| PyTorch module |\tWhat does it do? |\n",
        "| -------------- | ----------------- |\n",
        "| torch.nn       |\tContains all of the building blocks for computational graphs (essentially a series of computations executed in a particular way).|\n",
        "|torch.nn.Parameter |\tStores tensors that can be used with nn.Module. If requires_grad=True gradients (used for updating model parameters via gradient descent) are calculated automatically, this is often referred to as \"autograd\" |\n",
        "|torch.nn.Module |\tThe base class for all neural network modules, all the building blocks for neural networks are subclasses. If you're building a neural network in PyTorch, your models should subclass nn.Module. Requires a forward() method be implemented. |\n",
        "|torch.optim |\tContains various optimization algorithms (these tell the model parameters stored in nn.Parameter how to best change to improve gradient descent and in turn reduce the loss).|\n",
        "|def forward() |\tAll nn.Module subclasses require a forward() method, this defines the computation that will take place on the data passed to the particular nn.Module (e.g. the linear regression formula above).|"
      ],
      "metadata": {
        "id": "SB9qoUMqOZtg"
      }
    },
    {
      "cell_type": "markdown",
      "source": [
        "## Checking the internals of our model\n",
        "\n",
        "using `.parameters()`"
      ],
      "metadata": {
        "id": "cWBnHGt1jO4U"
      }
    },
    {
      "cell_type": "code",
      "source": [
        "# Create a random seed\n",
        "torch.manual_seed(42)\n",
        "\n",
        "# Create an instance of the model (this is a subclass of nn.Module)\n",
        "model_0 = LinearRegressionModel()\n",
        "\n",
        "# Checking parameters\n",
        "list(model_0.parameters())"
      ],
      "metadata": {
        "colab": {
          "base_uri": "https://localhost:8080/"
        },
        "id": "vebaiYeiLqUp",
        "outputId": "5db88c3d-6548-4f22-d40e-624d1fa8ec9f"
      },
      "execution_count": 372,
      "outputs": [
        {
          "output_type": "execute_result",
          "data": {
            "text/plain": [
              "[Parameter containing:\n",
              " tensor([0.3367], requires_grad=True),\n",
              " Parameter containing:\n",
              " tensor([0.1288], requires_grad=True)]"
            ]
          },
          "metadata": {},
          "execution_count": 372
        }
      ]
    },
    {
      "cell_type": "code",
      "source": [
        "# List named parameters\n",
        "\n",
        "model_0.state_dict()"
      ],
      "metadata": {
        "colab": {
          "base_uri": "https://localhost:8080/"
        },
        "id": "XJ8fPtdZkY0A",
        "outputId": "a9f8b88d-4697-48ae-ecc4-08ff34d8c4f8"
      },
      "execution_count": 373,
      "outputs": [
        {
          "output_type": "execute_result",
          "data": {
            "text/plain": [
              "OrderedDict([('weights', tensor([0.3367])), ('bias', tensor([0.1288]))])"
            ]
          },
          "metadata": {},
          "execution_count": 373
        }
      ]
    },
    {
      "cell_type": "markdown",
      "source": [
        "### What is our main goal ?\n",
        "\n",
        "Look the graph and test data (blue dots) in the graphs\n",
        "\n",
        "and adjust the _weight_ and _bias_ value (above) to be as close as to the weights and bias (know parameters)"
      ],
      "metadata": {
        "id": "sCCZsLU1kgmy"
      }
    },
    {
      "cell_type": "code",
      "source": [
        "print(f\"We have to go from {model_0.state_dict()}\")\n",
        "print(f\"To weight: {weight}, bias: {bias}\")"
      ],
      "metadata": {
        "colab": {
          "base_uri": "https://localhost:8080/"
        },
        "id": "OWeJuWD-kjyg",
        "outputId": "d7244568-270f-41be-ccbe-c5a5713f8df2"
      },
      "execution_count": 374,
      "outputs": [
        {
          "output_type": "stream",
          "name": "stdout",
          "text": [
            "We have to go from OrderedDict([('weights', tensor([0.3367])), ('bias', tensor([0.1288]))])\n",
            "To weight: 0.7, bias: 0.3\n"
          ]
        }
      ]
    },
    {
      "cell_type": "markdown",
      "source": [
        "## Making predictions\n",
        "\n",
        "using `torch.inference_mode()`\n",
        "\n",
        "to check our model's predictive power ->\n",
        "let's start test how well it predicts `y_test` base on `x_test`\n",
        "\n",
        "when we pass data through our model,\n",
        "its going to run it through the `forward` method"
      ],
      "metadata": {
        "id": "1cwmElNcxWct"
      }
    },
    {
      "cell_type": "code",
      "source": [
        "print(f\"for x_test: {x_test}\")\n",
        "print(\"we have to predict\")\n",
        "print(f\"for y_test: {y_test}\")"
      ],
      "metadata": {
        "colab": {
          "base_uri": "https://localhost:8080/"
        },
        "id": "E3Sj7RUjxhdF",
        "outputId": "dd7daeba-8981-4d07-f4a0-69906397acee"
      },
      "execution_count": 375,
      "outputs": [
        {
          "output_type": "stream",
          "name": "stdout",
          "text": [
            "for x_test: tensor([[0.8000],\n",
            "        [0.8200],\n",
            "        [0.8400],\n",
            "        [0.8600],\n",
            "        [0.8800],\n",
            "        [0.9000],\n",
            "        [0.9200],\n",
            "        [0.9400],\n",
            "        [0.9600],\n",
            "        [0.9800]])\n",
            "we have to predict\n",
            "for y_test: tensor([[0.8600],\n",
            "        [0.8740],\n",
            "        [0.8880],\n",
            "        [0.9020],\n",
            "        [0.9160],\n",
            "        [0.9300],\n",
            "        [0.9440],\n",
            "        [0.9580],\n",
            "        [0.9720],\n",
            "        [0.9860]])\n"
          ]
        }
      ]
    },
    {
      "cell_type": "code",
      "source": [
        "with torch.inference_mode():\n",
        "  y_preds = model_0(x_test)\n",
        "\n",
        "y_preds"
      ],
      "metadata": {
        "colab": {
          "base_uri": "https://localhost:8080/"
        },
        "id": "RVhjV6QkxdXR",
        "outputId": "adaef377-c64b-4cc6-fd98-1e435831b5d5"
      },
      "execution_count": 376,
      "outputs": [
        {
          "output_type": "execute_result",
          "data": {
            "text/plain": [
              "tensor([[0.3982],\n",
              "        [0.4049],\n",
              "        [0.4116],\n",
              "        [0.4184],\n",
              "        [0.4251],\n",
              "        [0.4318],\n",
              "        [0.4386],\n",
              "        [0.4453],\n",
              "        [0.4520],\n",
              "        [0.4588]])"
            ]
          },
          "metadata": {},
          "execution_count": 376
        }
      ]
    },
    {
      "cell_type": "code",
      "source": [
        "plot_predictions(predictions=y_preds, title=\"Plotting prediction\")"
      ],
      "metadata": {
        "colab": {
          "base_uri": "https://localhost:8080/",
          "height": 391
        },
        "id": "C_7jUPpAQDku",
        "outputId": "c79818df-b9fd-4bce-f8e3-a19b0e9320cb"
      },
      "execution_count": 377,
      "outputs": [
        {
          "output_type": "display_data",
          "data": {
            "text/plain": [
              "<Figure size 600x400 with 1 Axes>"
            ],
            "image/png": "[encoded data removed]"
          },
          "metadata": {}
        }
      ]
    },
    {
      "cell_type": "markdown",
      "source": [
        "## Training Model\n",
        "\n",
        "The idea of training is for a model to move from some unknown parameters to known parameters\n",
        "\n",
        "in other words\n",
        "\n",
        "From `poor representation` to -> `better representation` of the data\n"
      ],
      "metadata": {
        "id": "nyp96EPgTBGt"
      }
    },
    {
      "cell_type": "markdown",
      "source": [
        "### Things we need to train a model\n",
        "\n",
        "1. **Loss Function**  \n",
        "The way to measure how wrong model's prediction is to use a loss function\n",
        "\n",
        "2. **Optimizer**  \n",
        "An optimizer is a method used to adjust the model's parameters to minimize the loss function\n",
        "\n",
        "### And specifically for pytorch we need:\n",
        "\n",
        "- **Training loop**\n",
        "- **Testing loop**"
      ],
      "metadata": {
        "id": "JuoyUkVhTpZb"
      }
    },
    {
      "cell_type": "code",
      "source": [
        "list(model_0.parameters())"
      ],
      "metadata": {
        "colab": {
          "base_uri": "https://localhost:8080/"
        },
        "id": "8F1nPPEeTSg7",
        "outputId": "6a09894f-8fab-4904-d149-097c2cb2c034"
      },
      "execution_count": 378,
      "outputs": [
        {
          "output_type": "execute_result",
          "data": {
            "text/plain": [
              "[Parameter containing:\n",
              " tensor([0.3367], requires_grad=True),\n",
              " Parameter containing:\n",
              " tensor([0.1288], requires_grad=True)]"
            ]
          },
          "metadata": {},
          "execution_count": 378
        }
      ]
    },
    {
      "cell_type": "code",
      "source": [
        "model_0.state_dict()"
      ],
      "metadata": {
        "colab": {
          "base_uri": "https://localhost:8080/"
        },
        "id": "Ce2mfxuOU68W",
        "outputId": "f6be5788-65d4-4ce3-8da3-d297ff09117c"
      },
      "execution_count": 379,
      "outputs": [
        {
          "output_type": "execute_result",
          "data": {
            "text/plain": [
              "OrderedDict([('weights', tensor([0.3367])), ('bias', tensor([0.1288]))])"
            ]
          },
          "metadata": {},
          "execution_count": 379
        }
      ]
    },
    {
      "cell_type": "markdown",
      "source": [
        "## Mean Absolute Error\n",
        "\n",
        "Depending on what kind of problem you're working on will depend on what loss function and what optimizer you use.\n",
        "\n",
        "However, there are some common values, that are known to work well such as the SGD (stochastic gradient descent) or Adam optimizer. And the MAE (mean absolute error) loss function for regression problems (predicting a number) or binary cross entropy loss function for classification problems (predicting one thing or another).\n",
        "\n",
        "`Mean absolute error` (MAE, in PyTorch: torch.nn.L1Loss) measures the absolute difference between two points (predictions and labels) and then takes the mean across all examples.\n",
        "\n",
        "<img src=\"https://camo.githubusercontent.com/78badb69eae47fdbba02270c85a7afdcf0fc80e7efff9520b040edbd3b4fcf25/68747470733a2f2f7261772e67697468756275736572636f6e74656e742e636f6d2f6d7264626f75726b652f7079746f7263682d646565702d6c6561726e696e672f6d61696e2f696d616765732f30312d6d61652d6c6f73732d616e6e6f74617465642e706e67\" alt=\"MAE\" height=\"350\"  style=\"display: block; margin: 0 auto\">\n",
        "\n",
        "And we'll use SGD, `torch.optim.SGD(params, lr) ` where:\n",
        "\n",
        "  - **`params`** is the target model parameters you'd like to optimize (e.g. the weights and bias values we randomly set before).\n",
        "  \n",
        "  - **`lr`** is the learning rate you'd like the optimizer to update the parameters at, higher means the optimizer will try larger updates (these can sometimes be too large and the optimizer will fail to work), lower means the optimizer will try smaller updates (these can sometimes be too small and the optimizer will take too long to find the ideal values). The learning rate is considered a hyperparameter (because it's set by a machine learning engineer). Common starting values for the learning rate are 0.01, 0.001, 0.0001, however, these can also be adjusted over time"
      ],
      "metadata": {
        "id": "t8IebrtYonZP"
      }
    },
    {
      "cell_type": "code",
      "source": [
        "# Setup a loss function\n",
        "loss_fn = nn.L1Loss() # MAE loss is same as L1Loss\n",
        "\n",
        "# Setup an optimizer (stochastic gradient descent algorithm)\n",
        "optimizer = torch.optim.SGD(params = model_0.parameters(),\n",
        "                            lr  = 0.01) # larger the learning rate, larger is the change in parameters"
      ],
      "metadata": {
        "id": "-Lc-LxuPpcYx"
      },
      "execution_count": 380,
      "outputs": []
    },
    {
      "cell_type": "markdown",
      "source": [
        "**Q:** What loss function and optimizer should I use ?\n",
        "\n",
        "**->** This will be problem specific\n",
        "\n",
        "For example, for a regression problem(like this), a loss function of `nn.L1Loss()` and an optimizer like `torch.optim.SGD()` will suffice.\n",
        "\n",
        "But for a classification problem like classifying whether a photo is of a dog or a cat, we will need to use a loss function of `nn.BCELoss()` (binary cross entropy loss)"
      ],
      "metadata": {
        "id": "H4ZZ5ZQhryco"
      }
    },
    {
      "cell_type": "markdown",
      "source": [
        "### Building a training loop (and a testing loop) in python\n",
        "\n",
        "\n",
        "A couple of things we need for a training  loop:\n",
        "\n",
        "1. Loop through the data\n",
        "2. Forward pass (this involves data moving through our model's `forward()` functions) to make prediction on data - also called `forward propogation`\n",
        "3. Calculate the loss (compare forward pass predictions to ground truth labels)\n",
        "4. Optimizer zero grad\n",
        "5. Loss backward - move backwards through the network to calcualte the gradients of each of the parameters of our models with respect to the loss (**`backpropogation`**)\n",
        "6. Optimizer step - use the optimizerto adjust our model's paramter to try and improve the loss(**`gradient descent`**)\n"
      ],
      "metadata": {
        "id": "KD0AWcbAsori"
      }
    },
    {
      "cell_type": "code",
      "source": [
        "list(model_0.parameters())"
      ],
      "metadata": {
        "colab": {
          "base_uri": "https://localhost:8080/"
        },
        "id": "Z3QW7AEpvYH6",
        "outputId": "8aadbce2-ea82-406b-d126-1286c1a44efd"
      },
      "execution_count": 381,
      "outputs": [
        {
          "output_type": "execute_result",
          "data": {
            "text/plain": [
              "[Parameter containing:\n",
              " tensor([0.3367], requires_grad=True),\n",
              " Parameter containing:\n",
              " tensor([0.1288], requires_grad=True)]"
            ]
          },
          "metadata": {},
          "execution_count": 381
        }
      ]
    },
    {
      "cell_type": "markdown",
      "source": [
        "### Explanation of the training loop\n",
        "\n",
        "<img src=\"https://camo.githubusercontent.com/b1b4df1dc20f893135b96b325e8a6c2af287a5ea3aec889aceccd4c3fe2e1bfc/68747470733a2f2f7261772e67697468756275736572636f6e74656e742e636f6d2f6d7264626f75726b652f7079746f7263682d646565702d6c6561726e696e672f6d61696e2f696d616765732f30312d7079746f7263682d747261696e696e672d6c6f6f702d616e6e6f74617465642e706e67\" alt=\"MAE\" height=\"450\"  style=\"display: block; margin: 0 auto\">\n",
        "\n",
        "#### Gradient Descent Curve\n",
        "\n",
        "Behind the scenes pytorch is going to create this curve for every parameter\n",
        "\n",
        "<img src=\"https://editor.analyticsvidhya.com/uploads/97106gd4.jpeg\" alt=\"MAE\" height=\"350\"  style=\"display: block; margin: 0 auto\">\n",
        "\n",
        "**Learning Rate Scheduling** says start with some big steps but as we get close to the bottom start taking baby steps\n",
        "\n",
        "The bottom point is also called **convergence**\n",
        "\n",
        "<img src=\"https://editor.analyticsvidhya.com/uploads/59180Screenshot%20(125).png\" alt=\"MAE\" height=\"350\"  style=\"display: block; margin: 0 auto\">\n",
        "\n",
        "### Explanation of the testing loop\n",
        "\n",
        "<img src=\"https://camo.githubusercontent.com/07b30cc0e6075ddde26583eb5967ce4df2ef8e6c7958309753d3e1c4604ddc1d/68747470733a2f2f7261772e67697468756275736572636f6e74656e742e636f6d2f6d7264626f75726b652f7079746f7263682d646565702d6c6561726e696e672f6d61696e2f696d616765732f30312d7079746f7263682d74657374696e672d6c6f6f702d616e6e6f74617465642e706e67\" alt=\"MAE\" height=\"450\"  style=\"display: block; margin: 0 auto\">\n",
        "\n",
        "\n"
      ],
      "metadata": {
        "id": "uc2DQG8qykHy"
      }
    },
    {
      "cell_type": "code",
      "source": [
        "torch.manual_seed(42)\n",
        "\n",
        "# An epoch is one loop through the data ...\n",
        "\n",
        "epochs = 201\n",
        "\n",
        "epoch_count = []\n",
        "loss_values = []\n",
        "test_loss_values = []\n",
        "\n",
        "# 1. Loop through the data\n",
        "for epoch in range(epochs):\n",
        "\n",
        "  # Set the model to training mode (default mode of model)\n",
        "  model_0.train() # train mode in PyTorch sets all parameters that requires gradients to require gradients\n",
        "\n",
        "  # 2. Forward pass\n",
        "  y_pred = model_0(x_train)\n",
        "\n",
        "  # we learn patterns on training data to evalute on model on test data\n",
        "\n",
        "  # 3. Calculate the Loss\n",
        "  loss = loss_fn(y_pred, y_train) # we are calculating the difference between y_pred and y_train data\n",
        "\n",
        "  # 4. Optimizer zero grad\n",
        "  optimizer.zero_grad()\n",
        "\n",
        "  # 5. Perform backpropogation on the loss with respect to the parameters of the model\n",
        "  loss.backward()\n",
        "\n",
        "  # 6. Step the optimizer (perform gradient descent)\n",
        "  # by default how the optimizer changes will accumulate through the lopp so we have to zero them above in step 3 for the next iteration of the loop\n",
        "  optimizer.step()\n",
        "\n",
        "  # Testing\n",
        "  model_0.eval() # turns off different settings in the model not needed for evaluation/testing\n",
        "  with torch.inference_mode(): # turns off gradient tracking (and other things)\n",
        "\n",
        "    # 1. Do the forward pass\n",
        "    test_pred = model_0(x_test)\n",
        "\n",
        "    # 2. Calculate the loss\n",
        "    test_loss = loss_fn(test_pred, y_test)\n",
        "\n",
        "  if epoch % 10 == 0:\n",
        "    epoch_count.append(epoch)\n",
        "    loss_values.append(loss)\n",
        "    test_loss_values.append(test_loss)\n",
        "    print(f\"Epoch: {epoch} | Loss: {loss} | Test loss: {test_loss}\")\n"
      ],
      "metadata": {
        "colab": {
          "base_uri": "https://localhost:8080/"
        },
        "id": "Y3sXLmxcrR3E",
        "outputId": "bc79eebe-81fe-45c2-9a8e-69ee5368e93c"
      },
      "execution_count": 382,
      "outputs": [
        {
          "output_type": "stream",
          "name": "stdout",
          "text": [
            "Epoch: 0 | Loss: 0.31288138031959534 | Test loss: 0.48106518387794495\n",
            "Epoch: 10 | Loss: 0.1976713240146637 | Test loss: 0.3463551998138428\n",
            "Epoch: 20 | Loss: 0.08908725529909134 | Test loss: 0.21729660034179688\n",
            "Epoch: 30 | Loss: 0.053148526698350906 | Test loss: 0.14464017748832703\n",
            "Epoch: 40 | Loss: 0.04543796554207802 | Test loss: 0.11360953003168106\n",
            "Epoch: 50 | Loss: 0.04167863354086876 | Test loss: 0.09919948130846024\n",
            "Epoch: 60 | Loss: 0.03818932920694351 | Test loss: 0.08886633068323135\n",
            "Epoch: 70 | Loss: 0.03476089984178543 | Test loss: 0.0805937647819519\n",
            "Epoch: 80 | Loss: 0.03132382780313492 | Test loss: 0.07232122868299484\n",
            "Epoch: 90 | Loss: 0.02788739837706089 | Test loss: 0.06473556160926819\n",
            "Epoch: 100 | Loss: 0.024458957836031914 | Test loss: 0.05646304413676262\n",
            "Epoch: 110 | Loss: 0.021020207554101944 | Test loss: 0.04819049686193466\n",
            "Epoch: 120 | Loss: 0.01758546568453312 | Test loss: 0.04060482233762741\n",
            "Epoch: 130 | Loss: 0.014155393466353416 | Test loss: 0.03233227878808975\n",
            "Epoch: 140 | Loss: 0.010716589167714119 | Test loss: 0.024059748277068138\n",
            "Epoch: 150 | Loss: 0.0072835334576666355 | Test loss: 0.016474086791276932\n",
            "Epoch: 160 | Loss: 0.0038517764769494534 | Test loss: 0.008201557211577892\n",
            "Epoch: 170 | Loss: 0.008932482451200485 | Test loss: 0.005023092031478882\n",
            "Epoch: 180 | Loss: 0.008932482451200485 | Test loss: 0.005023092031478882\n",
            "Epoch: 190 | Loss: 0.008932482451200485 | Test loss: 0.005023092031478882\n",
            "Epoch: 200 | Loss: 0.008932482451200485 | Test loss: 0.005023092031478882\n"
          ]
        }
      ]
    },
    {
      "cell_type": "code",
      "source": [
        "# plot the loss curve\n",
        "\n",
        "plt.plot(epoch_count, np.array(torch.tensor(loss_values)), label = \"Train Loss\")\n",
        "plt.plot(epoch_count, test_loss_values, label = \"Test Loss\")\n",
        "plt.title(\"Training and Test loss curves\")\n",
        "plt.ylabel(\"Loss\")\n",
        "plt.xlabel(\"Epochs\")\n",
        "plt.legend()"
      ],
      "metadata": {
        "colab": {
          "base_uri": "https://localhost:8080/",
          "height": 489
        },
        "id": "pgrDWu3CAbD2",
        "outputId": "287b9021-7d59-4d82-d626-97454d5404bb"
      },
      "execution_count": 383,
      "outputs": [
        {
          "output_type": "execute_result",
          "data": {
            "text/plain": [
              "<matplotlib.legend.Legend at 0x780149971a20>"
            ]
          },
          "metadata": {},
          "execution_count": 383
        },
        {
          "output_type": "display_data",
          "data": {
            "text/plain": [
              "<Figure size 640x480 with 1 Axes>"
            ],
            "image/png": "[encoded data removed]"
          },
          "metadata": {}
        }
      ]
    },
    {
      "cell_type": "code",
      "source": [
        "with torch.inference_mode():\n",
        "  y_preds_new = model_0(x_test)"
      ],
      "metadata": {
        "id": "7zLscjHP4WwS"
      },
      "execution_count": 384,
      "outputs": []
    },
    {
      "cell_type": "code",
      "source": [
        "# previous prediciton\n",
        "plot_predictions(predictions=y_preds, title=\"Previous Prediciton\")"
      ],
      "metadata": {
        "colab": {
          "base_uri": "https://localhost:8080/",
          "height": 391
        },
        "id": "yqvCmtYm4iIc",
        "outputId": "ed7e82ef-fb57-4c5a-d345-783f28ad6437"
      },
      "execution_count": 385,
      "outputs": [
        {
          "output_type": "display_data",
          "data": {
            "text/plain": [
              "<Figure size 600x400 with 1 Axes>"
            ],
            "image/png": "[encoded data removed]"
          },
          "metadata": {}
        }
      ]
    },
    {
      "cell_type": "code",
      "source": [
        "# prediction after training the model\n",
        "plot_predictions(predictions=y_preds_new, title=\"Prediction after training our model\")"
      ],
      "metadata": {
        "colab": {
          "base_uri": "https://localhost:8080/",
          "height": 391
        },
        "id": "ic_mOVcE4joz",
        "outputId": "5016bc37-3548-4f50-808b-d6effabed52c"
      },
      "execution_count": 386,
      "outputs": [
        {
          "output_type": "display_data",
          "data": {
            "text/plain": [
              "<Figure size 600x400 with 1 Axes>"
            ],
            "image/png": "[encoded data removed]"
          },
          "metadata": {}
        }
      ]
    },
    {
      "cell_type": "code",
      "source": [
        "# Desired values\n",
        "weight, bias"
      ],
      "metadata": {
        "colab": {
          "base_uri": "https://localhost:8080/"
        },
        "id": "G_HewOtr3b9C",
        "outputId": "793825ec-04ce-473c-b83e-fcf30f6f0b52"
      },
      "execution_count": 387,
      "outputs": [
        {
          "output_type": "execute_result",
          "data": {
            "text/plain": [
              "(0.7, 0.3)"
            ]
          },
          "metadata": {},
          "execution_count": 387
        }
      ]
    },
    {
      "cell_type": "code",
      "source": [
        "# Actual values\n",
        "model_0.state_dict()"
      ],
      "metadata": {
        "colab": {
          "base_uri": "https://localhost:8080/"
        },
        "id": "Tr74QyE7yrQQ",
        "outputId": "93b9cdad-e8bc-4261-d837-5bc67f4cdd4a"
      },
      "execution_count": 388,
      "outputs": [
        {
          "output_type": "execute_result",
          "data": {
            "text/plain": [
              "OrderedDict([('weights', tensor([0.6951])), ('bias', tensor([0.2993]))])"
            ]
          },
          "metadata": {},
          "execution_count": 388
        }
      ]
    }
  ]
}