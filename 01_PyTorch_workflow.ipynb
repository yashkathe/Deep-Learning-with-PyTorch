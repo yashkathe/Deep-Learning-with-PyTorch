{
  "nbformat": 4,
  "nbformat_minor": 0,
  "metadata": {
    "colab": {
      "provenance": [],
      "gpuType": "T4",
      "authorship_tag": "ABX9TyPpUS//SOmymojOqID64xMl",
      "include_colab_link": true
    },
    "kernelspec": {
      "name": "python3",
      "display_name": "Python 3"
    },
    "language_info": {
      "name": "python"
    },
    "accelerator": "GPU"
  },
  "cells": [
    {
      "cell_type": "markdown",
      "metadata": {
        "id": "view-in-github",
        "colab_type": "text"
      },
      "source": [
        "<a href=\"https://colab.research.google.com/github/yashkathe/Deep-Learning-with-PyTorch/blob/master/01_PyTorch_workflow.ipynb\" target=\"_parent\"><img src=\"https://colab.research.google.com/assets/colab-badge.svg\" alt=\"Open In Colab\"/></a>"
      ]
    },
    {
      "cell_type": "markdown",
      "source": [
        "# Pytorch Workflow\n",
        "\n",
        "<img src=\"https://raw.githubusercontent.com/mrdbourke/pytorch-deep-learning/main/images/01_a_pytorch_workflow.png\" alt=\"pytorch workflow\" height=\"300\"  style=\"display: block; margin: 0 auto\">"
      ],
      "metadata": {
        "id": "Ng7-Kt5bjhmz"
      }
    },
    {
      "cell_type": "code",
      "execution_count": 1,
      "metadata": {
        "colab": {
          "base_uri": "https://localhost:8080/",
          "height": 35
        },
        "id": "lqk03RUqjGJr",
        "outputId": "cb000565-aa4c-498d-a2dd-3fa24ce50ee7"
      },
      "outputs": [
        {
          "output_type": "execute_result",
          "data": {
            "text/plain": [
              "'2.2.1+cu121'"
            ],
            "application/vnd.google.colaboratory.intrinsic+json": {
              "type": "string"
            }
          },
          "metadata": {},
          "execution_count": 1
        }
      ],
      "source": [
        "import torch\n",
        "from torch import nn\n",
        "import numpy as np\n",
        "import matplotlib.pyplot as plt\n",
        "\n",
        "torch.__version__"
      ]
    },
    {
      "cell_type": "markdown",
      "source": [
        "## Data preparing and loading\n",
        "\n",
        "**Data can be almost anything**\n",
        "\n",
        "- SpreadSheet\n",
        "- Images\n",
        "- Videos\n",
        "- Audio\n",
        "- DNA\n",
        "- Text\n",
        "\n",
        "\n",
        "<img src=\"https://raw.githubusercontent.com/mrdbourke/pytorch-deep-learning/main/images/01-machine-learning-a-game-of-two-parts.png\" alt=\"pytorch workflow\" width=\"600\"  style=\"display: block; margin: 0 auto\">\n",
        "\n",
        "**ML is game of 2 parts**\n",
        "\n",
        "1. Get data into numerical representation\n",
        "2. Build a model to learn patterns in numerical representation"
      ],
      "metadata": {
        "id": "Mg3h_zWG9D0j"
      }
    },
    {
      "cell_type": "markdown",
      "source": [
        "## Creating data from linear regression  \n",
        "\n",
        "Using linear regression to make a straight line with **known parameters**\n",
        "\n",
        "_parameter is something that model learns_\n",
        "\n",
        "<img src=\"https://toptipbio.com/wp-content/uploads/2021/03/Linear-regression-model-equation.jpg\" alt=\"pytorch workflow\" height=\"200\"  style=\"display: block; margin: 0 auto\">"
      ],
      "metadata": {
        "id": "Tk0Bfyhg_zmw"
      }
    },
    {
      "cell_type": "code",
      "source": [
        "# create know parameters\n",
        "weight = 0.7\n",
        "bias = 0.3\n",
        "\n",
        "# create\n",
        "start = 0\n",
        "end = 1\n",
        "step = 0.02\n",
        "\n",
        "x = torch.arange(start,end,step).unsqueeze(dim=1)\n",
        "y = weight * x + bias\n",
        "\n",
        "print(x[:10])\n",
        "print(y[:10])"
      ],
      "metadata": {
        "colab": {
          "base_uri": "https://localhost:8080/"
        },
        "id": "RjAznyXD9A8r",
        "outputId": "837315a0-e5ff-4e99-bf74-74cf95df8267"
      },
      "execution_count": 2,
      "outputs": [
        {
          "output_type": "stream",
          "name": "stdout",
          "text": [
            "tensor([[0.0000],\n",
            "        [0.0200],\n",
            "        [0.0400],\n",
            "        [0.0600],\n",
            "        [0.0800],\n",
            "        [0.1000],\n",
            "        [0.1200],\n",
            "        [0.1400],\n",
            "        [0.1600],\n",
            "        [0.1800]])\n",
            "tensor([[0.3000],\n",
            "        [0.3140],\n",
            "        [0.3280],\n",
            "        [0.3420],\n",
            "        [0.3560],\n",
            "        [0.3700],\n",
            "        [0.3840],\n",
            "        [0.3980],\n",
            "        [0.4120],\n",
            "        [0.4260]])\n"
          ]
        }
      ]
    },
    {
      "cell_type": "code",
      "source": [
        "len(x), len(y)"
      ],
      "metadata": {
        "colab": {
          "base_uri": "https://localhost:8080/"
        },
        "id": "Pe5IAYpADCAz",
        "outputId": "800522bb-9c77-4a49-d8ac-7684d8f5f423"
      },
      "execution_count": 3,
      "outputs": [
        {
          "output_type": "execute_result",
          "data": {
            "text/plain": [
              "(50, 50)"
            ]
          },
          "metadata": {},
          "execution_count": 3
        }
      ]
    },
    {
      "cell_type": "markdown",
      "source": [
        "## Splitting data into training and test sets\n",
        "\n",
        "|Split | \tPurpose \t|Amount of total data |\tHow often is it used?|\n",
        "|--|--|--|--|\n",
        "|Training set| \tThe model learns from this data (like the course materials you study during the semester).| \t~60-80% |\tAlways|\n",
        "|Validation set |\tThe model gets tuned on this data (like the practice exam you take before the final exam).| \t~10-20% |\tOften but not always|\n",
        "|Testing set |\tThe model gets evaluated on this data to test what it has learned (like the final exam you take at the end of the semester).| \t~10-20% \t|Always|"
      ],
      "metadata": {
        "id": "6Awt5U2aDEv5"
      }
    },
    {
      "cell_type": "code",
      "source": [
        "# Create a train/test split of data\n",
        "\n",
        "train_split = int(0.8 * len(x)) # Training set - 80% of data\n",
        "\n",
        "x_train, y_train = x[:train_split], y[:train_split] # select first 80% of the data\n",
        "x_test, y_test = x[train_split:], y[train_split:] # select remaining 20% of the data\n",
        "\n",
        "print(f\"Length of Training dataset -> {len(x_train), len(y_train)}\")\n",
        "print(f\"Length of Testing dataset -> {len(x_test), len(y_test)}\")"
      ],
      "metadata": {
        "colab": {
          "base_uri": "https://localhost:8080/"
        },
        "id": "aNyqXIBnDECT",
        "outputId": "0a2962df-5e4c-472f-efba-327f9f97a013"
      },
      "execution_count": 4,
      "outputs": [
        {
          "output_type": "stream",
          "name": "stdout",
          "text": [
            "Length of Training dataset -> (40, 40)\n",
            "Length of Testing dataset -> (10, 10)\n"
          ]
        }
      ]
    },
    {
      "cell_type": "markdown",
      "source": [
        "## Visualizing Data"
      ],
      "metadata": {
        "id": "_o7uYYA6G745"
      }
    },
    {
      "cell_type": "code",
      "source": [
        "# Plots training data, test data and compares predictions\n",
        "def plot_predictions(train_data=x_train, train_labels=y_train, test_data=x_test, test_labels=y_test, predictions=None, title=\"\"):\n",
        "  plt.figure(figsize=(6, 4))\n",
        "\n",
        "  # Plot training data in blue\n",
        "  plt.scatter(train_data, train_labels, c=\"g\", s=4, label=\"Training data\")\n",
        "\n",
        "  # Plot testing data in green\n",
        "  plt.scatter(test_data, test_labels, c=\"b\", s=4, label=\"Testing data\")\n",
        "\n",
        "  # Predicitons\n",
        "  if predictions is not None:\n",
        "    plt.scatter(test_data, predictions, c=\"r\", s=4, label=\"Predictions\")\n",
        "\n",
        "  plt.legend(prop={\"size\": 8})\n",
        "\n",
        "  plt.title(title)"
      ],
      "metadata": {
        "id": "xgnWHKoGG7ek"
      },
      "execution_count": 5,
      "outputs": []
    },
    {
      "cell_type": "code",
      "source": [
        "plot_predictions(predictions=None)"
      ],
      "metadata": {
        "colab": {
          "base_uri": "https://localhost:8080/",
          "height": 368
        },
        "id": "_xDAut9jIbjQ",
        "outputId": "54d39d1e-f2f1-484b-bbe0-3d9755a4e767"
      },
      "execution_count": 6,
      "outputs": [
        {
          "output_type": "display_data",
          "data": {
            "text/plain": [
              "<Figure size 600x400 with 1 Axes>"
            ],
            "image/png": "[encoded data removed]"
          },
          "metadata": {}
        }
      ]
    },
    {
      "cell_type": "markdown",
      "source": [
        "## Build PyTorch Model\n",
        "\n",
        "**What our model does?**  \n",
        "1. Starts with random values\n",
        "2. Look at training data and adjust the random values to better represent(or get closer) to the ideal values (the weight and bias values we need to create the data)\n",
        "\n",
        "**How does it do so ?**    \n",
        "Through 2 main algorithms\n",
        "1. Gradient descent\n",
        "2. Back propogation"
      ],
      "metadata": {
        "id": "3AmqSodAJ2jK"
      }
    },
    {
      "cell_type": "code",
      "source": [
        "class LinearRegressionModel(nn.Module): #inherit from nn.Module\n",
        "  def __init__(self):\n",
        "    super().__init__()\n",
        "\n",
        "    # Initialise model parameters (create variables we need for our model to use)\n",
        "    self.weights = nn.Parameter(torch.randn(1, requires_grad=True, dtype=torch.float))\n",
        "    self.bias = nn.Parameter(torch.randn(1, requires_grad=True, dtype=torch.float))\n",
        "\n",
        "    # Forward defines computation in the model\n",
        "  def forward(self, x: torch.Tensor) -> torch.Tensor: # x is the input dataset\n",
        "    return self.weights * x + self.bias # linear regression formula"
      ],
      "metadata": {
        "id": "L9rSCXKPJ7WQ"
      },
      "execution_count": 7,
      "outputs": []
    },
    {
      "cell_type": "markdown",
      "source": [
        "### Explanation of the code above\n",
        "\n",
        "<img src=\"https://raw.githubusercontent.com/mrdbourke/pytorch-deep-learning/main/images/01-pytorch-linear-model-annotated.png\" alt=\"pytorch workflow\" height=\"350\"  style=\"display: block; margin: 0 auto\">\n",
        "\n"
      ],
      "metadata": {
        "id": "Og-4a6QlN5q3"
      }
    },
    {
      "cell_type": "markdown",
      "source": [
        "### PyTorch model building essentials\n",
        "\n",
        "| PyTorch module |\tWhat does it do? |\n",
        "| -------------- | ----------------- |\n",
        "| torch.nn       |\tContains all of the building blocks for computational graphs (essentially a series of computations executed in a particular way).|\n",
        "|torch.nn.Parameter |\tStores tensors that can be used with nn.Module. If requires_grad=True gradients (used for updating model parameters via gradient descent) are calculated automatically, this is often referred to as \"autograd\" |\n",
        "|torch.nn.Module |\tThe base class for all neural network modules, all the building blocks for neural networks are subclasses. If you're building a neural network in PyTorch, your models should subclass nn.Module. Requires a forward() method be implemented. |\n",
        "|torch.optim |\tContains various optimization algorithms (these tell the model parameters stored in nn.Parameter how to best change to improve gradient descent and in turn reduce the loss).|\n",
        "|def forward() |\tAll nn.Module subclasses require a forward() method, this defines the computation that will take place on the data passed to the particular nn.Module (e.g. the linear regression formula above).|"
      ],
      "metadata": {
        "id": "SB9qoUMqOZtg"
      }
    },
    {
      "cell_type": "markdown",
      "source": [
        "## Checking the internals of our model\n",
        "\n",
        "using `.parameters()`"
      ],
      "metadata": {
        "id": "cWBnHGt1jO4U"
      }
    },
    {
      "cell_type": "code",
      "source": [
        "# Create a random seed\n",
        "torch.manual_seed(42)\n",
        "\n",
        "# Create an instance of the model (this is a subclass of nn.Module)\n",
        "model_0 = LinearRegressionModel()\n",
        "\n",
        "# Checking parameters\n",
        "list(model_0.parameters())"
      ],
      "metadata": {
        "colab": {
          "base_uri": "https://localhost:8080/"
        },
        "id": "vebaiYeiLqUp",
        "outputId": "5ec15712-efc8-4dfe-a31e-03f7baef59f0"
      },
      "execution_count": 8,
      "outputs": [
        {
          "output_type": "execute_result",
          "data": {
            "text/plain": [
              "[Parameter containing:\n",
              " tensor([0.3367], requires_grad=True),\n",
              " Parameter containing:\n",
              " tensor([0.1288], requires_grad=True)]"
            ]
          },
          "metadata": {},
          "execution_count": 8
        }
      ]
    },
    {
      "cell_type": "code",
      "source": [
        "# List named parameters\n",
        "\n",
        "model_0.state_dict()"
      ],
      "metadata": {
        "colab": {
          "base_uri": "https://localhost:8080/"
        },
        "id": "XJ8fPtdZkY0A",
        "outputId": "14f7c485-119f-41f3-845e-f3c42428ce71"
      },
      "execution_count": 9,
      "outputs": [
        {
          "output_type": "execute_result",
          "data": {
            "text/plain": [
              "OrderedDict([('weights', tensor([0.3367])), ('bias', tensor([0.1288]))])"
            ]
          },
          "metadata": {},
          "execution_count": 9
        }
      ]
    },
    {
      "cell_type": "markdown",
      "source": [
        "### What is our main goal ?\n",
        "\n",
        "Look the graph and test data (blue dots) in the graphs\n",
        "\n",
        "and adjust the _weight_ and _bias_ value (above) to be as close as to the weights and bias (know parameters)"
      ],
      "metadata": {
        "id": "sCCZsLU1kgmy"
      }
    },
    {
      "cell_type": "code",
      "source": [
        "print(f\"We have to go from {model_0.state_dict()}\")\n",
        "print(f\"To weight: {weight}, bias: {bias}\")"
      ],
      "metadata": {
        "colab": {
          "base_uri": "https://localhost:8080/"
        },
        "id": "OWeJuWD-kjyg",
        "outputId": "b19ede63-09a6-4651-941d-73b891248fd0"
      },
      "execution_count": 10,
      "outputs": [
        {
          "output_type": "stream",
          "name": "stdout",
          "text": [
            "We have to go from OrderedDict([('weights', tensor([0.3367])), ('bias', tensor([0.1288]))])\n",
            "To weight: 0.7, bias: 0.3\n"
          ]
        }
      ]
    },
    {
      "cell_type": "markdown",
      "source": [
        "## Making predictions\n",
        "\n",
        "using `torch.inference_mode()`\n",
        "\n",
        "to check our model's predictive power ->\n",
        "let's start test how well it predicts `y_test` base on `x_test`\n",
        "\n",
        "when we pass data through our model,\n",
        "its going to run it through the `forward` method"
      ],
      "metadata": {
        "id": "1cwmElNcxWct"
      }
    },
    {
      "cell_type": "code",
      "source": [
        "print(f\"for x_test: {x_test}\")\n",
        "print(\"we have to predict\")\n",
        "print(f\"for y_test: {y_test}\")"
      ],
      "metadata": {
        "colab": {
          "base_uri": "https://localhost:8080/"
        },
        "id": "E3Sj7RUjxhdF",
        "outputId": "20da391e-0986-4f91-d005-97b9638aefc2"
      },
      "execution_count": 11,
      "outputs": [
        {
          "output_type": "stream",
          "name": "stdout",
          "text": [
            "for x_test: tensor([[0.8000],\n",
            "        [0.8200],\n",
            "        [0.8400],\n",
            "        [0.8600],\n",
            "        [0.8800],\n",
            "        [0.9000],\n",
            "        [0.9200],\n",
            "        [0.9400],\n",
            "        [0.9600],\n",
            "        [0.9800]])\n",
            "we have to predict\n",
            "for y_test: tensor([[0.8600],\n",
            "        [0.8740],\n",
            "        [0.8880],\n",
            "        [0.9020],\n",
            "        [0.9160],\n",
            "        [0.9300],\n",
            "        [0.9440],\n",
            "        [0.9580],\n",
            "        [0.9720],\n",
            "        [0.9860]])\n"
          ]
        }
      ]
    },
    {
      "cell_type": "code",
      "source": [
        "with torch.inference_mode():\n",
        "  y_preds = model_0(x_test)\n",
        "\n",
        "y_preds"
      ],
      "metadata": {
        "colab": {
          "base_uri": "https://localhost:8080/"
        },
        "id": "RVhjV6QkxdXR",
        "outputId": "2acdea0a-7132-45f9-b90c-f937f8bf145d"
      },
      "execution_count": 12,
      "outputs": [
        {
          "output_type": "execute_result",
          "data": {
            "text/plain": [
              "tensor([[0.3982],\n",
              "        [0.4049],\n",
              "        [0.4116],\n",
              "        [0.4184],\n",
              "        [0.4251],\n",
              "        [0.4318],\n",
              "        [0.4386],\n",
              "        [0.4453],\n",
              "        [0.4520],\n",
              "        [0.4588]])"
            ]
          },
          "metadata": {},
          "execution_count": 12
        }
      ]
    },
    {
      "cell_type": "code",
      "source": [
        "plot_predictions(predictions=y_preds, title=\"Plotting prediction\")"
      ],
      "metadata": {
        "colab": {
          "base_uri": "https://localhost:8080/",
          "height": 391
        },
        "id": "C_7jUPpAQDku",
        "outputId": "49fb81e3-ba42-48a2-8d6d-0e75712a7281"
      },
      "execution_count": 13,
      "outputs": [
        {
          "output_type": "display_data",
          "data": {
            "text/plain": [
              "<Figure size 600x400 with 1 Axes>"
            ],
            "image/png": "[encoded data removed]"
          },
          "metadata": {}
        }
      ]
    },
    {
      "cell_type": "markdown",
      "source": [
        "## Training Model\n",
        "\n",
        "The idea of training is for a model to move from some unknown parameters to known parameters\n",
        "\n",
        "in other words\n",
        "\n",
        "From `poor representation` to -> `better representation` of the data\n"
      ],
      "metadata": {
        "id": "nyp96EPgTBGt"
      }
    },
    {
      "cell_type": "markdown",
      "source": [
        "### Things we need to train a model\n",
        "\n",
        "1. **Loss Function**  \n",
        "The way to measure how wrong model's prediction is to use a loss function\n",
        "\n",
        "2. **Optimizer**  \n",
        "An optimizer is a method used to adjust the model's parameters to minimize the loss function\n",
        "\n",
        "### And specifically for pytorch we need:\n",
        "\n",
        "- **Training loop**\n",
        "- **Testing loop**"
      ],
      "metadata": {
        "id": "JuoyUkVhTpZb"
      }
    },
    {
      "cell_type": "code",
      "source": [
        "list(model_0.parameters())"
      ],
      "metadata": {
        "colab": {
          "base_uri": "https://localhost:8080/"
        },
        "id": "8F1nPPEeTSg7",
        "outputId": "ac28a69b-c682-4197-bd99-261547979e11"
      },
      "execution_count": 14,
      "outputs": [
        {
          "output_type": "execute_result",
          "data": {
            "text/plain": [
              "[Parameter containing:\n",
              " tensor([0.3367], requires_grad=True),\n",
              " Parameter containing:\n",
              " tensor([0.1288], requires_grad=True)]"
            ]
          },
          "metadata": {},
          "execution_count": 14
        }
      ]
    },
    {
      "cell_type": "code",
      "source": [
        "model_0.state_dict()"
      ],
      "metadata": {
        "colab": {
          "base_uri": "https://localhost:8080/"
        },
        "id": "Ce2mfxuOU68W",
        "outputId": "7120f455-289b-487c-88cd-e4e204eff191"
      },
      "execution_count": 15,
      "outputs": [
        {
          "output_type": "execute_result",
          "data": {
            "text/plain": [
              "OrderedDict([('weights', tensor([0.3367])), ('bias', tensor([0.1288]))])"
            ]
          },
          "metadata": {},
          "execution_count": 15
        }
      ]
    },
    {
      "cell_type": "markdown",
      "source": [
        "## Mean Absolute Error\n",
        "\n",
        "Depending on what kind of problem you're working on will depend on what loss function and what optimizer you use.\n",
        "\n",
        "However, there are some common values, that are known to work well such as the SGD (stochastic gradient descent) or Adam optimizer. And the MAE (mean absolute error) loss function for regression problems (predicting a number) or binary cross entropy loss function for classification problems (predicting one thing or another).\n",
        "\n",
        "`Mean absolute error` (MAE, in PyTorch: torch.nn.L1Loss) measures the absolute difference between two points (predictions and labels) and then takes the mean across all examples.\n",
        "\n",
        "<img src=\"https://raw.githubusercontent.com/mrdbourke/pytorch-deep-learning/main/images/01-mae-loss-annotated.png\" alt=\"MAE\" height=\"350\"  style=\"display: block; margin: 0 auto\">\n",
        "\n",
        "And we'll use SGD, `torch.optim.SGD(params, lr) ` where:\n",
        "\n",
        "  - **`params`** is the target model parameters you'd like to optimize (e.g. the weights and bias values we randomly set before).\n",
        "  \n",
        "  - **`lr`** is the learning rate you'd like the optimizer to update the parameters at, higher means the optimizer will try larger updates (these can sometimes be too large and the optimizer will fail to work), lower means the optimizer will try smaller updates (these can sometimes be too small and the optimizer will take too long to find the ideal values). The learning rate is considered a hyperparameter (because it's set by a machine learning engineer). Common starting values for the learning rate are 0.01, 0.001, 0.0001, however, these can also be adjusted over time"
      ],
      "metadata": {
        "id": "t8IebrtYonZP"
      }
    },
    {
      "cell_type": "code",
      "source": [
        "# Setup a loss function\n",
        "loss_fn = nn.L1Loss() # MAE loss is same as L1Loss\n",
        "\n",
        "# Setup an optimizer (stochastic gradient descent algorithm)\n",
        "optimizer = torch.optim.SGD(params = model_0.parameters(),\n",
        "                            lr  = 0.01) # larger the learning rate, larger is the change in parameters"
      ],
      "metadata": {
        "id": "-Lc-LxuPpcYx"
      },
      "execution_count": 16,
      "outputs": []
    },
    {
      "cell_type": "markdown",
      "source": [
        "**Q:** What loss function and optimizer should I use ?\n",
        "\n",
        "**->** This will be problem specific\n",
        "\n",
        "For example, for a regression problem(like this), a loss function of `nn.L1Loss()` and an optimizer like `torch.optim.SGD()` will suffice.\n",
        "\n",
        "But for a classification problem like classifying whether a photo is of a dog or a cat, we will need to use a loss function of `nn.BCELoss()` (binary cross entropy loss)"
      ],
      "metadata": {
        "id": "H4ZZ5ZQhryco"
      }
    },
    {
      "cell_type": "markdown",
      "source": [
        "### Building a training loop (and a testing loop) in python\n",
        "\n",
        "\n",
        "A couple of things we need for a training  loop:\n",
        "\n",
        "1. Loop through the data\n",
        "2. Forward pass (this involves data moving through our model's `forward()` functions) to make prediction on data - also called `forward propogation`\n",
        "3. Calculate the loss (compare forward pass predictions to ground truth labels)\n",
        "4. Optimizer zero grad\n",
        "5. Loss backward - move backwards through the network to calcualte the gradients of each of the parameters of our models with respect to the loss (**`backpropogation`**)\n",
        "6. Optimizer step - use the optimizerto adjust our model's paramter to try and improve the loss(**`gradient descent`**)\n"
      ],
      "metadata": {
        "id": "KD0AWcbAsori"
      }
    },
    {
      "cell_type": "code",
      "source": [
        "list(model_0.parameters())"
      ],
      "metadata": {
        "colab": {
          "base_uri": "https://localhost:8080/"
        },
        "id": "Z3QW7AEpvYH6",
        "outputId": "c7ad3bd3-f2a6-4413-d999-e45bb967a5c8"
      },
      "execution_count": 17,
      "outputs": [
        {
          "output_type": "execute_result",
          "data": {
            "text/plain": [
              "[Parameter containing:\n",
              " tensor([0.3367], requires_grad=True),\n",
              " Parameter containing:\n",
              " tensor([0.1288], requires_grad=True)]"
            ]
          },
          "metadata": {},
          "execution_count": 17
        }
      ]
    },
    {
      "cell_type": "markdown",
      "source": [
        "### Explanation of the training loop\n",
        "\n",
        "<img src=\"https://raw.githubusercontent.com/mrdbourke/pytorch-deep-learning/main/images/01-pytorch-training-loop-annotated.png\" alt=\"training our model code explanation\" height=\"450\"  style=\"display: block; margin: 0 auto\">\n",
        "\n",
        "#### Gradient Descent Curve\n",
        "\n",
        "Behind the scenes pytorch is going to create this curve for every parameter\n",
        "\n",
        "<img src=\"https://editor.analyticsvidhya.com/uploads/97106gd4.jpeg\" alt=\"MAE\" height=\"350\"  style=\"display: block; margin: 0 auto\">\n",
        "\n",
        "**Learning Rate Scheduling** says start with some big steps but as we get close to the bottom start taking baby steps\n",
        "\n",
        "The bottom point is also called **convergence**\n",
        "\n",
        "<img src=\"https://editor.analyticsvidhya.com/uploads/59180Screenshot%20(125).png\" alt=\"MAE\" height=\"350\"  style=\"display: block; margin: 0 auto\">\n",
        "\n",
        "### Explanation of the testing loop\n",
        "\n",
        "<img src=\"https://raw.githubusercontent.com/mrdbourke/pytorch-deep-learning/main/images/01-pytorch-testing-loop-annotated.png\" alt=\"testing our model code explanation\" height=\"450\"  style=\"display: block; margin: 0 auto\">\n",
        "\n",
        "\n"
      ],
      "metadata": {
        "id": "uc2DQG8qykHy"
      }
    },
    {
      "cell_type": "code",
      "source": [
        "torch.manual_seed(42)\n",
        "\n",
        "# An epoch is one loop through the data ...\n",
        "\n",
        "epochs = 201\n",
        "\n",
        "epoch_count = []\n",
        "loss_values = []\n",
        "test_loss_values = []\n",
        "\n",
        "# 1. Loop through the data\n",
        "for epoch in range(epochs):\n",
        "\n",
        "  # Set the model to training mode (default mode of model)\n",
        "  model_0.train() # train mode in PyTorch sets all parameters that requires gradients to require gradients\n",
        "\n",
        "  # 2. Forward pass\n",
        "  y_pred = model_0(x_train)\n",
        "\n",
        "  # we learn patterns on training data to evalute on model on test data\n",
        "\n",
        "  # 3. Calculate the Loss\n",
        "  loss = loss_fn(y_pred, y_train) # we are calculating the difference between y_pred and y_train data\n",
        "\n",
        "  # 4. Optimizer zero grad\n",
        "  optimizer.zero_grad()\n",
        "\n",
        "  # 5. Perform backpropogation on the loss with respect to the parameters of the model\n",
        "  loss.backward()\n",
        "\n",
        "  # 6. Step the optimizer (perform gradient descent)\n",
        "  # by default how the optimizer changes will accumulate through the lopp so we have to zero them above in step 3 for the next iteration of the loop\n",
        "  optimizer.step()\n",
        "\n",
        "  # Testing\n",
        "  model_0.eval() # turns off different settings in the model not needed for evaluation/testing\n",
        "  with torch.inference_mode(): # turns off gradient tracking (and other things)\n",
        "\n",
        "    # 1. Do the forward pass\n",
        "    test_pred = model_0(x_test)\n",
        "\n",
        "    # 2. Calculate the loss\n",
        "    test_loss = loss_fn(test_pred, y_test)\n",
        "\n",
        "  if epoch % 10 == 0:\n",
        "    epoch_count.append(epoch)\n",
        "    loss_values.append(loss)\n",
        "    test_loss_values.append(test_loss)\n",
        "    print(f\"Epoch: {epoch} | Loss: {loss} | Test loss: {test_loss}\")\n"
      ],
      "metadata": {
        "colab": {
          "base_uri": "https://localhost:8080/"
        },
        "id": "Y3sXLmxcrR3E",
        "outputId": "5711f9c3-7ed3-486c-82c4-79a4639a58e6"
      },
      "execution_count": 18,
      "outputs": [
        {
          "output_type": "stream",
          "name": "stdout",
          "text": [
            "Epoch: 0 | Loss: 0.31288138031959534 | Test loss: 0.48106518387794495\n",
            "Epoch: 10 | Loss: 0.1976713240146637 | Test loss: 0.3463551998138428\n",
            "Epoch: 20 | Loss: 0.08908725529909134 | Test loss: 0.21729660034179688\n",
            "Epoch: 30 | Loss: 0.053148526698350906 | Test loss: 0.14464017748832703\n",
            "Epoch: 40 | Loss: 0.04543796554207802 | Test loss: 0.11360953003168106\n",
            "Epoch: 50 | Loss: 0.04167863354086876 | Test loss: 0.09919948130846024\n",
            "Epoch: 60 | Loss: 0.03818932920694351 | Test loss: 0.08886633068323135\n",
            "Epoch: 70 | Loss: 0.03476089984178543 | Test loss: 0.0805937647819519\n",
            "Epoch: 80 | Loss: 0.03132382780313492 | Test loss: 0.07232122868299484\n",
            "Epoch: 90 | Loss: 0.02788739837706089 | Test loss: 0.06473556160926819\n",
            "Epoch: 100 | Loss: 0.024458957836031914 | Test loss: 0.05646304413676262\n",
            "Epoch: 110 | Loss: 0.021020207554101944 | Test loss: 0.04819049686193466\n",
            "Epoch: 120 | Loss: 0.01758546568453312 | Test loss: 0.04060482233762741\n",
            "Epoch: 130 | Loss: 0.014155393466353416 | Test loss: 0.03233227878808975\n",
            "Epoch: 140 | Loss: 0.010716589167714119 | Test loss: 0.024059748277068138\n",
            "Epoch: 150 | Loss: 0.0072835334576666355 | Test loss: 0.016474086791276932\n",
            "Epoch: 160 | Loss: 0.0038517764769494534 | Test loss: 0.008201557211577892\n",
            "Epoch: 170 | Loss: 0.008932482451200485 | Test loss: 0.005023092031478882\n",
            "Epoch: 180 | Loss: 0.008932482451200485 | Test loss: 0.005023092031478882\n",
            "Epoch: 190 | Loss: 0.008932482451200485 | Test loss: 0.005023092031478882\n",
            "Epoch: 200 | Loss: 0.008932482451200485 | Test loss: 0.005023092031478882\n"
          ]
        }
      ]
    },
    {
      "cell_type": "code",
      "source": [
        "# plot the loss curve\n",
        "\n",
        "plt.plot(epoch_count, np.array(torch.tensor(loss_values)), label = \"Train Loss\")\n",
        "plt.plot(epoch_count, test_loss_values, label = \"Test Loss\")\n",
        "plt.title(\"Training and Test loss curves\")\n",
        "plt.ylabel(\"Loss\")\n",
        "plt.xlabel(\"Epochs\")\n",
        "plt.legend()"
      ],
      "metadata": {
        "colab": {
          "base_uri": "https://localhost:8080/",
          "height": 489
        },
        "id": "pgrDWu3CAbD2",
        "outputId": "1495e426-ff07-44b6-d7d6-4ae22cbbe538"
      },
      "execution_count": 19,
      "outputs": [
        {
          "output_type": "execute_result",
          "data": {
            "text/plain": [
              "<matplotlib.legend.Legend at 0x7af129d81930>"
            ]
          },
          "metadata": {},
          "execution_count": 19
        },
        {
          "output_type": "display_data",
          "data": {
            "text/plain": [
              "<Figure size 640x480 with 1 Axes>"
            ],
            "image/png": "[encoded data removed]"
          },
          "metadata": {}
        }
      ]
    },
    {
      "cell_type": "code",
      "source": [
        "with torch.inference_mode():\n",
        "  y_preds_new = model_0(x_test)"
      ],
      "metadata": {
        "id": "7zLscjHP4WwS"
      },
      "execution_count": 20,
      "outputs": []
    },
    {
      "cell_type": "code",
      "source": [
        "# previous prediciton\n",
        "plot_predictions(predictions=y_preds, title=\"Previous Prediciton\")"
      ],
      "metadata": {
        "colab": {
          "base_uri": "https://localhost:8080/",
          "height": 391
        },
        "id": "yqvCmtYm4iIc",
        "outputId": "1de9666e-4dce-460c-e538-45d4e0d19e0e"
      },
      "execution_count": 21,
      "outputs": [
        {
          "output_type": "display_data",
          "data": {
            "text/plain": [
              "<Figure size 600x400 with 1 Axes>"
            ],
            "image/png": "[encoded data removed]"
          },
          "metadata": {}
        }
      ]
    },
    {
      "cell_type": "code",
      "source": [
        "# prediction after training the model\n",
        "plot_predictions(predictions=y_preds_new, title=\"Prediction after training our model\")"
      ],
      "metadata": {
        "colab": {
          "base_uri": "https://localhost:8080/",
          "height": 391
        },
        "id": "ic_mOVcE4joz",
        "outputId": "92e59307-2a86-4c9c-fddb-2eb4f7166b81"
      },
      "execution_count": 22,
      "outputs": [
        {
          "output_type": "display_data",
          "data": {
            "text/plain": [
              "<Figure size 600x400 with 1 Axes>"
            ],
            "image/png": "[encoded data removed]"
          },
          "metadata": {}
        }
      ]
    },
    {
      "cell_type": "code",
      "source": [
        "# Desired values\n",
        "weight, bias"
      ],
      "metadata": {
        "colab": {
          "base_uri": "https://localhost:8080/"
        },
        "id": "G_HewOtr3b9C",
        "outputId": "6d1347b4-f762-41cc-8466-4c5216838638"
      },
      "execution_count": 23,
      "outputs": [
        {
          "output_type": "execute_result",
          "data": {
            "text/plain": [
              "(0.7, 0.3)"
            ]
          },
          "metadata": {},
          "execution_count": 23
        }
      ]
    },
    {
      "cell_type": "code",
      "source": [
        "# Actual values\n",
        "model_0.state_dict()"
      ],
      "metadata": {
        "colab": {
          "base_uri": "https://localhost:8080/"
        },
        "id": "Tr74QyE7yrQQ",
        "outputId": "f40ce53c-e045-41cb-e1bb-22fd12227032"
      },
      "execution_count": 24,
      "outputs": [
        {
          "output_type": "execute_result",
          "data": {
            "text/plain": [
              "OrderedDict([('weights', tensor([0.6951])), ('bias', tensor([0.2993]))])"
            ]
          },
          "metadata": {},
          "execution_count": 24
        }
      ]
    },
    {
      "cell_type": "markdown",
      "source": [
        "## Saving a model in pytorch\n",
        "\n",
        "Three main methods for saving and loading models in PyTorch\n",
        "\n",
        "1. `torch.save()` - save PyTorch object in python's pickle format\n",
        "2. `torch.load()` - load a saved PyTorch object\n",
        "3. `torch.nn.Module.load_state_dict()` - load model's saved state dictionary\n"
      ],
      "metadata": {
        "id": "gQqX_zFafAdB"
      }
    },
    {
      "cell_type": "code",
      "source": [
        "model_0.state_dict()"
      ],
      "metadata": {
        "colab": {
          "base_uri": "https://localhost:8080/"
        },
        "id": "ijrKv6J8e__3",
        "outputId": "c06caabe-c9d1-4ddb-f618-77a8b62ffa6d"
      },
      "execution_count": 25,
      "outputs": [
        {
          "output_type": "execute_result",
          "data": {
            "text/plain": [
              "OrderedDict([('weights', tensor([0.6951])), ('bias', tensor([0.2993]))])"
            ]
          },
          "metadata": {},
          "execution_count": 25
        }
      ]
    },
    {
      "cell_type": "code",
      "source": [
        "# saving our pytorch model\n",
        "\n",
        "from pathlib import Path\n",
        "\n",
        "# 1. Create model directory\n",
        "\n",
        "MODEL_PATH = Path(\"models\")\n",
        "MODEL_PATH.mkdir(parents=True, exist_ok=True)\n",
        "\n",
        "# 2. Create model save path\n",
        "\n",
        "MODEL_NAME = \"01_pytorch_workflow_model.pth\"\n",
        "MODEL_SAVE_PATH = MODEL_PATH / MODEL_NAME\n",
        "\n",
        "MODEL_SAVE_PATH\n",
        "\n",
        "# 3.Save the model state dict\n",
        "print(f\"Saving model to {MODEL_SAVE_PATH}\")\n",
        "torch.save(obj=model_0.state_dict(),\n",
        "           f=MODEL_SAVE_PATH)"
      ],
      "metadata": {
        "colab": {
          "base_uri": "https://localhost:8080/"
        },
        "id": "oq-r1VXDge66",
        "outputId": "a37e2b7f-50b0-491a-c41e-f7afd7f0318f"
      },
      "execution_count": 26,
      "outputs": [
        {
          "output_type": "stream",
          "name": "stdout",
          "text": [
            "Saving model to models/01_pytorch_workflow_model.pth\n"
          ]
        }
      ]
    },
    {
      "cell_type": "code",
      "source": [
        "!ls -l models"
      ],
      "metadata": {
        "colab": {
          "base_uri": "https://localhost:8080/"
        },
        "id": "dAu7UFSlhzcf",
        "outputId": "385c24f1-3592-4ebf-d6fc-f8ad99c6b14a"
      },
      "execution_count": 27,
      "outputs": [
        {
          "output_type": "stream",
          "name": "stdout",
          "text": [
            "total 4\n",
            "-rw-r--r-- 1 root root 1668 Apr  9 02:03 01_pytorch_workflow_model.pth\n"
          ]
        }
      ]
    },
    {
      "cell_type": "markdown",
      "source": [
        "### Loading our model\n",
        "\n",
        "We have saved model's `state_dict()` rather than entire model\n",
        "\n",
        "Hence we will create a new instance of our model class and load the saved `state_dict()` into that"
      ],
      "metadata": {
        "id": "hvJkhixpiHey"
      }
    },
    {
      "cell_type": "code",
      "source": [
        "# Load i a saved satte_dict\n",
        "\n",
        "loaded_model_0 = LinearRegressionModel()\n",
        "\n",
        "# Load the saved state_dict of model_0 (this will update the new instance with updated parameters)\n",
        "\n",
        "loaded_model_0.load_state_dict(torch.load(f=MODEL_SAVE_PATH))"
      ],
      "metadata": {
        "colab": {
          "base_uri": "https://localhost:8080/"
        },
        "id": "W9KXuCbsidxG",
        "outputId": "13275d6d-05d2-4475-8b6d-873936abfcd7"
      },
      "execution_count": 28,
      "outputs": [
        {
          "output_type": "execute_result",
          "data": {
            "text/plain": [
              "<All keys matched successfully>"
            ]
          },
          "metadata": {},
          "execution_count": 28
        }
      ]
    },
    {
      "cell_type": "code",
      "source": [
        "loaded_model_0.state_dict()"
      ],
      "metadata": {
        "colab": {
          "base_uri": "https://localhost:8080/"
        },
        "id": "7DIojEtwi1eO",
        "outputId": "7bfb8b90-fcb0-45a6-fecf-e11d4cfb96c9"
      },
      "execution_count": 29,
      "outputs": [
        {
          "output_type": "execute_result",
          "data": {
            "text/plain": [
              "OrderedDict([('weights', tensor([0.6951])), ('bias', tensor([0.2993]))])"
            ]
          },
          "metadata": {},
          "execution_count": 29
        }
      ]
    },
    {
      "cell_type": "code",
      "source": [
        "# Make predictions with loaded model\n",
        "\n",
        "loaded_model_0.eval()\n",
        "with torch.inference_mode():\n",
        "  loaded_model_preds = loaded_model_0(x_test)"
      ],
      "metadata": {
        "id": "BNjQwsFrjLuK"
      },
      "execution_count": 30,
      "outputs": []
    },
    {
      "cell_type": "code",
      "source": [
        "# Making predictions with previous mode\n",
        "\n",
        "model_0.eval()\n",
        "with torch.inference_mode():\n",
        "  y_preds = model_0(x_test)"
      ],
      "metadata": {
        "id": "02o5ozdcjqEY"
      },
      "execution_count": 31,
      "outputs": []
    },
    {
      "cell_type": "code",
      "source": [
        "# Compare predictions\n",
        "\n",
        "y_preds == loaded_model_preds"
      ],
      "metadata": {
        "colab": {
          "base_uri": "https://localhost:8080/"
        },
        "id": "SfHwQ6Zlj405",
        "outputId": "6bf75e8e-c675-4c41-d564-b8b4963c6279"
      },
      "execution_count": 32,
      "outputs": [
        {
          "output_type": "execute_result",
          "data": {
            "text/plain": [
              "tensor([[True],\n",
              "        [True],\n",
              "        [True],\n",
              "        [True],\n",
              "        [True],\n",
              "        [True],\n",
              "        [True],\n",
              "        [True],\n",
              "        [True],\n",
              "        [True]])"
            ]
          },
          "metadata": {},
          "execution_count": 32
        }
      ]
    },
    {
      "cell_type": "markdown",
      "source": [
        "## Putting it all together (Revision of all previous steps)"
      ],
      "metadata": {
        "id": "BZRU1ziukfcQ"
      }
    },
    {
      "cell_type": "code",
      "source": [
        "import torch\n",
        "from torch import nn\n",
        "import matplotlib.pyplot as plt\n",
        "import numpy as np"
      ],
      "metadata": {
        "id": "oij-2MZYkkK2"
      },
      "execution_count": 33,
      "outputs": []
    },
    {
      "cell_type": "markdown",
      "source": [
        "## Create device agnostic code"
      ],
      "metadata": {
        "id": "4QmrXc4PlpwQ"
      }
    },
    {
      "cell_type": "code",
      "source": [
        "# setup device agnostic code\n",
        "\n",
        "device = \"cuda\" if torch.cuda.is_available() else\"cpu\"\n",
        "\n",
        "print(f\"Using device: {device}\")"
      ],
      "metadata": {
        "colab": {
          "base_uri": "https://localhost:8080/"
        },
        "id": "CLqtVa-3lo66",
        "outputId": "a9b07f77-b263-4441-8d9f-e8faf1053594"
      },
      "execution_count": 34,
      "outputs": [
        {
          "output_type": "stream",
          "name": "stdout",
          "text": [
            "Using device: cuda\n"
          ]
        }
      ]
    },
    {
      "cell_type": "markdown",
      "source": [
        "### Data\n",
        "\n",
        "create some data using linear regression formula: `y = weight * x + bias`"
      ],
      "metadata": {
        "id": "bpiKhgIAmcG9"
      }
    },
    {
      "cell_type": "code",
      "source": [
        "# setting parameters\n",
        "weight = 0.7\n",
        "bias = 0.3\n",
        "\n",
        "# create range values\n",
        "start = 0\n",
        "end = 1\n",
        "step = 0.02\n",
        "\n",
        "# create x and y (features and labels)\n",
        "x = torch.arange(start, end, step).unsqueeze(dim=1)\n",
        "y = weight * x + bias"
      ],
      "metadata": {
        "colab": {
          "base_uri": "https://localhost:8080/"
        },
        "id": "aZps4wGamPO0",
        "outputId": "c11e02c4-44b8-42b8-b9f8-c17c85e89f92"
      },
      "execution_count": 46,
      "outputs": [
        {
          "output_type": "execute_result",
          "data": {
            "text/plain": [
              "tensor([[0.8000],\n",
              "        [0.8200],\n",
              "        [0.8400],\n",
              "        [0.8600],\n",
              "        [0.8800],\n",
              "        [0.9000],\n",
              "        [0.9200],\n",
              "        [0.9400],\n",
              "        [0.9600],\n",
              "        [0.9800]])"
            ]
          },
          "metadata": {},
          "execution_count": 46
        }
      ]
    },
    {
      "cell_type": "markdown",
      "source": [
        "we have values of x which correlate to y\n",
        "\n",
        "we are going to use training values of x to predict training values of y and subsequently for test values"
      ],
      "metadata": {
        "id": "6Ib0tCgdn-5Z"
      }
    },
    {
      "cell_type": "code",
      "source": [
        "train_split = int(0.8 * len(x))\n",
        "\n",
        "x_train, y_train = x[:train_split], y[:train_split]\n",
        "x_test, y_test = x[train_split:], y[train_split:]\n",
        "\n",
        "print(f\"length of training data: {len(x_train), len(y_train)}\")\n",
        "print(f\"length of testing data: {len(x_test), len(y_test)}\")"
      ],
      "metadata": {
        "colab": {
          "base_uri": "https://localhost:8080/"
        },
        "id": "szPhUX1DoBdz",
        "outputId": "b9c7a664-a0f1-49b4-849e-7b3c3bdc6c6e"
      },
      "execution_count": 48,
      "outputs": [
        {
          "output_type": "stream",
          "name": "stdout",
          "text": [
            "length of training data: (40, 40)\n",
            "length of testing data: (10, 10)\n"
          ]
        }
      ]
    },
    {
      "cell_type": "code",
      "source": [
        "# creating a plot function\n",
        "\n",
        "def plot_predictions(x_train= x_train, y_train = y_train, x_test = x_test, y_test = y_test, predictions=None, title=\"\"):\n",
        "  plt.figure(figsize=(8,6))\n",
        "\n",
        "  plt.scatter(x_train, y_train, c = \"g\", s = 4, label=\"training data\")\n",
        "\n",
        "  plt.scatter(x_test, y_test, c = \"b\", s = 4, label=\"testing data\")\n",
        "\n",
        "  if predictions is not None:\n",
        "    plt.scatter(x_test, predictions, c = \"r\" , s = 4, label=\"predictions\")\n",
        "\n",
        "  plt.legend(prop={\"size\": 14})\n",
        "\n",
        "  plt.title(title)"
      ],
      "metadata": {
        "id": "KzPVLj4Oo8sS"
      },
      "execution_count": 55,
      "outputs": []
    },
    {
      "cell_type": "code",
      "source": [
        "plot_predictions()"
      ],
      "metadata": {
        "colab": {
          "base_uri": "https://localhost:8080/",
          "height": 522
        },
        "id": "IvpilPUmrrAE",
        "outputId": "89cce7a5-0d60-4828-f5a8-798396fa5c7d"
      },
      "execution_count": 56,
      "outputs": [
        {
          "output_type": "display_data",
          "data": {
            "text/plain": [
              "<Figure size 800x600 with 1 Axes>"
            ],
            "image/png": "[encoded data removed]"
          },
          "metadata": {}
        }
      ]
    },
    {
      "cell_type": "markdown",
      "source": [
        "### Building a pytorch linear model\n",
        "\n",
        "<img src=\"https://raw.githubusercontent.com/mrdbourke/pytorch-deep-learning/main/images/01-pytorch-linear-regression-model-with-nn-Parameter-and-nn-Linear-compared.png\" alt=\"explanation of below code\" height=\"450\"  style=\"display: block; margin: 0 auto\">\n",
        "\n",
        "- Instead of setting parameters, we directly set a layer\n",
        "- In forward method directly used a function instead of writing formula explicitly"
      ],
      "metadata": {
        "id": "4wuTPi2itOhd"
      }
    },
    {
      "cell_type": "code",
      "source": [
        "# create a linear model by sublclassing nn.Module\n",
        "\n",
        "class LinearRegressionModelv2(nn.Module):\n",
        "  def __init__(self):\n",
        "    super().__init__()\n",
        "\n",
        "    # using linear regression formual\n",
        "    self.linear_layer = nn.Linear(in_features=1, # takes 1 input\n",
        "                                  out_features=1) # returns 1 output\n",
        "\n",
        "  # take input data x and pass it to input layer\n",
        "  def forward(self, x: torch.Tensor) -> torch.Tensor:\n",
        "      return self.linear_layer(x)\n",
        "\n",
        "\n",
        "# set the manual seed\n",
        "torch.manual_seed(42)\n",
        "model_1 = LinearRegressionModelv2()\n",
        "\n",
        "model_1, model_1.state_dict()"
      ],
      "metadata": {
        "colab": {
          "base_uri": "https://localhost:8080/"
        },
        "id": "YvfPFAqWtMhG",
        "outputId": "75a0f1b0-37ef-445c-9362-c6cf7eba61cf"
      },
      "execution_count": 67,
      "outputs": [
        {
          "output_type": "execute_result",
          "data": {
            "text/plain": [
              "(LinearRegressionModelv2(\n",
              "   (linear_layer): Linear(in_features=1, out_features=1, bias=True)\n",
              " ),\n",
              " OrderedDict([('linear_layer.weight', tensor([[0.7645]])),\n",
              "              ('linear_layer.bias', tensor([0.8300]))]))"
            ]
          },
          "metadata": {},
          "execution_count": 67
        }
      ]
    },
    {
      "cell_type": "markdown",
      "source": [
        "### Changing device before training\n",
        "\n"
      ],
      "metadata": {
        "id": "dQiOrOHRw5Ko"
      }
    },
    {
      "cell_type": "code",
      "source": [
        "# check current device\n",
        "next(model_1.parameters()).device"
      ],
      "metadata": {
        "colab": {
          "base_uri": "https://localhost:8080/"
        },
        "id": "mkJldfJYwcBQ",
        "outputId": "c1645002-ca43-4803-d436-d3d0b54c6b92"
      },
      "execution_count": 68,
      "outputs": [
        {
          "output_type": "execute_result",
          "data": {
            "text/plain": [
              "device(type='cpu')"
            ]
          },
          "metadata": {},
          "execution_count": 68
        }
      ]
    },
    {
      "cell_type": "code",
      "source": [
        "# set the model to use the target device\n",
        "model_1.to(device)\n",
        "\n",
        "next(model_1.parameters()).device"
      ],
      "metadata": {
        "colab": {
          "base_uri": "https://localhost:8080/"
        },
        "id": "cbkNJQ6XxlLq",
        "outputId": "882d6d17-01f3-4965-cd66-a1186f4365a6"
      },
      "execution_count": 69,
      "outputs": [
        {
          "output_type": "execute_result",
          "data": {
            "text/plain": [
              "device(type='cuda', index=0)"
            ]
          },
          "metadata": {},
          "execution_count": 69
        }
      ]
    },
    {
      "cell_type": "markdown",
      "source": [
        "### Training the model"
      ],
      "metadata": {
        "id": "3rU0L3plx9sv"
      }
    },
    {
      "cell_type": "code",
      "source": [
        "# setup loss function\n",
        "\n",
        "loss_fn = nn.L1Loss() # same as MAE\n",
        "\n",
        "# setup our optimizer\n",
        "\n",
        "optimizer = torch.optim.SGD(params=model_1.parameters(), # what parameters we have to optimise\n",
        "                            lr=0.01)"
      ],
      "metadata": {
        "id": "H_8Q73mqx3f5"
      },
      "execution_count": 70,
      "outputs": []
    },
    {
      "cell_type": "code",
      "source": [
        "# training loop\n",
        "\n",
        "torch.manual_seed(42)\n",
        "\n",
        "epochs = 201\n",
        "\n",
        "# put data on target device\n",
        "x_train = x_train.to(device)\n",
        "y_train = y_train.to(device)\n",
        "x_test = x_test.to(device)\n",
        "y_test = y_test.to(device)\n",
        "\n",
        "for epoch in range(epochs):\n",
        "\n",
        "  model_1.train()\n",
        "\n",
        "  # 1.forward pass\n",
        "  y_pred = model_1(x_train)\n",
        "\n",
        "  # 2.calculate the loss\n",
        "  loss = loss_fn(y_pred, y_train)\n",
        "\n",
        "  # 3. Optimizer zero grad\n",
        "  optimizer.zero_grad()\n",
        "\n",
        "  # 4. perform back propogation\n",
        "  loss.backward()\n",
        "\n",
        "  # 5. Optimizer step\n",
        "  optimizer.step()\n",
        "\n",
        "  # Testing\n",
        "  model_1.eval()\n",
        "  with torch.inference_mode():\n",
        "    test_pred = model_1(x_test)\n",
        "\n",
        "    test_loss = loss_fn(test_pred, y_test)\n",
        "\n",
        "  # print data\n",
        "\n",
        "  if epoch % 10 == 0:\n",
        "    print(f\"Epoch: {epoch} | Loss: {loss} | Test Loss : {test_loss}\")"
      ],
      "metadata": {
        "colab": {
          "base_uri": "https://localhost:8080/"
        },
        "id": "L5kJShhUylEI",
        "outputId": "7393ae0d-a40a-4edf-d818-bb6e36b18b0d"
      },
      "execution_count": 73,
      "outputs": [
        {
          "output_type": "stream",
          "name": "stdout",
          "text": [
            "Epoch: 0 | Loss: 0.5436570048332214 | Test Loss : 0.560505211353302\n",
            "Epoch: 10 | Loss: 0.42844706773757935 | Test Loss : 0.42579540610313416\n",
            "Epoch: 20 | Loss: 0.31323719024658203 | Test Loss : 0.2910855710506439\n",
            "Epoch: 30 | Loss: 0.1980273425579071 | Test Loss : 0.15637575089931488\n",
            "Epoch: 40 | Loss: 0.0828174576163292 | Test Loss : 0.021665919572114944\n",
            "Epoch: 50 | Loss: 0.023356428369879723 | Test Loss : 0.04883447289466858\n",
            "Epoch: 60 | Loss: 0.019609849900007248 | Test Loss : 0.04538799077272415\n",
            "Epoch: 70 | Loss: 0.01618141122162342 | Test Loss : 0.03711546212434769\n",
            "Epoch: 80 | Loss: 0.012742983177304268 | Test Loss : 0.028842901811003685\n",
            "Epoch: 90 | Loss: 0.00930792186409235 | Test Loss : 0.02125724032521248\n",
            "Epoch: 100 | Loss: 0.005878167692571878 | Test Loss : 0.012984705157577991\n",
            "Epoch: 110 | Loss: 0.0024393596686422825 | Test Loss : 0.004712170455604792\n",
            "Epoch: 120 | Loss: 0.010256479494273663 | Test Loss : 0.00033081771107390523\n",
            "Epoch: 130 | Loss: 0.010256479494273663 | Test Loss : 0.00033081771107390523\n",
            "Epoch: 140 | Loss: 0.010256479494273663 | Test Loss : 0.00033081771107390523\n",
            "Epoch: 150 | Loss: 0.010256479494273663 | Test Loss : 0.00033081771107390523\n",
            "Epoch: 160 | Loss: 0.010256479494273663 | Test Loss : 0.00033081771107390523\n",
            "Epoch: 170 | Loss: 0.010256479494273663 | Test Loss : 0.00033081771107390523\n",
            "Epoch: 180 | Loss: 0.010256479494273663 | Test Loss : 0.00033081771107390523\n",
            "Epoch: 190 | Loss: 0.010256479494273663 | Test Loss : 0.00033081771107390523\n",
            "Epoch: 200 | Loss: 0.010256479494273663 | Test Loss : 0.00033081771107390523\n"
          ]
        }
      ]
    },
    {
      "cell_type": "code",
      "source": [
        "model_1.state_dict()"
      ],
      "metadata": {
        "colab": {
          "base_uri": "https://localhost:8080/"
        },
        "id": "nIx2ZLat0lCX",
        "outputId": "dd1408ee-94fe-4bfe-a040-1b617dbcf42c"
      },
      "execution_count": 77,
      "outputs": [
        {
          "output_type": "execute_result",
          "data": {
            "text/plain": [
              "OrderedDict([('linear_layer.weight', tensor([[0.6968]], device='cuda:0')),\n",
              "             ('linear_layer.bias', tensor([0.3025], device='cuda:0'))])"
            ]
          },
          "metadata": {},
          "execution_count": 77
        }
      ]
    },
    {
      "cell_type": "markdown",
      "source": [
        "### Making and evaluating predicitons"
      ],
      "metadata": {
        "id": "OQkNKJym2U3B"
      }
    },
    {
      "cell_type": "code",
      "source": [
        "# turn model into evaluation mode\n",
        "model_1.eval()\n",
        "\n",
        "# make predictions on the test data\n",
        "with torch.inference_mode():\n",
        "  y_preds = model_1(x_test)\n"
      ],
      "metadata": {
        "id": "0WAK6zdV1yge"
      },
      "execution_count": 82,
      "outputs": []
    },
    {
      "cell_type": "code",
      "source": [
        "# checkout model predictions\n",
        "plot_predictions(predictions=y_preds.cpu(), title=\"plotting predictions\")"
      ],
      "metadata": {
        "colab": {
          "base_uri": "https://localhost:8080/",
          "height": 545
        },
        "id": "rx7c57d_2nmw",
        "outputId": "d6450438-4e7e-42e0-a9ae-d16997b41912"
      },
      "execution_count": 83,
      "outputs": [
        {
          "output_type": "display_data",
          "data": {
            "text/plain": [
              "<Figure size 800x600 with 1 Axes>"
            ],
            "image/png": "[encoded data removed]"
          },
          "metadata": {}
        }
      ]
    },
    {
      "cell_type": "markdown",
      "source": [
        "### Saving and Loading model"
      ],
      "metadata": {
        "id": "G5avdnV93RYe"
      }
    },
    {
      "cell_type": "code",
      "source": [
        "from pathlib import Path\n",
        "\n",
        "# 1. Create directory\n",
        "\n",
        "MODEL_PATH = Path(\"models\")\n",
        "MODEL_PATH.mkdir(parents=True, exist_ok=True)\n",
        "\n",
        "# 2. Create model save path\n",
        "MODEL_NAME = \"01_pytorch_workflow_model_v2.pth\"\n",
        "MODEL_SAVE_PATH = MODEL_PATH / MODEL_NAME\n",
        "\n",
        "# 3 Save model state dict\n",
        "print(f\"Saving model to: {MODEL_SAVE_PATH} \")\n",
        "torch.save(obj=model_1.state_dict(),\n",
        "           f=MODEL_SAVE_PATH)"
      ],
      "metadata": {
        "colab": {
          "base_uri": "https://localhost:8080/"
        },
        "id": "DQxQ6h5r3T1C",
        "outputId": "9e4217d7-8434-4264-ddbd-f6ef52133046"
      },
      "execution_count": 84,
      "outputs": [
        {
          "output_type": "stream",
          "name": "stdout",
          "text": [
            "Saving model to: models/01_pytorch_workflow_model_v2.pth \n"
          ]
        }
      ]
    },
    {
      "cell_type": "code",
      "source": [
        "# Loading a model\n",
        "\n",
        "# create a new instance of linear regression model v2\n",
        "loaded_model_1 = LinearRegressionModelv2()\n",
        "\n",
        "# load the saved model_1 state_dict\n",
        "loaded_model_1.load_state_dict(torch.load(MODEL_SAVE_PATH))\n",
        "\n",
        "# put the loaded model to device\n",
        "loaded_model_1.to(device)"
      ],
      "metadata": {
        "colab": {
          "base_uri": "https://localhost:8080/"
        },
        "id": "zHPrklyR4MH6",
        "outputId": "8b794894-f830-4ef7-aa88-c6056d59020f"
      },
      "execution_count": 86,
      "outputs": [
        {
          "output_type": "execute_result",
          "data": {
            "text/plain": [
              "LinearRegressionModelv2(\n",
              "  (linear_layer): Linear(in_features=1, out_features=1, bias=True)\n",
              ")"
            ]
          },
          "metadata": {},
          "execution_count": 86
        }
      ]
    },
    {
      "cell_type": "code",
      "source": [
        "next(loaded_model_1.parameters()).device"
      ],
      "metadata": {
        "colab": {
          "base_uri": "https://localhost:8080/"
        },
        "id": "S87zydYC4ZdZ",
        "outputId": "6a46d6b2-6fda-4366-db7f-a1a657bac889"
      },
      "execution_count": 88,
      "outputs": [
        {
          "output_type": "execute_result",
          "data": {
            "text/plain": [
              "device(type='cuda', index=0)"
            ]
          },
          "metadata": {},
          "execution_count": 88
        }
      ]
    },
    {
      "cell_type": "code",
      "source": [
        "# Evaluate loaded model\n",
        "\n",
        "loaded_model_1.eval()\n",
        "with torch.inference_mode():\n",
        "  loaded_model_1_preds = loaded_model_1(x_test)\n",
        "\n",
        "y_preds == loaded_model_1_preds"
      ],
      "metadata": {
        "colab": {
          "base_uri": "https://localhost:8080/"
        },
        "id": "mdB7RqVr44yP",
        "outputId": "8254b255-c457-4492-baf7-7b736fba3b45"
      },
      "execution_count": 90,
      "outputs": [
        {
          "output_type": "execute_result",
          "data": {
            "text/plain": [
              "tensor([[True],\n",
              "        [True],\n",
              "        [True],\n",
              "        [True],\n",
              "        [True],\n",
              "        [True],\n",
              "        [True],\n",
              "        [True],\n",
              "        [True],\n",
              "        [True]], device='cuda:0')"
            ]
          },
          "metadata": {},
          "execution_count": 90
        }
      ]
    }
  ]
}